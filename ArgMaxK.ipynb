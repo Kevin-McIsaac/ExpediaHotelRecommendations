{
 "cells": [
  {
   "cell_type": "markdown",
   "metadata": {},
   "source": [
    "For the [Kaggel Expedia Hotel Recommendations](https://www.kaggle.com/c/expedia-hotel-recommendations/data) I have an SFrame of hotel search log data."
   ]
  },
  {
   "cell_type": "code",
   "execution_count": 28,
   "metadata": {
    "ExecuteTime": {
     "end_time": "2016-05-03T03:13:56.817572",
     "start_time": "2016-05-03T03:13:56.811900"
    },
    "collapsed": false
   },
   "outputs": [],
   "source": [
    "import graphlab as gl\n",
    "\n",
    "sf = gl.SFrame({'srch_destination_id':[1, 1, 1, 1, 2, 2, 2], \n",
    "                'relevance':[4.95, 3.9, 0.05, 1.1, 0.2, 1.3, 0.05], \n",
    "                'hotel':[30, 63, 60, 25, 48, 82, 58]})"
   ]
  },
  {
   "cell_type": "markdown",
   "metadata": {},
   "source": [
    "For each srch_destination_id I want to return the top 5 hotels, by relevance. Using a panda I could write something like this:\n",
    "\n",
    "    groupby('srch_destination_id').apply(lambda group, topk(group, 'relevance' k=5) \n",
    "\n",
    "GraphLab doesn't have groupby apply nor a an aggrigation that returns the top 5. This made me think:\n",
    "\n",
    "1. It would be nice to have ARGMAX/ARGMIN extended to return the k MAX/Min items as a list\n",
    "2. I can see a lot of value in a groupby().apply() function. In many ways its the same way groupby works with timeseries.\n",
    "\n",
    "To implement this in GraphLab I wrote the code below. Is there a better way to do this in GraphLab. Also note there is an odd behaviour in apply that turns ints() into floats()"
   ]
  },
  {
   "cell_type": "code",
   "execution_count": 29,
   "metadata": {
    "ExecuteTime": {
     "end_time": "2016-05-03T03:14:32.338259",
     "start_time": "2016-05-03T03:14:32.302447"
    },
    "collapsed": false
   },
   "outputs": [
    {
     "data": {
      "text/html": [
       "<div style=\"max-height:1000px;max-width:1500px;overflow:auto;\"><table frame=\"box\" rules=\"cols\">\n",
       "    <tr>\n",
       "        <th style=\"padding-left: 1em; padding-right: 1em; text-align: center\">srch_destination_id</th>\n",
       "        <th style=\"padding-left: 1em; padding-right: 1em; text-align: center\">hotel_cluster</th>\n",
       "    </tr>\n",
       "    <tr>\n",
       "        <td style=\"padding-left: 1em; padding-right: 1em; text-align: center; vertical-align: top\">2</td>\n",
       "        <td style=\"padding-left: 1em; padding-right: 1em; text-align: center; vertical-align: top\">{1.3: 82, 0.2: 48, 0.05:<br>58} ...</td>\n",
       "    </tr>\n",
       "    <tr>\n",
       "        <td style=\"padding-left: 1em; padding-right: 1em; text-align: center; vertical-align: top\">1</td>\n",
       "        <td style=\"padding-left: 1em; padding-right: 1em; text-align: center; vertical-align: top\">{4.95: 30, 3.9: 63, 1.1:<br>25, 0.05: 60} ...</td>\n",
       "    </tr>\n",
       "</table>\n",
       "[2 rows x 2 columns]<br/>\n",
       "</div>"
      ],
      "text/plain": [
       "Columns:\n",
       "\tsrch_destination_id\tint\n",
       "\thotel_cluster\tdict\n",
       "\n",
       "Rows: 2\n",
       "\n",
       "Data:\n",
       "+---------------------+-------------------------------+\n",
       "| srch_destination_id |         hotel_cluster         |\n",
       "+---------------------+-------------------------------+\n",
       "|          2          |  {1.3: 82, 0.2: 48, 0.05: 58} |\n",
       "|          1          | {4.95: 30, 3.9: 63, 1.1: 2... |\n",
       "+---------------------+-------------------------------+\n",
       "[2 rows x 2 columns]"
      ]
     },
     "execution_count": 29,
     "metadata": {},
     "output_type": "execute_result"
    }
   ],
   "source": [
    "# For each srch_destination_id create a dictonary of relevance:hotel usign CONCAT\n",
    "summary = sf.groupby('srch_destination_id',{'hotel_cluster': gl.aggregate.CONCAT('relevance', 'hotel')})\n",
    "summary"
   ]
  },
  {
   "cell_type": "code",
   "execution_count": 30,
   "metadata": {
    "ExecuteTime": {
     "end_time": "2016-05-03T03:15:01.828772",
     "start_time": "2016-05-03T03:15:01.820898"
    },
    "collapsed": false
   },
   "outputs": [
    {
     "data": {
      "text/plain": [
       "[82, 48, 58]"
      ]
     },
     "execution_count": 30,
     "metadata": {},
     "output_type": "execute_result"
    }
   ],
   "source": [
    "# Create a function to return the top k items in the diction by relevance\n",
    "def arg_max(d, k=3):\n",
    "    topk = sorted(d.keys(), reverse=True)[:k]\n",
    "    return [d[k] for k in topk]\n",
    "\n",
    "arg_max({1.3: 82, 0.2: 48, 0.05:58})"
   ]
  },
  {
   "cell_type": "code",
   "execution_count": 31,
   "metadata": {
    "ExecuteTime": {
     "end_time": "2016-05-03T03:15:45.960669",
     "start_time": "2016-05-03T03:15:45.914691"
    },
    "collapsed": false
   },
   "outputs": [
    {
     "data": {
      "text/html": [
       "<div style=\"max-height:1000px;max-width:1500px;overflow:auto;\"><table frame=\"box\" rules=\"cols\">\n",
       "    <tr>\n",
       "        <th style=\"padding-left: 1em; padding-right: 1em; text-align: center\">srch_destination_id</th>\n",
       "        <th style=\"padding-left: 1em; padding-right: 1em; text-align: center\">hotel_cluster</th>\n",
       "    </tr>\n",
       "    <tr>\n",
       "        <td style=\"padding-left: 1em; padding-right: 1em; text-align: center; vertical-align: top\">2</td>\n",
       "        <td style=\"padding-left: 1em; padding-right: 1em; text-align: center; vertical-align: top\">[82.0, 48.0, 58.0]</td>\n",
       "    </tr>\n",
       "    <tr>\n",
       "        <td style=\"padding-left: 1em; padding-right: 1em; text-align: center; vertical-align: top\">1</td>\n",
       "        <td style=\"padding-left: 1em; padding-right: 1em; text-align: center; vertical-align: top\">[30.0, 63.0, 25.0, 60.0]</td>\n",
       "    </tr>\n",
       "</table>\n",
       "[2 rows x 2 columns]<br/>\n",
       "</div>"
      ],
      "text/plain": [
       "Columns:\n",
       "\tsrch_destination_id\tint\n",
       "\thotel_cluster\tarray\n",
       "\n",
       "Rows: 2\n",
       "\n",
       "Data:\n",
       "+---------------------+--------------------------+\n",
       "| srch_destination_id |      hotel_cluster       |\n",
       "+---------------------+--------------------------+\n",
       "|          2          |    [82.0, 48.0, 58.0]    |\n",
       "|          1          | [30.0, 63.0, 25.0, 60.0] |\n",
       "+---------------------+--------------------------+\n",
       "[2 rows x 2 columns]"
      ]
     },
     "execution_count": 31,
     "metadata": {},
     "output_type": "execute_result"
    }
   ],
   "source": [
    "# Apply this function to each row to create the top 5 resules by releance, with the most relevant first.\n",
    "# NOTE - for some reason this change the hotel id from an int() to a float()\n",
    "summary['hotel_cluster'] = summary['hotel_cluster'].apply(lambda d: arg_max(d, k=5))\n",
    "summary"
   ]
  },
  {
   "cell_type": "code",
   "execution_count": null,
   "metadata": {
    "collapsed": true
   },
   "outputs": [],
   "source": []
  }
 ],
 "metadata": {
  "kernelspec": {
   "display_name": "Python 2",
   "language": "python",
   "name": "python2"
  },
  "language_info": {
   "codemirror_mode": {
    "name": "ipython",
    "version": 2
   },
   "file_extension": ".py",
   "mimetype": "text/x-python",
   "name": "python",
   "nbconvert_exporter": "python",
   "pygments_lexer": "ipython2",
   "version": "2.7.11"
  },
  "toc": {
   "toc_cell": false,
   "toc_number_sections": false,
   "toc_threshold": "2",
   "toc_window_display": true
  }
 },
 "nbformat": 4,
 "nbformat_minor": 0
}
