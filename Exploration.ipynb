{
 "cells": [
  {
   "cell_type": "markdown",
   "metadata": {
    "level": 2
   },
   "source": [
    "## Initalise"
   ]
  },
  {
   "cell_type": "code",
   "execution_count": 1,
   "metadata": {
    "ExecuteTime": {
     "end_time": "2016-05-03T23:47:19.174910",
     "start_time": "2016-05-03T23:47:19.163021"
    },
    "code_folding": [
     0
    ],
    "collapsed": false,
    "init_cell": true
   },
   "outputs": [
    {
     "data": {
      "text/html": [
       "\n",
       "<style>\n",
       ".container {\n",
       "    width: 100%;\n",
       "}\n",
       "</style>\n"
      ],
      "text/plain": [
       "<IPython.core.display.HTML object>"
      ]
     },
     "execution_count": 1,
     "metadata": {},
     "output_type": "execute_result"
    }
   ],
   "source": [
    "# Set full page width\n",
    "from IPython.core.display import HTML\n",
    "HTML(\"\"\"\n",
    "<style>\n",
    ".container {\n",
    "    width: 100%;\n",
    "}\n",
    "</style>\n",
    "\"\"\")"
   ]
  },
  {
   "cell_type": "code",
   "execution_count": 2,
   "metadata": {
    "ExecuteTime": {
     "end_time": "2016-05-03T23:47:21.970167",
     "start_time": "2016-05-03T23:47:19.206279"
    },
    "collapsed": false,
    "init_cell": true,
    "level": 7
   },
   "outputs": [
    {
     "name": "stderr",
     "output_type": "stream",
     "text": [
      "2016-05-03 23:47:21,732 [INFO] graphlab.cython.cy_server, 176: GraphLab Create v1.9 started. Logging: /tmp/graphlab_server_1462319240.log\n"
     ]
    },
    {
     "name": "stdout",
     "output_type": "stream",
     "text": [
      "This non-commercial license of GraphLab Create is assigned to kevin.mcisaac@gmail.com and will expire on November 06, 2016. For commercial licensing options, visit https://dato.com/buy/.\n"
     ]
    },
    {
     "name": "stderr",
     "output_type": "stream",
     "text": [
      "/home/ec2-user/anaconda2/envs/dato-env/lib/python2.7/site-packages/matplotlib/__init__.py:872: UserWarning: axes.color_cycle is deprecated and replaced with axes.prop_cycle; please use the latter.\n",
      "  warnings.warn(self.msg_depr % (key, alt_key))\n"
     ]
    }
   ],
   "source": [
    "import graphlab as gl\n",
    "gl.canvas.set_target('ipynb')\n",
    "import datetime\n",
    "import os as os\n",
    "\n",
    "%matplotlib inline\n",
    "import matplotlib.pyplot as plt\n",
    "\n",
    "import seaborn as sns\n",
    "sns.set()\n",
    "\n",
    "# for large number of cores in a machine\n",
    "gl.set_runtime_config('GRAPHLAB_DEFAULT_NUM_PYLAMBDA_WORKERS', 32)"
   ]
  },
  {
   "cell_type": "markdown",
   "metadata": {},
   "source": [
    "# Load Data and save in fast binary format\n",
    "\n",
    "The training data contains 37.6M rows. 8% are bookings, the remainder are clicks. The test data contains 2.5M rows where all are bookings.\n",
    "\n",
    "Missing data\n",
    "- 47k search checkin and check out dates. These are dropped.\n",
    "- 167k rows are missing d1-d149 from destinations\n",
    "- 36% of the distances are missing"
   ]
  },
  {
   "cell_type": "code",
   "execution_count": null,
   "metadata": {
    "ExecuteTime": {
     "end_time": "2016-05-02T22:00:02.112603",
     "start_time": "2016-05-02T21:58:13.525690"
    },
    "collapsed": true
   },
   "outputs": [],
   "source": [
    "train = gl.SFrame('Data/train.csv')"
   ]
  },
  {
   "cell_type": "code",
   "execution_count": null,
   "metadata": {
    "ExecuteTime": {
     "end_time": "2016-05-01T02:12:49.664698",
     "start_time": "2016-05-01T01:54:13.484656"
    },
    "collapsed": true
   },
   "outputs": [],
   "source": [
    "test = gl.SFrame('Data/test.csv')\n",
    "destinations = gl.SFrame('Data/destinations.csv')\n",
    "\n",
    "print \"Train:\", len(train), \"Destinations:\", len(destinations)"
   ]
  },
  {
   "cell_type": "code",
   "execution_count": null,
   "metadata": {
    "ExecuteTime": {
     "end_time": "2016-05-01T02:14:38.426217",
     "start_time": "2016-05-01T02:14:30.499691"
    },
    "collapsed": true
   },
   "outputs": [],
   "source": [
    "train.save('Data/train_raw')\n",
    "test.save('Data/test_raw')\n",
    "destinations.save('Data/destinations')"
   ]
  },
  {
   "cell_type": "markdown",
   "metadata": {},
   "source": [
    "## Exploration of the data"
   ]
  },
  {
   "cell_type": "code",
   "execution_count": 7,
   "metadata": {
    "ExecuteTime": {
     "end_time": "2016-05-04T00:01:33.931904",
     "start_time": "2016-05-04T00:01:33.755407"
    },
    "collapsed": false
   },
   "outputs": [
    {
     "name": "stdout",
     "output_type": "stream",
     "text": [
      "Train: 37670293\n"
     ]
    }
   ],
   "source": [
    "train = gl.SFrame('Data/train_raw')\n",
    "test = gl.SFrame('Data/test_raw')\n",
    "print \"Train:\", len(train)"
   ]
  },
  {
   "cell_type": "code",
   "execution_count": null,
   "metadata": {
    "collapsed": true
   },
   "outputs": [],
   "source": []
  },
  {
   "cell_type": "code",
   "execution_count": null,
   "metadata": {
    "collapsed": true
   },
   "outputs": [],
   "source": []
  },
  {
   "cell_type": "code",
   "execution_count": 4,
   "metadata": {
    "ExecuteTime": {
     "end_time": "2016-05-03T23:47:30.943526",
     "start_time": "2016-05-03T23:47:29.901645"
    },
    "collapsed": false
   },
   "outputs": [
    {
     "data": {
      "text/html": [
       "<div style=\"max-height:1000px;max-width:1500px;overflow:auto;\"><table frame=\"box\" rules=\"cols\">\n",
       "    <tr>\n",
       "        <th style=\"padding-left: 1em; padding-right: 1em; text-align: center\">srch_destination_id</th>\n",
       "        <th style=\"padding-left: 1em; padding-right: 1em; text-align: center\">is_booking</th>\n",
       "        <th style=\"padding-left: 1em; padding-right: 1em; text-align: center\">cnt</th>\n",
       "    </tr>\n",
       "    <tr>\n",
       "        <td style=\"padding-left: 1em; padding-right: 1em; text-align: center; vertical-align: top\">8250</td>\n",
       "        <td style=\"padding-left: 1em; padding-right: 1em; text-align: center; vertical-align: top\">0</td>\n",
       "        <td style=\"padding-left: 1em; padding-right: 1em; text-align: center; vertical-align: top\">3</td>\n",
       "    </tr>\n",
       "    <tr>\n",
       "        <td style=\"padding-left: 1em; padding-right: 1em; text-align: center; vertical-align: top\">8250</td>\n",
       "        <td style=\"padding-left: 1em; padding-right: 1em; text-align: center; vertical-align: top\">1</td>\n",
       "        <td style=\"padding-left: 1em; padding-right: 1em; text-align: center; vertical-align: top\">1</td>\n",
       "    </tr>\n",
       "    <tr>\n",
       "        <td style=\"padding-left: 1em; padding-right: 1em; text-align: center; vertical-align: top\">8250</td>\n",
       "        <td style=\"padding-left: 1em; padding-right: 1em; text-align: center; vertical-align: top\">0</td>\n",
       "        <td style=\"padding-left: 1em; padding-right: 1em; text-align: center; vertical-align: top\">1</td>\n",
       "    </tr>\n",
       "    <tr>\n",
       "        <td style=\"padding-left: 1em; padding-right: 1em; text-align: center; vertical-align: top\">14984</td>\n",
       "        <td style=\"padding-left: 1em; padding-right: 1em; text-align: center; vertical-align: top\">0</td>\n",
       "        <td style=\"padding-left: 1em; padding-right: 1em; text-align: center; vertical-align: top\">1</td>\n",
       "    </tr>\n",
       "    <tr>\n",
       "        <td style=\"padding-left: 1em; padding-right: 1em; text-align: center; vertical-align: top\">14984</td>\n",
       "        <td style=\"padding-left: 1em; padding-right: 1em; text-align: center; vertical-align: top\">0</td>\n",
       "        <td style=\"padding-left: 1em; padding-right: 1em; text-align: center; vertical-align: top\">1</td>\n",
       "    </tr>\n",
       "    <tr>\n",
       "        <td style=\"padding-left: 1em; padding-right: 1em; text-align: center; vertical-align: top\">14984</td>\n",
       "        <td style=\"padding-left: 1em; padding-right: 1em; text-align: center; vertical-align: top\">0</td>\n",
       "        <td style=\"padding-left: 1em; padding-right: 1em; text-align: center; vertical-align: top\">1</td>\n",
       "    </tr>\n",
       "    <tr>\n",
       "        <td style=\"padding-left: 1em; padding-right: 1em; text-align: center; vertical-align: top\">8267</td>\n",
       "        <td style=\"padding-left: 1em; padding-right: 1em; text-align: center; vertical-align: top\">0</td>\n",
       "        <td style=\"padding-left: 1em; padding-right: 1em; text-align: center; vertical-align: top\">2</td>\n",
       "    </tr>\n",
       "    <tr>\n",
       "        <td style=\"padding-left: 1em; padding-right: 1em; text-align: center; vertical-align: top\">8267</td>\n",
       "        <td style=\"padding-left: 1em; padding-right: 1em; text-align: center; vertical-align: top\">0</td>\n",
       "        <td style=\"padding-left: 1em; padding-right: 1em; text-align: center; vertical-align: top\">1</td>\n",
       "    </tr>\n",
       "    <tr>\n",
       "        <td style=\"padding-left: 1em; padding-right: 1em; text-align: center; vertical-align: top\">8267</td>\n",
       "        <td style=\"padding-left: 1em; padding-right: 1em; text-align: center; vertical-align: top\">0</td>\n",
       "        <td style=\"padding-left: 1em; padding-right: 1em; text-align: center; vertical-align: top\">1</td>\n",
       "    </tr>\n",
       "    <tr>\n",
       "        <td style=\"padding-left: 1em; padding-right: 1em; text-align: center; vertical-align: top\">8267</td>\n",
       "        <td style=\"padding-left: 1em; padding-right: 1em; text-align: center; vertical-align: top\">0</td>\n",
       "        <td style=\"padding-left: 1em; padding-right: 1em; text-align: center; vertical-align: top\">1</td>\n",
       "    </tr>\n",
       "</table>\n",
       "[37670293 rows x 3 columns]<br/>Note: Only the head of the SFrame is printed.<br/>You can use print_rows(num_rows=m, num_columns=n) to print more rows and columns.\n",
       "</div>"
      ],
      "text/plain": [
       "Columns:\n",
       "\tsrch_destination_id\tint\n",
       "\tis_booking\tint\n",
       "\tcnt\tint\n",
       "\n",
       "Rows: 37670293\n",
       "\n",
       "Data:\n",
       "+---------------------+------------+-----+\n",
       "| srch_destination_id | is_booking | cnt |\n",
       "+---------------------+------------+-----+\n",
       "|         8250        |     0      |  3  |\n",
       "|         8250        |     1      |  1  |\n",
       "|         8250        |     0      |  1  |\n",
       "|        14984        |     0      |  1  |\n",
       "|        14984        |     0      |  1  |\n",
       "|        14984        |     0      |  1  |\n",
       "|         8267        |     0      |  2  |\n",
       "|         8267        |     0      |  1  |\n",
       "|         8267        |     0      |  1  |\n",
       "|         8267        |     0      |  1  |\n",
       "+---------------------+------------+-----+\n",
       "[37670293 rows x 3 columns]\n",
       "Note: Only the head of the SFrame is printed.\n",
       "You can use print_rows(num_rows=m, num_columns=n) to print more rows and columns."
      ]
     },
     "execution_count": 4,
     "metadata": {},
     "output_type": "execute_result"
    }
   ],
   "source": [
    "train['srch_destination_id', 'is_booking', 'cnt']"
   ]
  },
  {
   "cell_type": "code",
   "execution_count": 11,
   "metadata": {
    "ExecuteTime": {
     "end_time": "2016-05-04T00:03:47.242452",
     "start_time": "2016-05-04T00:03:47.238260"
    },
    "collapsed": false
   },
   "outputs": [
    {
     "data": {
      "text/plain": [
       "{'cnt', 'hotel_cluster', 'is_booking'}"
      ]
     },
     "execution_count": 11,
     "metadata": {},
     "output_type": "execute_result"
    }
   ],
   "source": [
    "set(train.column_names()) - set(test.column_names())"
   ]
  },
  {
   "cell_type": "code",
   "execution_count": 6,
   "metadata": {
    "ExecuteTime": {
     "end_time": "2016-05-03T23:56:17.867388",
     "start_time": "2016-05-03T23:56:11.834390"
    },
    "collapsed": true
   },
   "outputs": [
    {
     "data": {
      "text/html": [
       "<div style=\"max-height:1000px;max-width:1500px;overflow:auto;\"><table frame=\"box\" rules=\"cols\">\n",
       "    <tr>\n",
       "        <th style=\"padding-left: 1em; padding-right: 1em; text-align: center\">date_time</th>\n",
       "        <th style=\"padding-left: 1em; padding-right: 1em; text-align: center\">site_name</th>\n",
       "        <th style=\"padding-left: 1em; padding-right: 1em; text-align: center\">posa_continent</th>\n",
       "        <th style=\"padding-left: 1em; padding-right: 1em; text-align: center\">user_location_country</th>\n",
       "        <th style=\"padding-left: 1em; padding-right: 1em; text-align: center\">user_location_region</th>\n",
       "        <th style=\"padding-left: 1em; padding-right: 1em; text-align: center\">user_location_city</th>\n",
       "    </tr>\n",
       "    <tr>\n",
       "        <td style=\"padding-left: 1em; padding-right: 1em; text-align: center; vertical-align: top\">2014-08-11 07:46:59</td>\n",
       "        <td style=\"padding-left: 1em; padding-right: 1em; text-align: center; vertical-align: top\">2</td>\n",
       "        <td style=\"padding-left: 1em; padding-right: 1em; text-align: center; vertical-align: top\">3</td>\n",
       "        <td style=\"padding-left: 1em; padding-right: 1em; text-align: center; vertical-align: top\">66</td>\n",
       "        <td style=\"padding-left: 1em; padding-right: 1em; text-align: center; vertical-align: top\">348</td>\n",
       "        <td style=\"padding-left: 1em; padding-right: 1em; text-align: center; vertical-align: top\">48862</td>\n",
       "    </tr>\n",
       "    <tr>\n",
       "        <td style=\"padding-left: 1em; padding-right: 1em; text-align: center; vertical-align: top\">2014-08-11 08:22:12</td>\n",
       "        <td style=\"padding-left: 1em; padding-right: 1em; text-align: center; vertical-align: top\">2</td>\n",
       "        <td style=\"padding-left: 1em; padding-right: 1em; text-align: center; vertical-align: top\">3</td>\n",
       "        <td style=\"padding-left: 1em; padding-right: 1em; text-align: center; vertical-align: top\">66</td>\n",
       "        <td style=\"padding-left: 1em; padding-right: 1em; text-align: center; vertical-align: top\">348</td>\n",
       "        <td style=\"padding-left: 1em; padding-right: 1em; text-align: center; vertical-align: top\">48862</td>\n",
       "    </tr>\n",
       "    <tr>\n",
       "        <td style=\"padding-left: 1em; padding-right: 1em; text-align: center; vertical-align: top\">2014-08-11 08:24:33</td>\n",
       "        <td style=\"padding-left: 1em; padding-right: 1em; text-align: center; vertical-align: top\">2</td>\n",
       "        <td style=\"padding-left: 1em; padding-right: 1em; text-align: center; vertical-align: top\">3</td>\n",
       "        <td style=\"padding-left: 1em; padding-right: 1em; text-align: center; vertical-align: top\">66</td>\n",
       "        <td style=\"padding-left: 1em; padding-right: 1em; text-align: center; vertical-align: top\">348</td>\n",
       "        <td style=\"padding-left: 1em; padding-right: 1em; text-align: center; vertical-align: top\">48862</td>\n",
       "    </tr>\n",
       "</table>\n",
       "<table frame=\"box\" rules=\"cols\">\n",
       "    <tr>\n",
       "        <th style=\"padding-left: 1em; padding-right: 1em; text-align: center\">orig_destination_distance</th>\n",
       "        <th style=\"padding-left: 1em; padding-right: 1em; text-align: center\">user_id</th>\n",
       "        <th style=\"padding-left: 1em; padding-right: 1em; text-align: center\">is_mobile</th>\n",
       "        <th style=\"padding-left: 1em; padding-right: 1em; text-align: center\">is_package</th>\n",
       "        <th style=\"padding-left: 1em; padding-right: 1em; text-align: center\">channel</th>\n",
       "        <th style=\"padding-left: 1em; padding-right: 1em; text-align: center\">srch_ci</th>\n",
       "        <th style=\"padding-left: 1em; padding-right: 1em; text-align: center\">srch_co</th>\n",
       "        <th style=\"padding-left: 1em; padding-right: 1em; text-align: center\">srch_adults_cnt</th>\n",
       "        <th style=\"padding-left: 1em; padding-right: 1em; text-align: center\">srch_children_cnt</th>\n",
       "    </tr>\n",
       "    <tr>\n",
       "        <td style=\"padding-left: 1em; padding-right: 1em; text-align: center; vertical-align: top\">2234.2641</td>\n",
       "        <td style=\"padding-left: 1em; padding-right: 1em; text-align: center; vertical-align: top\">12</td>\n",
       "        <td style=\"padding-left: 1em; padding-right: 1em; text-align: center; vertical-align: top\">0</td>\n",
       "        <td style=\"padding-left: 1em; padding-right: 1em; text-align: center; vertical-align: top\">1</td>\n",
       "        <td style=\"padding-left: 1em; padding-right: 1em; text-align: center; vertical-align: top\">9</td>\n",
       "        <td style=\"padding-left: 1em; padding-right: 1em; text-align: center; vertical-align: top\">2014-08-27</td>\n",
       "        <td style=\"padding-left: 1em; padding-right: 1em; text-align: center; vertical-align: top\">2014-08-31</td>\n",
       "        <td style=\"padding-left: 1em; padding-right: 1em; text-align: center; vertical-align: top\">2</td>\n",
       "        <td style=\"padding-left: 1em; padding-right: 1em; text-align: center; vertical-align: top\">0</td>\n",
       "    </tr>\n",
       "    <tr>\n",
       "        <td style=\"padding-left: 1em; padding-right: 1em; text-align: center; vertical-align: top\">2234.2641</td>\n",
       "        <td style=\"padding-left: 1em; padding-right: 1em; text-align: center; vertical-align: top\">12</td>\n",
       "        <td style=\"padding-left: 1em; padding-right: 1em; text-align: center; vertical-align: top\">0</td>\n",
       "        <td style=\"padding-left: 1em; padding-right: 1em; text-align: center; vertical-align: top\">1</td>\n",
       "        <td style=\"padding-left: 1em; padding-right: 1em; text-align: center; vertical-align: top\">9</td>\n",
       "        <td style=\"padding-left: 1em; padding-right: 1em; text-align: center; vertical-align: top\">2014-08-29</td>\n",
       "        <td style=\"padding-left: 1em; padding-right: 1em; text-align: center; vertical-align: top\">2014-09-02</td>\n",
       "        <td style=\"padding-left: 1em; padding-right: 1em; text-align: center; vertical-align: top\">2</td>\n",
       "        <td style=\"padding-left: 1em; padding-right: 1em; text-align: center; vertical-align: top\">0</td>\n",
       "    </tr>\n",
       "    <tr>\n",
       "        <td style=\"padding-left: 1em; padding-right: 1em; text-align: center; vertical-align: top\">2234.2641</td>\n",
       "        <td style=\"padding-left: 1em; padding-right: 1em; text-align: center; vertical-align: top\">12</td>\n",
       "        <td style=\"padding-left: 1em; padding-right: 1em; text-align: center; vertical-align: top\">0</td>\n",
       "        <td style=\"padding-left: 1em; padding-right: 1em; text-align: center; vertical-align: top\">0</td>\n",
       "        <td style=\"padding-left: 1em; padding-right: 1em; text-align: center; vertical-align: top\">9</td>\n",
       "        <td style=\"padding-left: 1em; padding-right: 1em; text-align: center; vertical-align: top\">2014-08-29</td>\n",
       "        <td style=\"padding-left: 1em; padding-right: 1em; text-align: center; vertical-align: top\">2014-09-02</td>\n",
       "        <td style=\"padding-left: 1em; padding-right: 1em; text-align: center; vertical-align: top\">2</td>\n",
       "        <td style=\"padding-left: 1em; padding-right: 1em; text-align: center; vertical-align: top\">0</td>\n",
       "    </tr>\n",
       "</table>\n",
       "<table frame=\"box\" rules=\"cols\">\n",
       "    <tr>\n",
       "        <th style=\"padding-left: 1em; padding-right: 1em; text-align: center\">srch_rm_cnt</th>\n",
       "        <th style=\"padding-left: 1em; padding-right: 1em; text-align: center\">srch_destination_id</th>\n",
       "        <th style=\"padding-left: 1em; padding-right: 1em; text-align: center\">srch_destination_type_id</th>\n",
       "        <th style=\"padding-left: 1em; padding-right: 1em; text-align: center\">is_booking</th>\n",
       "        <th style=\"padding-left: 1em; padding-right: 1em; text-align: center\">cnt</th>\n",
       "        <th style=\"padding-left: 1em; padding-right: 1em; text-align: center\">hotel_continent</th>\n",
       "        <th style=\"padding-left: 1em; padding-right: 1em; text-align: center\">hotel_country</th>\n",
       "    </tr>\n",
       "    <tr>\n",
       "        <td style=\"padding-left: 1em; padding-right: 1em; text-align: center; vertical-align: top\">1</td>\n",
       "        <td style=\"padding-left: 1em; padding-right: 1em; text-align: center; vertical-align: top\">8250</td>\n",
       "        <td style=\"padding-left: 1em; padding-right: 1em; text-align: center; vertical-align: top\">1</td>\n",
       "        <td style=\"padding-left: 1em; padding-right: 1em; text-align: center; vertical-align: top\">0</td>\n",
       "        <td style=\"padding-left: 1em; padding-right: 1em; text-align: center; vertical-align: top\">3</td>\n",
       "        <td style=\"padding-left: 1em; padding-right: 1em; text-align: center; vertical-align: top\">2</td>\n",
       "        <td style=\"padding-left: 1em; padding-right: 1em; text-align: center; vertical-align: top\">50</td>\n",
       "    </tr>\n",
       "    <tr>\n",
       "        <td style=\"padding-left: 1em; padding-right: 1em; text-align: center; vertical-align: top\">1</td>\n",
       "        <td style=\"padding-left: 1em; padding-right: 1em; text-align: center; vertical-align: top\">8250</td>\n",
       "        <td style=\"padding-left: 1em; padding-right: 1em; text-align: center; vertical-align: top\">1</td>\n",
       "        <td style=\"padding-left: 1em; padding-right: 1em; text-align: center; vertical-align: top\">1</td>\n",
       "        <td style=\"padding-left: 1em; padding-right: 1em; text-align: center; vertical-align: top\">1</td>\n",
       "        <td style=\"padding-left: 1em; padding-right: 1em; text-align: center; vertical-align: top\">2</td>\n",
       "        <td style=\"padding-left: 1em; padding-right: 1em; text-align: center; vertical-align: top\">50</td>\n",
       "    </tr>\n",
       "    <tr>\n",
       "        <td style=\"padding-left: 1em; padding-right: 1em; text-align: center; vertical-align: top\">1</td>\n",
       "        <td style=\"padding-left: 1em; padding-right: 1em; text-align: center; vertical-align: top\">8250</td>\n",
       "        <td style=\"padding-left: 1em; padding-right: 1em; text-align: center; vertical-align: top\">1</td>\n",
       "        <td style=\"padding-left: 1em; padding-right: 1em; text-align: center; vertical-align: top\">0</td>\n",
       "        <td style=\"padding-left: 1em; padding-right: 1em; text-align: center; vertical-align: top\">1</td>\n",
       "        <td style=\"padding-left: 1em; padding-right: 1em; text-align: center; vertical-align: top\">2</td>\n",
       "        <td style=\"padding-left: 1em; padding-right: 1em; text-align: center; vertical-align: top\">50</td>\n",
       "    </tr>\n",
       "</table>\n",
       "<table frame=\"box\" rules=\"cols\">\n",
       "    <tr>\n",
       "        <th style=\"padding-left: 1em; padding-right: 1em; text-align: center\">hotel_market</th>\n",
       "        <th style=\"padding-left: 1em; padding-right: 1em; text-align: center\">hotel_cluster</th>\n",
       "    </tr>\n",
       "    <tr>\n",
       "        <td style=\"padding-left: 1em; padding-right: 1em; text-align: center; vertical-align: top\">628</td>\n",
       "        <td style=\"padding-left: 1em; padding-right: 1em; text-align: center; vertical-align: top\">1</td>\n",
       "    </tr>\n",
       "    <tr>\n",
       "        <td style=\"padding-left: 1em; padding-right: 1em; text-align: center; vertical-align: top\">628</td>\n",
       "        <td style=\"padding-left: 1em; padding-right: 1em; text-align: center; vertical-align: top\">1</td>\n",
       "    </tr>\n",
       "    <tr>\n",
       "        <td style=\"padding-left: 1em; padding-right: 1em; text-align: center; vertical-align: top\">628</td>\n",
       "        <td style=\"padding-left: 1em; padding-right: 1em; text-align: center; vertical-align: top\">1</td>\n",
       "    </tr>\n",
       "</table>\n",
       "[3 rows x 24 columns]<br/>\n",
       "</div>"
      ],
      "text/plain": [
       "Columns:\n",
       "\tdate_time\tstr\n",
       "\tsite_name\tint\n",
       "\tposa_continent\tint\n",
       "\tuser_location_country\tint\n",
       "\tuser_location_region\tint\n",
       "\tuser_location_city\tint\n",
       "\torig_destination_distance\tfloat\n",
       "\tuser_id\tint\n",
       "\tis_mobile\tint\n",
       "\tis_package\tint\n",
       "\tchannel\tint\n",
       "\tsrch_ci\tstr\n",
       "\tsrch_co\tstr\n",
       "\tsrch_adults_cnt\tint\n",
       "\tsrch_children_cnt\tint\n",
       "\tsrch_rm_cnt\tint\n",
       "\tsrch_destination_id\tint\n",
       "\tsrch_destination_type_id\tint\n",
       "\tis_booking\tint\n",
       "\tcnt\tint\n",
       "\thotel_continent\tint\n",
       "\thotel_country\tint\n",
       "\thotel_market\tint\n",
       "\thotel_cluster\tint\n",
       "\n",
       "Rows: 3\n",
       "\n",
       "Data:\n",
       "+---------------------+-----------+----------------+-----------------------+----------------------+\n",
       "|      date_time      | site_name | posa_continent | user_location_country | user_location_region |\n",
       "+---------------------+-----------+----------------+-----------------------+----------------------+\n",
       "| 2014-08-11 07:46:59 |     2     |       3        |           66          |         348          |\n",
       "| 2014-08-11 08:22:12 |     2     |       3        |           66          |         348          |\n",
       "| 2014-08-11 08:24:33 |     2     |       3        |           66          |         348          |\n",
       "+---------------------+-----------+----------------+-----------------------+----------------------+\n",
       "+--------------------+---------------------------+---------+-----------+------------+\n",
       "| user_location_city | orig_destination_distance | user_id | is_mobile | is_package |\n",
       "+--------------------+---------------------------+---------+-----------+------------+\n",
       "|       48862        |         2234.2641         |    12   |     0     |     1      |\n",
       "|       48862        |         2234.2641         |    12   |     0     |     1      |\n",
       "|       48862        |         2234.2641         |    12   |     0     |     0      |\n",
       "+--------------------+---------------------------+---------+-----------+------------+\n",
       "+---------+------------+------------+-----------------+-------------------+-------------+\n",
       "| channel |  srch_ci   |  srch_co   | srch_adults_cnt | srch_children_cnt | srch_rm_cnt |\n",
       "+---------+------------+------------+-----------------+-------------------+-------------+\n",
       "|    9    | 2014-08-27 | 2014-08-31 |        2        |         0         |      1      |\n",
       "|    9    | 2014-08-29 | 2014-09-02 |        2        |         0         |      1      |\n",
       "|    9    | 2014-08-29 | 2014-09-02 |        2        |         0         |      1      |\n",
       "+---------+------------+------------+-----------------+-------------------+-------------+\n",
       "+---------------------+--------------------------+------------+-----+-----+\n",
       "| srch_destination_id | srch_destination_type_id | is_booking | cnt | ... |\n",
       "+---------------------+--------------------------+------------+-----+-----+\n",
       "|         8250        |            1             |     0      |  3  | ... |\n",
       "|         8250        |            1             |     1      |  1  | ... |\n",
       "|         8250        |            1             |     0      |  1  | ... |\n",
       "+---------------------+--------------------------+------------+-----+-----+\n",
       "[3 rows x 24 columns]"
      ]
     },
     "execution_count": 6,
     "metadata": {},
     "output_type": "execute_result"
    }
   ],
   "source": [
    "train.filter_by(12, 'user_id')"
   ]
  },
  {
   "cell_type": "markdown",
   "metadata": {},
   "source": [
    "# Feature Engineering"
   ]
  },
  {
   "cell_type": "code",
   "execution_count": null,
   "metadata": {
    "ExecuteTime": {
     "end_time": "2016-05-01T03:52:46.928809",
     "start_time": "2016-05-01T03:52:46.917251"
    },
    "collapsed": false
   },
   "outputs": [],
   "source": [
    "train = gl.SFrame('Data/train_raw')\n",
    "print \"Train:\", len(train)"
   ]
  },
  {
   "cell_type": "code",
   "execution_count": 15,
   "metadata": {
    "ExecuteTime": {
     "end_time": "2016-05-04T00:39:25.444883",
     "start_time": "2016-05-04T00:37:33.234407"
    },
    "collapsed": false
   },
   "outputs": [],
   "source": [
    "# drop rows with blank check in or out dates\n",
    "train = train[train['srch_ci'] != '']\n",
    "train = train[train['srch_co'] != '']\n",
    "\n",
    "#convert dates to datetime format to simplify feature engineering\n",
    "train['date_time'] = train['date_time'].str_to_datetime(str_format='%Y-%m-%d %H:%M:%S')\n",
    "train['srch_co'] = train['srch_ci'].str_to_datetime(str_format='%Y-%m-%d')\n",
    "train['srch_ci'] = train['srch_ci'].str_to_datetime(str_format='%Y-%m-%d')\n",
    "\n",
    "#split dates  into components\n",
    "train.add_columns(train['date_time'].split_datetime(column_name_prefix='date_time',limit=['year', 'month', 'day', 'hour', 'weekday']));\n",
    "train.add_columns(train['srch_co'].split_datetime(column_name_prefix='srch_co',limit=['year', 'month', 'day', 'weekday']))\n",
    "train.add_columns(train['srch_ci'].split_datetime(column_name_prefix='srch_ci',limit=['year', 'month', 'day', 'weekday']));\n",
    "\n",
    "#calculate days till check in and duration of stay\n",
    "train['days_till_ci'] = train.apply(lambda row: (row['srch_ci'] - row['date_time']).days)\n",
    "train['days_stay'] = train.apply(lambda row: (row['srch_co'] - row['srch_ci']).days)\n",
    "\n",
    "train.save('Data/train_fe')"
   ]
  },
  {
   "cell_type": "code",
   "execution_count": null,
   "metadata": {
    "ExecuteTime": {
     "end_time": "2016-05-01T02:44:26.932027",
     "start_time": "2016-05-01T02:43:32.656864"
    },
    "collapsed": false
   },
   "outputs": [],
   "source": [
    "#joining the data with destinations  massively increases the size of the data set, making it hard to work with \n",
    "#train = train.join(destinations, on='srch_destination_id', how='left')"
   ]
  },
  {
   "cell_type": "markdown",
   "metadata": {},
   "source": [
    "# Modeling "
   ]
  },
  {
   "cell_type": "code",
   "execution_count": 16,
   "metadata": {
    "ExecuteTime": {
     "end_time": "2016-05-04T00:40:49.489604",
     "start_time": "2016-05-04T00:40:49.445618"
    },
    "collapsed": false
   },
   "outputs": [],
   "source": [
    "train = gl.SFrame('Data/train_fe')"
   ]
  },
  {
   "cell_type": "code",
   "execution_count": 18,
   "metadata": {
    "ExecuteTime": {
     "end_time": "2016-05-04T00:42:14.034048",
     "start_time": "2016-05-04T00:42:14.029562"
    },
    "collapsed": false
   },
   "outputs": [
    {
     "name": "stdout",
     "output_type": "stream",
     "text": [
      "['site_name', 'user_location_country', 'srch_co.day', 'srch_adults_cnt', 'srch_ci.month', 'posa_continent', 'srch_ci.day', 'hotel_country', 'user_location_region', 'hotel_continent', 'srch_destination_id', 'date_time.month', 'user_id', 'date_time.year', 'srch_co.weekday', 'srch_destination_type_id', 'is_mobile', 'srch_ci.year', 'channel', 'hotel_market', 'days_till_ci', 'srch_children_cnt', 'days_stay', 'date_time.weekday', 'date_time.day', 'orig_destination_distance', 'srch_co.month', 'srch_ci.weekday', 'date_time.hour', 'srch_co.year', 'is_package', 'srch_rm_cnt', 'user_location_city']\n"
     ]
    }
   ],
   "source": [
    "features  = set(train.column_names())\n",
    "features -= set(['hotel_cluster', 'date_time', 'srch_co', 'srch_ci'])\n",
    "features -= set(['is_booking', 'cnt'])\n",
    "print list(features)"
   ]
  },
  {
   "cell_type": "code",
   "execution_count": 19,
   "metadata": {
    "ExecuteTime": {
     "end_time": "2016-05-04T00:43:04.072850",
     "start_time": "2016-05-04T00:43:01.645372"
    },
    "collapsed": false
   },
   "outputs": [
    {
     "data": {
      "text/plain": [
       "3000693"
      ]
     },
     "execution_count": 19,
     "metadata": {},
     "output_type": "execute_result"
    }
   ],
   "source": [
    "train_bookings = train[train['is_booking'] == 1]\n",
    "len(train_bookings)"
   ]
  },
  {
   "cell_type": "code",
   "execution_count": 22,
   "metadata": {
    "ExecuteTime": {
     "end_time": "2016-05-04T00:44:38.427390",
     "start_time": "2016-05-04T00:44:38.421052"
    },
    "collapsed": false
   },
   "outputs": [],
   "source": [
    "train_bookings['hotel_cluster']=train_bookings['hotel_cluster'].astype(str)"
   ]
  },
  {
   "cell_type": "code",
   "execution_count": null,
   "metadata": {
    "collapsed": true
   },
   "outputs": [],
   "source": [
    "train_small, rest = train.random_split(fraction=0.01, seed=1983)\n",
    "valdate_small, rest = rest.random_split(fraction=0.0001, seed=1983)\n",
    "\n",
    "print len(train_small), len(valdate_small)"
   ]
  },
  {
   "cell_type": "markdown",
   "metadata": {},
   "source": [
    "### Spot check\n",
    "Boosted tree wins"
   ]
  },
  {
   "cell_type": "code",
   "execution_count": null,
   "metadata": {
    "ExecuteTime": {
     "end_time": "2016-05-01T06:18:53.605905",
     "start_time": "2016-05-01T06:13:28.868947"
    },
    "collapsed": true
   },
   "outputs": [],
   "source": [
    "model = gl.classifier.create(train_small, target='hotel_cluster', features=features)"
   ]
  },
  {
   "cell_type": "markdown",
   "metadata": {
    "ExecuteTime": {
     "end_time": "2016-05-01T07:09:51.191974",
     "start_time": "2016-05-01T07:09:51.189990"
    }
   },
   "source": [
    "## Boosted Tree"
   ]
  },
  {
   "cell_type": "code",
   "execution_count": 23,
   "metadata": {
    "ExecuteTime": {
     "end_time": "2016-05-04T01:03:34.494862",
     "start_time": "2016-05-04T00:44:51.198472"
    },
    "collapsed": false
   },
   "outputs": [
    {
     "data": {
      "text/html": [
       "<pre>WARNING: Detected extremely low variance for feature(s) 'days_stay' because all entries are nearly the same.\n",
       "Proceeding with model training using all features. If the model does not provide results of adequate quality, exclude the above mentioned feature(s) from the input dataset.</pre>"
      ],
      "text/plain": [
       "WARNING: Detected extremely low variance for feature(s) 'days_stay' because all entries are nearly the same.\n",
       "Proceeding with model training using all features. If the model does not provide results of adequate quality, exclude the above mentioned feature(s) from the input dataset."
      ]
     },
     "metadata": {},
     "output_type": "display_data"
    },
    {
     "data": {
      "text/html": [
       "<pre>Boosted trees classifier:</pre>"
      ],
      "text/plain": [
       "Boosted trees classifier:"
      ]
     },
     "metadata": {},
     "output_type": "display_data"
    },
    {
     "data": {
      "text/html": [
       "<pre>--------------------------------------------------------</pre>"
      ],
      "text/plain": [
       "--------------------------------------------------------"
      ]
     },
     "metadata": {},
     "output_type": "display_data"
    },
    {
     "data": {
      "text/html": [
       "<pre>Number of examples          : 2850188</pre>"
      ],
      "text/plain": [
       "Number of examples          : 2850188"
      ]
     },
     "metadata": {},
     "output_type": "display_data"
    },
    {
     "data": {
      "text/html": [
       "<pre>Number of classes           : 100</pre>"
      ],
      "text/plain": [
       "Number of classes           : 100"
      ]
     },
     "metadata": {},
     "output_type": "display_data"
    },
    {
     "data": {
      "text/html": [
       "<pre>Number of feature columns   : 33</pre>"
      ],
      "text/plain": [
       "Number of feature columns   : 33"
      ]
     },
     "metadata": {},
     "output_type": "display_data"
    },
    {
     "data": {
      "text/html": [
       "<pre>Number of unpacked features : 33</pre>"
      ],
      "text/plain": [
       "Number of unpacked features : 33"
      ]
     },
     "metadata": {},
     "output_type": "display_data"
    },
    {
     "data": {
      "text/html": [
       "<pre>+-----------+--------------+-------------------+-------------------+---------------------+---------------------+</pre>"
      ],
      "text/plain": [
       "+-----------+--------------+-------------------+-------------------+---------------------+---------------------+"
      ]
     },
     "metadata": {},
     "output_type": "display_data"
    },
    {
     "data": {
      "text/html": [
       "<pre>| Iteration | Elapsed Time | Training-accuracy | Training-log_loss | Validation-accuracy | Validation-log_loss |</pre>"
      ],
      "text/plain": [
       "| Iteration | Elapsed Time | Training-accuracy | Training-log_loss | Validation-accuracy | Validation-log_loss |"
      ]
     },
     "metadata": {},
     "output_type": "display_data"
    },
    {
     "data": {
      "text/html": [
       "<pre>+-----------+--------------+-------------------+-------------------+---------------------+---------------------+</pre>"
      ],
      "text/plain": [
       "+-----------+--------------+-------------------+-------------------+---------------------+---------------------+"
      ]
     },
     "metadata": {},
     "output_type": "display_data"
    },
    {
     "data": {
      "text/html": [
       "<pre>| 1         | 114.324319   | 0.073890          | 4.350224          | 0.099306            | 4.251482            |</pre>"
      ],
      "text/plain": [
       "| 1         | 114.324319   | 0.073890          | 4.350224          | 0.099306            | 4.251482            |"
      ]
     },
     "metadata": {},
     "output_type": "display_data"
    },
    {
     "data": {
      "text/html": [
       "<pre>| 2         | 226.832476   | 0.080107          | 4.268269          | 0.107804            | 4.138011            |</pre>"
      ],
      "text/plain": [
       "| 2         | 226.832476   | 0.080107          | 4.268269          | 0.107804            | 4.138011            |"
      ]
     },
     "metadata": {},
     "output_type": "display_data"
    },
    {
     "data": {
      "text/html": [
       "<pre>| 3         | 337.825146   | 0.081479          | 4.225317          | 0.109465            | 4.078871            |</pre>"
      ],
      "text/plain": [
       "| 3         | 337.825146   | 0.081479          | 4.225317          | 0.109465            | 4.078871            |"
      ]
     },
     "metadata": {},
     "output_type": "display_data"
    },
    {
     "data": {
      "text/html": [
       "<pre>| 4         | 448.659854   | 0.082274          | 4.195188          | 0.110302            | 4.037282            |</pre>"
      ],
      "text/plain": [
       "| 4         | 448.659854   | 0.082274          | 4.195188          | 0.110302            | 4.037282            |"
      ]
     },
     "metadata": {},
     "output_type": "display_data"
    },
    {
     "data": {
      "text/html": [
       "<pre>| 5         | 559.226092   | 0.082936          | 4.172903          | 0.111624            | 4.006540            |</pre>"
      ],
      "text/plain": [
       "| 5         | 559.226092   | 0.082936          | 4.172903          | 0.111624            | 4.006540            |"
      ]
     },
     "metadata": {},
     "output_type": "display_data"
    },
    {
     "data": {
      "text/html": [
       "<pre>| 6         | 670.391249   | 0.083306          | 4.155779          | 0.112049            | 3.982622            |</pre>"
      ],
      "text/plain": [
       "| 6         | 670.391249   | 0.083306          | 4.155779          | 0.112049            | 3.982622            |"
      ]
     },
     "metadata": {},
     "output_type": "display_data"
    },
    {
     "data": {
      "text/html": [
       "<pre>| 7         | 780.333330   | 0.083402          | 4.141998          | 0.112402            | 3.963620            |</pre>"
      ],
      "text/plain": [
       "| 7         | 780.333330   | 0.083402          | 4.141998          | 0.112402            | 3.963620            |"
      ]
     },
     "metadata": {},
     "output_type": "display_data"
    },
    {
     "data": {
      "text/html": [
       "<pre>| 8         | 890.705266   | 0.083929          | 4.131163          | 0.113186            | 3.948812            |</pre>"
      ],
      "text/plain": [
       "| 8         | 890.705266   | 0.083929          | 4.131163          | 0.113186            | 3.948812            |"
      ]
     },
     "metadata": {},
     "output_type": "display_data"
    },
    {
     "data": {
      "text/html": [
       "<pre>| 9         | 999.918051   | 0.084251          | 4.122246          | 0.113531            | 3.936790            |</pre>"
      ],
      "text/plain": [
       "| 9         | 999.918051   | 0.084251          | 4.122246          | 0.113531            | 3.936790            |"
      ]
     },
     "metadata": {},
     "output_type": "display_data"
    },
    {
     "data": {
      "text/html": [
       "<pre>| 10        | 1110.227989  | 0.084600          | 4.115017          | 0.113950            | 3.926854            |</pre>"
      ],
      "text/plain": [
       "| 10        | 1110.227989  | 0.084600          | 4.115017          | 0.113950            | 3.926854            |"
      ]
     },
     "metadata": {},
     "output_type": "display_data"
    },
    {
     "data": {
      "text/html": [
       "<pre>+-----------+--------------+-------------------+-------------------+---------------------+---------------------+</pre>"
      ],
      "text/plain": [
       "+-----------+--------------+-------------------+-------------------+---------------------+---------------------+"
      ]
     },
     "metadata": {},
     "output_type": "display_data"
    },
    {
     "name": "stdout",
     "output_type": "stream",
     "text": [
      "PROGRESS: Creating a validation set from 5 percent of training data. This may take a while.\n",
      "          You can set ``validation_set=None`` to disable validation tracking.\n",
      "\n"
     ]
    }
   ],
   "source": [
    "model = gl.boosted_trees_classifier.create(train_bookings, target='hotel_cluster', features=features)"
   ]
  },
  {
   "cell_type": "code",
   "execution_count": 24,
   "metadata": {
    "ExecuteTime": {
     "end_time": "2016-05-04T01:08:28.912996",
     "start_time": "2016-05-04T01:08:28.899645"
    },
    "collapsed": true
   },
   "outputs": [],
   "source": [
    "model.save('Models/model_is_booked')"
   ]
  },
  {
   "cell_type": "code",
   "execution_count": 25,
   "metadata": {
    "ExecuteTime": {
     "end_time": "2016-05-04T01:10:54.374441",
     "start_time": "2016-05-04T01:10:54.295175"
    },
    "collapsed": false
   },
   "outputs": [
    {
     "data": {
      "text/html": [
       "<div style=\"max-height:1000px;max-width:1500px;overflow:auto;\"><table frame=\"box\" rules=\"cols\">\n",
       "    <tr>\n",
       "        <th style=\"padding-left: 1em; padding-right: 1em; text-align: center\">id</th>\n",
       "        <th style=\"padding-left: 1em; padding-right: 1em; text-align: center\">class</th>\n",
       "        <th style=\"padding-left: 1em; padding-right: 1em; text-align: center\">rank</th>\n",
       "    </tr>\n",
       "    <tr>\n",
       "        <td style=\"padding-left: 1em; padding-right: 1em; text-align: center; vertical-align: top\">0</td>\n",
       "        <td style=\"padding-left: 1em; padding-right: 1em; text-align: center; vertical-align: top\">13</td>\n",
       "        <td style=\"padding-left: 1em; padding-right: 1em; text-align: center; vertical-align: top\">0</td>\n",
       "    </tr>\n",
       "    <tr>\n",
       "        <td style=\"padding-left: 1em; padding-right: 1em; text-align: center; vertical-align: top\">0</td>\n",
       "        <td style=\"padding-left: 1em; padding-right: 1em; text-align: center; vertical-align: top\">33</td>\n",
       "        <td style=\"padding-left: 1em; padding-right: 1em; text-align: center; vertical-align: top\">1</td>\n",
       "    </tr>\n",
       "    <tr>\n",
       "        <td style=\"padding-left: 1em; padding-right: 1em; text-align: center; vertical-align: top\">0</td>\n",
       "        <td style=\"padding-left: 1em; padding-right: 1em; text-align: center; vertical-align: top\">41</td>\n",
       "        <td style=\"padding-left: 1em; padding-right: 1em; text-align: center; vertical-align: top\">2</td>\n",
       "    </tr>\n",
       "    <tr>\n",
       "        <td style=\"padding-left: 1em; padding-right: 1em; text-align: center; vertical-align: top\">0</td>\n",
       "        <td style=\"padding-left: 1em; padding-right: 1em; text-align: center; vertical-align: top\">10</td>\n",
       "        <td style=\"padding-left: 1em; padding-right: 1em; text-align: center; vertical-align: top\">3</td>\n",
       "    </tr>\n",
       "    <tr>\n",
       "        <td style=\"padding-left: 1em; padding-right: 1em; text-align: center; vertical-align: top\">0</td>\n",
       "        <td style=\"padding-left: 1em; padding-right: 1em; text-align: center; vertical-align: top\">1</td>\n",
       "        <td style=\"padding-left: 1em; padding-right: 1em; text-align: center; vertical-align: top\">4</td>\n",
       "    </tr>\n",
       "    <tr>\n",
       "        <td style=\"padding-left: 1em; padding-right: 1em; text-align: center; vertical-align: top\">1</td>\n",
       "        <td style=\"padding-left: 1em; padding-right: 1em; text-align: center; vertical-align: top\">13</td>\n",
       "        <td style=\"padding-left: 1em; padding-right: 1em; text-align: center; vertical-align: top\">0</td>\n",
       "    </tr>\n",
       "    <tr>\n",
       "        <td style=\"padding-left: 1em; padding-right: 1em; text-align: center; vertical-align: top\">1</td>\n",
       "        <td style=\"padding-left: 1em; padding-right: 1em; text-align: center; vertical-align: top\">99</td>\n",
       "        <td style=\"padding-left: 1em; padding-right: 1em; text-align: center; vertical-align: top\">1</td>\n",
       "    </tr>\n",
       "    <tr>\n",
       "        <td style=\"padding-left: 1em; padding-right: 1em; text-align: center; vertical-align: top\">1</td>\n",
       "        <td style=\"padding-left: 1em; padding-right: 1em; text-align: center; vertical-align: top\">16</td>\n",
       "        <td style=\"padding-left: 1em; padding-right: 1em; text-align: center; vertical-align: top\">2</td>\n",
       "    </tr>\n",
       "    <tr>\n",
       "        <td style=\"padding-left: 1em; padding-right: 1em; text-align: center; vertical-align: top\">1</td>\n",
       "        <td style=\"padding-left: 1em; padding-right: 1em; text-align: center; vertical-align: top\">43</td>\n",
       "        <td style=\"padding-left: 1em; padding-right: 1em; text-align: center; vertical-align: top\">3</td>\n",
       "    </tr>\n",
       "    <tr>\n",
       "        <td style=\"padding-left: 1em; padding-right: 1em; text-align: center; vertical-align: top\">1</td>\n",
       "        <td style=\"padding-left: 1em; padding-right: 1em; text-align: center; vertical-align: top\">1</td>\n",
       "        <td style=\"padding-left: 1em; padding-right: 1em; text-align: center; vertical-align: top\">4</td>\n",
       "    </tr>\n",
       "</table>\n",
       "[25 rows x 3 columns]<br/>Note: Only the head of the SFrame is printed.<br/>You can use print_rows(num_rows=m, num_columns=n) to print more rows and columns.\n",
       "</div>"
      ],
      "text/plain": [
       "Columns:\n",
       "\tid\tint\n",
       "\tclass\tstr\n",
       "\trank\tint\n",
       "\n",
       "Rows: 25\n",
       "\n",
       "Data:\n",
       "+----+-------+------+\n",
       "| id | class | rank |\n",
       "+----+-------+------+\n",
       "| 0  |   13  |  0   |\n",
       "| 0  |   33  |  1   |\n",
       "| 0  |   41  |  2   |\n",
       "| 0  |   10  |  3   |\n",
       "| 0  |   1   |  4   |\n",
       "| 1  |   13  |  0   |\n",
       "| 1  |   99  |  1   |\n",
       "| 1  |   16  |  2   |\n",
       "| 1  |   43  |  3   |\n",
       "| 1  |   1   |  4   |\n",
       "+----+-------+------+\n",
       "[25 rows x 3 columns]\n",
       "Note: Only the head of the SFrame is printed.\n",
       "You can use print_rows(num_rows=m, num_columns=n) to print more rows and columns."
      ]
     },
     "execution_count": 25,
     "metadata": {},
     "output_type": "execute_result"
    }
   ],
   "source": [
    "pred = model.predict_topk(test[0:5],output_type = 'rank', k=5)\n",
    "pred"
   ]
  },
  {
   "cell_type": "code",
   "execution_count": 27,
   "metadata": {
    "ExecuteTime": {
     "end_time": "2016-05-04T01:11:14.357058",
     "start_time": "2016-05-04T01:11:14.352500"
    },
    "collapsed": false
   },
   "outputs": [],
   "source": [
    "def create_predictions(test):\n",
    "    k = 5\n",
    "    pred = model.predict_topk(test, output_type = 'rank', k=k)\n",
    "    pred = pred.groupby('id', {'hotel_cluster':gl.aggregate.CONCAT('rank', 'class')})\n",
    "    pred['hotel_cluster'] = pred['hotel_cluster'].apply(lambda d: ' '.join([str(d[r]) for r in range(0,k)]))\n",
    "    return pred"
   ]
  },
  {
   "cell_type": "code",
   "execution_count": 28,
   "metadata": {
    "ExecuteTime": {
     "end_time": "2016-05-04T01:11:14.934363",
     "start_time": "2016-05-04T01:11:14.828313"
    },
    "collapsed": false
   },
   "outputs": [
    {
     "data": {
      "text/html": [
       "<div style=\"max-height:1000px;max-width:1500px;overflow:auto;\"><table frame=\"box\" rules=\"cols\">\n",
       "    <tr>\n",
       "        <th style=\"padding-left: 1em; padding-right: 1em; text-align: center\">id</th>\n",
       "        <th style=\"padding-left: 1em; padding-right: 1em; text-align: center\">hotel_cluster</th>\n",
       "    </tr>\n",
       "    <tr>\n",
       "        <td style=\"padding-left: 1em; padding-right: 1em; text-align: center; vertical-align: top\">0</td>\n",
       "        <td style=\"padding-left: 1em; padding-right: 1em; text-align: center; vertical-align: top\">13 33 41 10 1</td>\n",
       "    </tr>\n",
       "    <tr>\n",
       "        <td style=\"padding-left: 1em; padding-right: 1em; text-align: center; vertical-align: top\">1</td>\n",
       "        <td style=\"padding-left: 1em; padding-right: 1em; text-align: center; vertical-align: top\">13 99 16 43 1</td>\n",
       "    </tr>\n",
       "    <tr>\n",
       "        <td style=\"padding-left: 1em; padding-right: 1em; text-align: center; vertical-align: top\">3</td>\n",
       "        <td style=\"padding-left: 1em; padding-right: 1em; text-align: center; vertical-align: top\">1 13 19 39 0</td>\n",
       "    </tr>\n",
       "    <tr>\n",
       "        <td style=\"padding-left: 1em; padding-right: 1em; text-align: center; vertical-align: top\">2</td>\n",
       "        <td style=\"padding-left: 1em; padding-right: 1em; text-align: center; vertical-align: top\">56 13 39 76 1</td>\n",
       "    </tr>\n",
       "    <tr>\n",
       "        <td style=\"padding-left: 1em; padding-right: 1em; text-align: center; vertical-align: top\">4</td>\n",
       "        <td style=\"padding-left: 1em; padding-right: 1em; text-align: center; vertical-align: top\">39 21 76 16 1</td>\n",
       "    </tr>\n",
       "</table>\n",
       "[5 rows x 2 columns]<br/>\n",
       "</div>"
      ],
      "text/plain": [
       "Columns:\n",
       "\tid\tint\n",
       "\thotel_cluster\tstr\n",
       "\n",
       "Rows: 5\n",
       "\n",
       "Data:\n",
       "+----+---------------+\n",
       "| id | hotel_cluster |\n",
       "+----+---------------+\n",
       "| 0  | 13 33 41 10 1 |\n",
       "| 1  | 13 99 16 43 1 |\n",
       "| 3  |  1 13 19 39 0 |\n",
       "| 2  | 56 13 39 76 1 |\n",
       "| 4  | 39 21 76 16 1 |\n",
       "+----+---------------+\n",
       "[5 rows x 2 columns]"
      ]
     },
     "execution_count": 28,
     "metadata": {},
     "output_type": "execute_result"
    }
   ],
   "source": [
    "create_predictions(test[0:5])"
   ]
  },
  {
   "cell_type": "code",
   "execution_count": null,
   "metadata": {
    "ExecuteTime": {
     "end_time": "2016-05-01T06:25:35.262974",
     "start_time": "2016-05-01T06:25:35.240965"
    },
    "collapsed": false
   },
   "outputs": [],
   "source": [
    "import ml_metrics"
   ]
  },
  {
   "cell_type": "markdown",
   "metadata": {
    "collapsed": true
   },
   "source": [
    "# More features"
   ]
  },
  {
   "cell_type": "code",
   "execution_count": null,
   "metadata": {
    "collapsed": true
   },
   "outputs": [],
   "source": [
    "train['score'] = train['is_booking'] + train['cnt'] *0.1"
   ]
  },
  {
   "cell_type": "code",
   "execution_count": null,
   "metadata": {
    "ExecuteTime": {
     "end_time": "2016-05-02T05:20:09.424772",
     "start_time": "2016-05-02T05:20:09.419964"
    },
    "collapsed": false
   },
   "outputs": [],
   "source": [
    "test.column_names()"
   ]
  },
  {
   "cell_type": "code",
   "execution_count": null,
   "metadata": {
    "collapsed": true
   },
   "outputs": [],
   "source": []
  }
 ],
 "metadata": {
  "kernelspec": {
   "display_name": "Python 2",
   "language": "python",
   "name": "python2"
  },
  "language_info": {
   "codemirror_mode": {
    "name": "ipython",
    "version": 2
   },
   "file_extension": ".py",
   "mimetype": "text/x-python",
   "name": "python",
   "nbconvert_exporter": "python",
   "pygments_lexer": "ipython2",
   "version": "2.7.11"
  },
  "notify_time": "5",
  "toc": {
   "toc_cell": false,
   "toc_number_sections": false,
   "toc_section_display": "none",
   "toc_threshold": "2",
   "toc_window_display": true
  }
 },
 "nbformat": 4,
 "nbformat_minor": 0
}
