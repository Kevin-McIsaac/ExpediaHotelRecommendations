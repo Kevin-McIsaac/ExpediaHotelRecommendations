{
 "cells": [
  {
   "cell_type": "markdown",
   "metadata": {
    "level": 2
   },
   "source": [
    "## Initalise"
   ]
  },
  {
   "cell_type": "code",
   "execution_count": 1,
   "metadata": {
    "ExecuteTime": {
     "end_time": "2016-05-02T21:57:49.430113",
     "start_time": "2016-05-02T21:57:49.412285"
    },
    "code_folding": [
     0
    ],
    "collapsed": false,
    "init_cell": true
   },
   "outputs": [
    {
     "data": {
      "text/html": [
       "\n",
       "<style>\n",
       ".container {\n",
       "    width: 100%;\n",
       "}\n",
       "</style>\n"
      ],
      "text/plain": [
       "<IPython.core.display.HTML object>"
      ]
     },
     "execution_count": 1,
     "metadata": {},
     "output_type": "execute_result"
    }
   ],
   "source": [
    "# Set full page width\n",
    "from IPython.core.display import HTML\n",
    "HTML(\"\"\"\n",
    "<style>\n",
    ".container {\n",
    "    width: 100%;\n",
    "}\n",
    "</style>\n",
    "\"\"\")"
   ]
  },
  {
   "cell_type": "code",
   "execution_count": 2,
   "metadata": {
    "ExecuteTime": {
     "end_time": "2016-05-02T21:57:54.143319",
     "start_time": "2016-05-02T21:57:49.431674"
    },
    "collapsed": false,
    "init_cell": true,
    "level": 7
   },
   "outputs": [
    {
     "name": "stderr",
     "output_type": "stream",
     "text": [
      "2016-05-02 21:57:53,636 [INFO] graphlab.cython.cy_server, 176: GraphLab Create v1.9 started. Logging: /tmp/graphlab_server_1462226271.log\n"
     ]
    },
    {
     "name": "stdout",
     "output_type": "stream",
     "text": [
      "This non-commercial license of GraphLab Create is assigned to kevin.mcisaac@gmail.com and will expire on November 06, 2016. For commercial licensing options, visit https://dato.com/buy/.\n"
     ]
    },
    {
     "name": "stderr",
     "output_type": "stream",
     "text": [
      "/home/ec2-user/anaconda2/envs/dato-env/lib/python2.7/site-packages/matplotlib/__init__.py:872: UserWarning: axes.color_cycle is deprecated and replaced with axes.prop_cycle; please use the latter.\n",
      "  warnings.warn(self.msg_depr % (key, alt_key))\n"
     ]
    }
   ],
   "source": [
    "import graphlab as gl\n",
    "gl.canvas.set_target('ipynb')\n",
    "import datetime\n",
    "import os as os\n",
    "\n",
    "%matplotlib inline\n",
    "import matplotlib.pyplot as plt\n",
    "\n",
    "import seaborn as sns\n",
    "sns.set()\n",
    "\n",
    "# for large number of cores in a machine\n",
    "gl.set_runtime_config('GRAPHLAB_DEFAULT_NUM_PYLAMBDA_WORKERS', 32)"
   ]
  },
  {
   "cell_type": "markdown",
   "metadata": {},
   "source": [
    "# Load Data and save in fast binary format\n",
    "\n",
    "The training data contains 37.6M rows. 8% are bookings, the remainder are clicks. The test data contains 2.5M rows where all are bookings.\n",
    "\n",
    "Missing data\n",
    "- 47k search checkin and check out dates. These are dropped.\n",
    "- 167k rows are missing d1-d149 from destinations\n",
    "- 36% of the distances are missing"
   ]
  },
  {
   "cell_type": "code",
   "execution_count": 3,
   "metadata": {
    "ExecuteTime": {
     "end_time": "2016-05-02T22:00:02.112603",
     "start_time": "2016-05-02T21:58:13.525690"
    },
    "collapsed": false
   },
   "outputs": [
    {
     "data": {
      "text/html": [
       "<pre>Finished parsing file /home/ec2-user/Notebooks/ExpediaHotelRecommendations/Data/train.csv</pre>"
      ],
      "text/plain": [
       "Finished parsing file /home/ec2-user/Notebooks/ExpediaHotelRecommendations/Data/train.csv"
      ]
     },
     "metadata": {},
     "output_type": "display_data"
    },
    {
     "data": {
      "text/html": [
       "<pre>Parsing completed. Parsed 100 lines in 2.34207 secs.</pre>"
      ],
      "text/plain": [
       "Parsing completed. Parsed 100 lines in 2.34207 secs."
      ]
     },
     "metadata": {},
     "output_type": "display_data"
    },
    {
     "data": {
      "text/html": [
       "<pre>Read 485475 lines. Lines per second: 169427</pre>"
      ],
      "text/plain": [
       "Read 485475 lines. Lines per second: 169427"
      ]
     },
     "metadata": {},
     "output_type": "display_data"
    },
    {
     "data": {
      "text/html": [
       "<pre>Read 2426603 lines. Lines per second: 298350</pre>"
      ],
      "text/plain": [
       "Read 2426603 lines. Lines per second: 298350"
      ]
     },
     "metadata": {},
     "output_type": "display_data"
    },
    {
     "data": {
      "text/html": [
       "<pre>Read 4367955 lines. Lines per second: 325674</pre>"
      ],
      "text/plain": [
       "Read 4367955 lines. Lines per second: 325674"
      ]
     },
     "metadata": {},
     "output_type": "display_data"
    },
    {
     "data": {
      "text/html": [
       "<pre>Read 6308580 lines. Lines per second: 337232</pre>"
      ],
      "text/plain": [
       "Read 6308580 lines. Lines per second: 337232"
      ]
     },
     "metadata": {},
     "output_type": "display_data"
    },
    {
     "data": {
      "text/html": [
       "<pre>Read 8250094 lines. Lines per second: 343779</pre>"
      ],
      "text/plain": [
       "Read 8250094 lines. Lines per second: 343779"
      ]
     },
     "metadata": {},
     "output_type": "display_data"
    },
    {
     "data": {
      "text/html": [
       "<pre>Read 10190538 lines. Lines per second: 347852</pre>"
      ],
      "text/plain": [
       "Read 10190538 lines. Lines per second: 347852"
      ]
     },
     "metadata": {},
     "output_type": "display_data"
    },
    {
     "data": {
      "text/html": [
       "<pre>Read 12132150 lines. Lines per second: 350770</pre>"
      ],
      "text/plain": [
       "Read 12132150 lines. Lines per second: 350770"
      ]
     },
     "metadata": {},
     "output_type": "display_data"
    },
    {
     "data": {
      "text/html": [
       "<pre>Read 14073226 lines. Lines per second: 352892</pre>"
      ],
      "text/plain": [
       "Read 14073226 lines. Lines per second: 352892"
      ]
     },
     "metadata": {},
     "output_type": "display_data"
    },
    {
     "data": {
      "text/html": [
       "<pre>Read 16015254 lines. Lines per second: 354402</pre>"
      ],
      "text/plain": [
       "Read 16015254 lines. Lines per second: 354402"
      ]
     },
     "metadata": {},
     "output_type": "display_data"
    },
    {
     "data": {
      "text/html": [
       "<pre>Read 17955297 lines. Lines per second: 353502</pre>"
      ],
      "text/plain": [
       "Read 17955297 lines. Lines per second: 353502"
      ]
     },
     "metadata": {},
     "output_type": "display_data"
    },
    {
     "data": {
      "text/html": [
       "<pre>Read 19894100 lines. Lines per second: 354526</pre>"
      ],
      "text/plain": [
       "Read 19894100 lines. Lines per second: 354526"
      ]
     },
     "metadata": {},
     "output_type": "display_data"
    },
    {
     "data": {
      "text/html": [
       "<pre>Read 21835498 lines. Lines per second: 350567</pre>"
      ],
      "text/plain": [
       "Read 21835498 lines. Lines per second: 350567"
      ]
     },
     "metadata": {},
     "output_type": "display_data"
    },
    {
     "data": {
      "text/html": [
       "<pre>Read 23776992 lines. Lines per second: 351399</pre>"
      ],
      "text/plain": [
       "Read 23776992 lines. Lines per second: 351399"
      ]
     },
     "metadata": {},
     "output_type": "display_data"
    },
    {
     "data": {
      "text/html": [
       "<pre>Read 25718950 lines. Lines per second: 352217</pre>"
      ],
      "text/plain": [
       "Read 25718950 lines. Lines per second: 352217"
      ]
     },
     "metadata": {},
     "output_type": "display_data"
    },
    {
     "data": {
      "text/html": [
       "<pre>Read 27660092 lines. Lines per second: 352964</pre>"
      ],
      "text/plain": [
       "Read 27660092 lines. Lines per second: 352964"
      ]
     },
     "metadata": {},
     "output_type": "display_data"
    },
    {
     "data": {
      "text/html": [
       "<pre>Read 29600726 lines. Lines per second: 353659</pre>"
      ],
      "text/plain": [
       "Read 29600726 lines. Lines per second: 353659"
      ]
     },
     "metadata": {},
     "output_type": "display_data"
    },
    {
     "data": {
      "text/html": [
       "<pre>Read 31540717 lines. Lines per second: 354310</pre>"
      ],
      "text/plain": [
       "Read 31540717 lines. Lines per second: 354310"
      ]
     },
     "metadata": {},
     "output_type": "display_data"
    },
    {
     "data": {
      "text/html": [
       "<pre>Read 33480380 lines. Lines per second: 353088</pre>"
      ],
      "text/plain": [
       "Read 33480380 lines. Lines per second: 353088"
      ]
     },
     "metadata": {},
     "output_type": "display_data"
    },
    {
     "data": {
      "text/html": [
       "<pre>Read 35420132 lines. Lines per second: 353587</pre>"
      ],
      "text/plain": [
       "Read 35420132 lines. Lines per second: 353587"
      ]
     },
     "metadata": {},
     "output_type": "display_data"
    },
    {
     "data": {
      "text/html": [
       "<pre>Finished parsing file /home/ec2-user/Notebooks/ExpediaHotelRecommendations/Data/train.csv</pre>"
      ],
      "text/plain": [
       "Finished parsing file /home/ec2-user/Notebooks/ExpediaHotelRecommendations/Data/train.csv"
      ]
     },
     "metadata": {},
     "output_type": "display_data"
    },
    {
     "data": {
      "text/html": [
       "<pre>Parsing completed. Parsed 37670293 lines in 105.361 secs.</pre>"
      ],
      "text/plain": [
       "Parsing completed. Parsed 37670293 lines in 105.361 secs."
      ]
     },
     "metadata": {},
     "output_type": "display_data"
    },
    {
     "name": "stdout",
     "output_type": "stream",
     "text": [
      "------------------------------------------------------\n",
      "Inferred types from first 100 line(s) of file as \n",
      "column_type_hints=[str,int,int,int,int,int,float,int,int,int,int,str,str,int,int,int,int,int,int,int,int,int,int,int]\n",
      "If parsing fails due to incorrect types, you can correct\n",
      "the inferred type list above and pass it to read_csv in\n",
      "the column_type_hints argument\n",
      "------------------------------------------------------\n"
     ]
    }
   ],
   "source": [
    "train = gl.SFrame('Data/train.csv')"
   ]
  },
  {
   "cell_type": "code",
   "execution_count": 5,
   "metadata": {
    "ExecuteTime": {
     "end_time": "2016-05-01T02:12:49.664698",
     "start_time": "2016-05-01T01:54:13.484656"
    },
    "collapsed": true
   },
   "outputs": [
    {
     "data": {
      "text/html": [
       "<pre>Finished parsing file /home/ec2-user/Notebooks/ExpediaHotelRecommendations/Data/train.csv</pre>"
      ],
      "text/plain": [
       "Finished parsing file /home/ec2-user/Notebooks/ExpediaHotelRecommendations/Data/train.csv"
      ]
     },
     "metadata": {},
     "output_type": "display_data"
    },
    {
     "data": {
      "text/html": [
       "<pre>Parsing completed. Parsed 100 lines in 15.7038 secs.</pre>"
      ],
      "text/plain": [
       "Parsing completed. Parsed 100 lines in 15.7038 secs."
      ]
     },
     "metadata": {},
     "output_type": "display_data"
    },
    {
     "data": {
      "text/html": [
       "<pre>Read 485475 lines. Lines per second: 30541.2</pre>"
      ],
      "text/plain": [
       "Read 485475 lines. Lines per second: 30541.2"
      ]
     },
     "metadata": {},
     "output_type": "display_data"
    },
    {
     "data": {
      "text/html": [
       "<pre>Read 971386 lines. Lines per second: 31329.3</pre>"
      ],
      "text/plain": [
       "Read 971386 lines. Lines per second: 31329.3"
      ]
     },
     "metadata": {},
     "output_type": "display_data"
    },
    {
     "data": {
      "text/html": [
       "<pre>Read 1456470 lines. Lines per second: 31601.4</pre>"
      ],
      "text/plain": [
       "Read 1456470 lines. Lines per second: 31601.4"
      ]
     },
     "metadata": {},
     "output_type": "display_data"
    },
    {
     "data": {
      "text/html": [
       "<pre>Read 1941713 lines. Lines per second: 31752.3</pre>"
      ],
      "text/plain": [
       "Read 1941713 lines. Lines per second: 31752.3"
      ]
     },
     "metadata": {},
     "output_type": "display_data"
    },
    {
     "data": {
      "text/html": [
       "<pre>Read 2426603 lines. Lines per second: 31846.8</pre>"
      ],
      "text/plain": [
       "Read 2426603 lines. Lines per second: 31846.8"
      ]
     },
     "metadata": {},
     "output_type": "display_data"
    },
    {
     "data": {
      "text/html": [
       "<pre>Read 2912093 lines. Lines per second: 32719.8</pre>"
      ],
      "text/plain": [
       "Read 2912093 lines. Lines per second: 32719.8"
      ]
     },
     "metadata": {},
     "output_type": "display_data"
    },
    {
     "data": {
      "text/html": [
       "<pre>Read 3397275 lines. Lines per second: 33594.6</pre>"
      ],
      "text/plain": [
       "Read 3397275 lines. Lines per second: 33594.6"
      ]
     },
     "metadata": {},
     "output_type": "display_data"
    },
    {
     "data": {
      "text/html": [
       "<pre>Read 3882296 lines. Lines per second: 34334.8</pre>"
      ],
      "text/plain": [
       "Read 3882296 lines. Lines per second: 34334.8"
      ]
     },
     "metadata": {},
     "output_type": "display_data"
    },
    {
     "data": {
      "text/html": [
       "<pre>Read 4367955 lines. Lines per second: 34831.8</pre>"
      ],
      "text/plain": [
       "Read 4367955 lines. Lines per second: 34831.8"
      ]
     },
     "metadata": {},
     "output_type": "display_data"
    },
    {
     "data": {
      "text/html": [
       "<pre>Read 4853100 lines. Lines per second: 34839.9</pre>"
      ],
      "text/plain": [
       "Read 4853100 lines. Lines per second: 34839.9"
      ]
     },
     "metadata": {},
     "output_type": "display_data"
    },
    {
     "data": {
      "text/html": [
       "<pre>Read 5338165 lines. Lines per second: 34829.6</pre>"
      ],
      "text/plain": [
       "Read 5338165 lines. Lines per second: 34829.6"
      ]
     },
     "metadata": {},
     "output_type": "display_data"
    },
    {
     "data": {
      "text/html": [
       "<pre>Read 5823458 lines. Lines per second: 34885.4</pre>"
      ],
      "text/plain": [
       "Read 5823458 lines. Lines per second: 34885.4"
      ]
     },
     "metadata": {},
     "output_type": "display_data"
    },
    {
     "data": {
      "text/html": [
       "<pre>Read 6308580 lines. Lines per second: 34846.9</pre>"
      ],
      "text/plain": [
       "Read 6308580 lines. Lines per second: 34846.9"
      ]
     },
     "metadata": {},
     "output_type": "display_data"
    },
    {
     "data": {
      "text/html": [
       "<pre>Read 6793988 lines. Lines per second: 34656.7</pre>"
      ],
      "text/plain": [
       "Read 6793988 lines. Lines per second: 34656.7"
      ]
     },
     "metadata": {},
     "output_type": "display_data"
    },
    {
     "data": {
      "text/html": [
       "<pre>Read 7278890 lines. Lines per second: 34668.5</pre>"
      ],
      "text/plain": [
       "Read 7278890 lines. Lines per second: 34668.5"
      ]
     },
     "metadata": {},
     "output_type": "display_data"
    },
    {
     "data": {
      "text/html": [
       "<pre>Read 7763259 lines. Lines per second: 34561.9</pre>"
      ],
      "text/plain": [
       "Read 7763259 lines. Lines per second: 34561.9"
      ]
     },
     "metadata": {},
     "output_type": "display_data"
    },
    {
     "data": {
      "text/html": [
       "<pre>Read 8250094 lines. Lines per second: 34520.2</pre>"
      ],
      "text/plain": [
       "Read 8250094 lines. Lines per second: 34520.2"
      ]
     },
     "metadata": {},
     "output_type": "display_data"
    },
    {
     "data": {
      "text/html": [
       "<pre>Read 8735097 lines. Lines per second: 34499.9</pre>"
      ],
      "text/plain": [
       "Read 8735097 lines. Lines per second: 34499.9"
      ]
     },
     "metadata": {},
     "output_type": "display_data"
    },
    {
     "data": {
      "text/html": [
       "<pre>Read 9219692 lines. Lines per second: 34438.5</pre>"
      ],
      "text/plain": [
       "Read 9219692 lines. Lines per second: 34438.5"
      ]
     },
     "metadata": {},
     "output_type": "display_data"
    },
    {
     "data": {
      "text/html": [
       "<pre>Read 9705333 lines. Lines per second: 34388.2</pre>"
      ],
      "text/plain": [
       "Read 9705333 lines. Lines per second: 34388.2"
      ]
     },
     "metadata": {},
     "output_type": "display_data"
    },
    {
     "data": {
      "text/html": [
       "<pre>Read 10190538 lines. Lines per second: 34303.6</pre>"
      ],
      "text/plain": [
       "Read 10190538 lines. Lines per second: 34303.6"
      ]
     },
     "metadata": {},
     "output_type": "display_data"
    },
    {
     "data": {
      "text/html": [
       "<pre>Read 10675978 lines. Lines per second: 34169.3</pre>"
      ],
      "text/plain": [
       "Read 10675978 lines. Lines per second: 34169.3"
      ]
     },
     "metadata": {},
     "output_type": "display_data"
    },
    {
     "data": {
      "text/html": [
       "<pre>Read 11161237 lines. Lines per second: 34186.7</pre>"
      ],
      "text/plain": [
       "Read 11161237 lines. Lines per second: 34186.7"
      ]
     },
     "metadata": {},
     "output_type": "display_data"
    },
    {
     "data": {
      "text/html": [
       "<pre>Read 11646727 lines. Lines per second: 34269.5</pre>"
      ],
      "text/plain": [
       "Read 11646727 lines. Lines per second: 34269.5"
      ]
     },
     "metadata": {},
     "output_type": "display_data"
    },
    {
     "data": {
      "text/html": [
       "<pre>Read 12132150 lines. Lines per second: 34509.6</pre>"
      ],
      "text/plain": [
       "Read 12132150 lines. Lines per second: 34509.6"
      ]
     },
     "metadata": {},
     "output_type": "display_data"
    },
    {
     "data": {
      "text/html": [
       "<pre>Read 12617363 lines. Lines per second: 34571.5</pre>"
      ],
      "text/plain": [
       "Read 12617363 lines. Lines per second: 34571.5"
      ]
     },
     "metadata": {},
     "output_type": "display_data"
    },
    {
     "data": {
      "text/html": [
       "<pre>Read 13102796 lines. Lines per second: 34721.9</pre>"
      ],
      "text/plain": [
       "Read 13102796 lines. Lines per second: 34721.9"
      ]
     },
     "metadata": {},
     "output_type": "display_data"
    },
    {
     "data": {
      "text/html": [
       "<pre>Read 13588154 lines. Lines per second: 34670.7</pre>"
      ],
      "text/plain": [
       "Read 13588154 lines. Lines per second: 34670.7"
      ]
     },
     "metadata": {},
     "output_type": "display_data"
    },
    {
     "data": {
      "text/html": [
       "<pre>Read 14073226 lines. Lines per second: 34567.3</pre>"
      ],
      "text/plain": [
       "Read 14073226 lines. Lines per second: 34567.3"
      ]
     },
     "metadata": {},
     "output_type": "display_data"
    },
    {
     "data": {
      "text/html": [
       "<pre>Read 14558745 lines. Lines per second: 34621.8</pre>"
      ],
      "text/plain": [
       "Read 14558745 lines. Lines per second: 34621.8"
      ]
     },
     "metadata": {},
     "output_type": "display_data"
    },
    {
     "data": {
      "text/html": [
       "<pre>Read 15044447 lines. Lines per second: 34601.3</pre>"
      ],
      "text/plain": [
       "Read 15044447 lines. Lines per second: 34601.3"
      ]
     },
     "metadata": {},
     "output_type": "display_data"
    },
    {
     "data": {
      "text/html": [
       "<pre>Read 15529781 lines. Lines per second: 34528.2</pre>"
      ],
      "text/plain": [
       "Read 15529781 lines. Lines per second: 34528.2"
      ]
     },
     "metadata": {},
     "output_type": "display_data"
    },
    {
     "data": {
      "text/html": [
       "<pre>Read 16015254 lines. Lines per second: 34500</pre>"
      ],
      "text/plain": [
       "Read 16015254 lines. Lines per second: 34500"
      ]
     },
     "metadata": {},
     "output_type": "display_data"
    },
    {
     "data": {
      "text/html": [
       "<pre>Read 16500021 lines. Lines per second: 34546.1</pre>"
      ],
      "text/plain": [
       "Read 16500021 lines. Lines per second: 34546.1"
      ]
     },
     "metadata": {},
     "output_type": "display_data"
    },
    {
     "data": {
      "text/html": [
       "<pre>Read 16984947 lines. Lines per second: 34532.1</pre>"
      ],
      "text/plain": [
       "Read 16984947 lines. Lines per second: 34532.1"
      ]
     },
     "metadata": {},
     "output_type": "display_data"
    },
    {
     "data": {
      "text/html": [
       "<pre>Read 17470288 lines. Lines per second: 34488.5</pre>"
      ],
      "text/plain": [
       "Read 17470288 lines. Lines per second: 34488.5"
      ]
     },
     "metadata": {},
     "output_type": "display_data"
    },
    {
     "data": {
      "text/html": [
       "<pre>Read 17955297 lines. Lines per second: 34436.3</pre>"
      ],
      "text/plain": [
       "Read 17955297 lines. Lines per second: 34436.3"
      ]
     },
     "metadata": {},
     "output_type": "display_data"
    },
    {
     "data": {
      "text/html": [
       "<pre>Read 18440261 lines. Lines per second: 34414.3</pre>"
      ],
      "text/plain": [
       "Read 18440261 lines. Lines per second: 34414.3"
      ]
     },
     "metadata": {},
     "output_type": "display_data"
    },
    {
     "data": {
      "text/html": [
       "<pre>Read 18925128 lines. Lines per second: 34366.4</pre>"
      ],
      "text/plain": [
       "Read 18925128 lines. Lines per second: 34366.4"
      ]
     },
     "metadata": {},
     "output_type": "display_data"
    },
    {
     "data": {
      "text/html": [
       "<pre>Read 19409855 lines. Lines per second: 34384.2</pre>"
      ],
      "text/plain": [
       "Read 19409855 lines. Lines per second: 34384.2"
      ]
     },
     "metadata": {},
     "output_type": "display_data"
    },
    {
     "data": {
      "text/html": [
       "<pre>Read 19894100 lines. Lines per second: 34409.4</pre>"
      ],
      "text/plain": [
       "Read 19894100 lines. Lines per second: 34409.4"
      ]
     },
     "metadata": {},
     "output_type": "display_data"
    },
    {
     "data": {
      "text/html": [
       "<pre>Read 20380760 lines. Lines per second: 34559.9</pre>"
      ],
      "text/plain": [
       "Read 20380760 lines. Lines per second: 34559.9"
      ]
     },
     "metadata": {},
     "output_type": "display_data"
    },
    {
     "data": {
      "text/html": [
       "<pre>Read 20866032 lines. Lines per second: 34670.7</pre>"
      ],
      "text/plain": [
       "Read 20866032 lines. Lines per second: 34670.7"
      ]
     },
     "metadata": {},
     "output_type": "display_data"
    },
    {
     "data": {
      "text/html": [
       "<pre>Read 21351047 lines. Lines per second: 34759</pre>"
      ],
      "text/plain": [
       "Read 21351047 lines. Lines per second: 34759"
      ]
     },
     "metadata": {},
     "output_type": "display_data"
    },
    {
     "data": {
      "text/html": [
       "<pre>Read 21835498 lines. Lines per second: 34764</pre>"
      ],
      "text/plain": [
       "Read 21835498 lines. Lines per second: 34764"
      ]
     },
     "metadata": {},
     "output_type": "display_data"
    },
    {
     "data": {
      "text/html": [
       "<pre>Read 22321265 lines. Lines per second: 34726.5</pre>"
      ],
      "text/plain": [
       "Read 22321265 lines. Lines per second: 34726.5"
      ]
     },
     "metadata": {},
     "output_type": "display_data"
    },
    {
     "data": {
      "text/html": [
       "<pre>Read 22806102 lines. Lines per second: 34688.4</pre>"
      ],
      "text/plain": [
       "Read 22806102 lines. Lines per second: 34688.4"
      ]
     },
     "metadata": {},
     "output_type": "display_data"
    },
    {
     "data": {
      "text/html": [
       "<pre>Read 23292176 lines. Lines per second: 34698</pre>"
      ],
      "text/plain": [
       "Read 23292176 lines. Lines per second: 34698"
      ]
     },
     "metadata": {},
     "output_type": "display_data"
    },
    {
     "data": {
      "text/html": [
       "<pre>Read 23776992 lines. Lines per second: 34708</pre>"
      ],
      "text/plain": [
       "Read 23776992 lines. Lines per second: 34708"
      ]
     },
     "metadata": {},
     "output_type": "display_data"
    },
    {
     "data": {
      "text/html": [
       "<pre>Read 24262779 lines. Lines per second: 34677.5</pre>"
      ],
      "text/plain": [
       "Read 24262779 lines. Lines per second: 34677.5"
      ]
     },
     "metadata": {},
     "output_type": "display_data"
    },
    {
     "data": {
      "text/html": [
       "<pre>Read 24747893 lines. Lines per second: 34652.3</pre>"
      ],
      "text/plain": [
       "Read 24747893 lines. Lines per second: 34652.3"
      ]
     },
     "metadata": {},
     "output_type": "display_data"
    },
    {
     "data": {
      "text/html": [
       "<pre>Read 25233683 lines. Lines per second: 34663.8</pre>"
      ],
      "text/plain": [
       "Read 25233683 lines. Lines per second: 34663.8"
      ]
     },
     "metadata": {},
     "output_type": "display_data"
    },
    {
     "data": {
      "text/html": [
       "<pre>Read 25718950 lines. Lines per second: 34690.8</pre>"
      ],
      "text/plain": [
       "Read 25718950 lines. Lines per second: 34690.8"
      ]
     },
     "metadata": {},
     "output_type": "display_data"
    },
    {
     "data": {
      "text/html": [
       "<pre>Read 26203840 lines. Lines per second: 34671.2</pre>"
      ],
      "text/plain": [
       "Read 26203840 lines. Lines per second: 34671.2"
      ]
     },
     "metadata": {},
     "output_type": "display_data"
    },
    {
     "data": {
      "text/html": [
       "<pre>Read 26689417 lines. Lines per second: 34684</pre>"
      ],
      "text/plain": [
       "Read 26689417 lines. Lines per second: 34684"
      ]
     },
     "metadata": {},
     "output_type": "display_data"
    },
    {
     "data": {
      "text/html": [
       "<pre>Read 27174587 lines. Lines per second: 34707.3</pre>"
      ],
      "text/plain": [
       "Read 27174587 lines. Lines per second: 34707.3"
      ]
     },
     "metadata": {},
     "output_type": "display_data"
    },
    {
     "data": {
      "text/html": [
       "<pre>Read 27660092 lines. Lines per second: 34715</pre>"
      ],
      "text/plain": [
       "Read 27660092 lines. Lines per second: 34715"
      ]
     },
     "metadata": {},
     "output_type": "display_data"
    },
    {
     "data": {
      "text/html": [
       "<pre>Read 28145291 lines. Lines per second: 34714.5</pre>"
      ],
      "text/plain": [
       "Read 28145291 lines. Lines per second: 34714.5"
      ]
     },
     "metadata": {},
     "output_type": "display_data"
    },
    {
     "data": {
      "text/html": [
       "<pre>Read 28630367 lines. Lines per second: 34724</pre>"
      ],
      "text/plain": [
       "Read 28630367 lines. Lines per second: 34724"
      ]
     },
     "metadata": {},
     "output_type": "display_data"
    },
    {
     "data": {
      "text/html": [
       "<pre>Read 29115582 lines. Lines per second: 34795.1</pre>"
      ],
      "text/plain": [
       "Read 29115582 lines. Lines per second: 34795.1"
      ]
     },
     "metadata": {},
     "output_type": "display_data"
    },
    {
     "data": {
      "text/html": [
       "<pre>Read 29600726 lines. Lines per second: 34860.9</pre>"
      ],
      "text/plain": [
       "Read 29600726 lines. Lines per second: 34860.9"
      ]
     },
     "metadata": {},
     "output_type": "display_data"
    },
    {
     "data": {
      "text/html": [
       "<pre>Read 30085616 lines. Lines per second: 34947.5</pre>"
      ],
      "text/plain": [
       "Read 30085616 lines. Lines per second: 34947.5"
      ]
     },
     "metadata": {},
     "output_type": "display_data"
    },
    {
     "data": {
      "text/html": [
       "<pre>Read 30570699 lines. Lines per second: 35035.8</pre>"
      ],
      "text/plain": [
       "Read 30570699 lines. Lines per second: 35035.8"
      ]
     },
     "metadata": {},
     "output_type": "display_data"
    },
    {
     "data": {
      "text/html": [
       "<pre>Read 31055767 lines. Lines per second: 35027.4</pre>"
      ],
      "text/plain": [
       "Read 31055767 lines. Lines per second: 35027.4"
      ]
     },
     "metadata": {},
     "output_type": "display_data"
    },
    {
     "data": {
      "text/html": [
       "<pre>Read 31540717 lines. Lines per second: 35050.9</pre>"
      ],
      "text/plain": [
       "Read 31540717 lines. Lines per second: 35050.9"
      ]
     },
     "metadata": {},
     "output_type": "display_data"
    },
    {
     "data": {
      "text/html": [
       "<pre>Read 32025242 lines. Lines per second: 35026.7</pre>"
      ],
      "text/plain": [
       "Read 32025242 lines. Lines per second: 35026.7"
      ]
     },
     "metadata": {},
     "output_type": "display_data"
    },
    {
     "data": {
      "text/html": [
       "<pre>Read 32511037 lines. Lines per second: 35018.3</pre>"
      ],
      "text/plain": [
       "Read 32511037 lines. Lines per second: 35018.3"
      ]
     },
     "metadata": {},
     "output_type": "display_data"
    },
    {
     "data": {
      "text/html": [
       "<pre>Read 32996055 lines. Lines per second: 34988.1</pre>"
      ],
      "text/plain": [
       "Read 32996055 lines. Lines per second: 34988.1"
      ]
     },
     "metadata": {},
     "output_type": "display_data"
    },
    {
     "data": {
      "text/html": [
       "<pre>Read 33480380 lines. Lines per second: 34986.4</pre>"
      ],
      "text/plain": [
       "Read 33480380 lines. Lines per second: 34986.4"
      ]
     },
     "metadata": {},
     "output_type": "display_data"
    },
    {
     "data": {
      "text/html": [
       "<pre>Read 33965100 lines. Lines per second: 34963.3</pre>"
      ],
      "text/plain": [
       "Read 33965100 lines. Lines per second: 34963.3"
      ]
     },
     "metadata": {},
     "output_type": "display_data"
    },
    {
     "data": {
      "text/html": [
       "<pre>Read 34450520 lines. Lines per second: 34899.4</pre>"
      ],
      "text/plain": [
       "Read 34450520 lines. Lines per second: 34899.4"
      ]
     },
     "metadata": {},
     "output_type": "display_data"
    },
    {
     "data": {
      "text/html": [
       "<pre>Read 34934983 lines. Lines per second: 34865.8</pre>"
      ],
      "text/plain": [
       "Read 34934983 lines. Lines per second: 34865.8"
      ]
     },
     "metadata": {},
     "output_type": "display_data"
    },
    {
     "data": {
      "text/html": [
       "<pre>Read 35420132 lines. Lines per second: 34835.2</pre>"
      ],
      "text/plain": [
       "Read 35420132 lines. Lines per second: 34835.2"
      ]
     },
     "metadata": {},
     "output_type": "display_data"
    },
    {
     "data": {
      "text/html": [
       "<pre>Read 35905195 lines. Lines per second: 34828.9</pre>"
      ],
      "text/plain": [
       "Read 35905195 lines. Lines per second: 34828.9"
      ]
     },
     "metadata": {},
     "output_type": "display_data"
    },
    {
     "data": {
      "text/html": [
       "<pre>Read 36390554 lines. Lines per second: 34846.5</pre>"
      ],
      "text/plain": [
       "Read 36390554 lines. Lines per second: 34846.5"
      ]
     },
     "metadata": {},
     "output_type": "display_data"
    },
    {
     "data": {
      "text/html": [
       "<pre>Read 36875830 lines. Lines per second: 34825.1</pre>"
      ],
      "text/plain": [
       "Read 36875830 lines. Lines per second: 34825.1"
      ]
     },
     "metadata": {},
     "output_type": "display_data"
    },
    {
     "data": {
      "text/html": [
       "<pre>Read 37361176 lines. Lines per second: 34997.9</pre>"
      ],
      "text/plain": [
       "Read 37361176 lines. Lines per second: 34997.9"
      ]
     },
     "metadata": {},
     "output_type": "display_data"
    },
    {
     "data": {
      "text/html": [
       "<pre>Finished parsing file /home/ec2-user/Notebooks/ExpediaHotelRecommendations/Data/train.csv</pre>"
      ],
      "text/plain": [
       "Finished parsing file /home/ec2-user/Notebooks/ExpediaHotelRecommendations/Data/train.csv"
      ]
     },
     "metadata": {},
     "output_type": "display_data"
    },
    {
     "data": {
      "text/html": [
       "<pre>Parsing completed. Parsed 37670293 lines in 1067.88 secs.</pre>"
      ],
      "text/plain": [
       "Parsing completed. Parsed 37670293 lines in 1067.88 secs."
      ]
     },
     "metadata": {},
     "output_type": "display_data"
    },
    {
     "data": {
      "text/html": [
       "<pre>Finished parsing file /home/ec2-user/Notebooks/ExpediaHotelRecommendations/Data/destinations.csv</pre>"
      ],
      "text/plain": [
       "Finished parsing file /home/ec2-user/Notebooks/ExpediaHotelRecommendations/Data/destinations.csv"
      ]
     },
     "metadata": {},
     "output_type": "display_data"
    },
    {
     "data": {
      "text/html": [
       "<pre>Parsing completed. Parsed 100 lines in 12.4284 secs.</pre>"
      ],
      "text/plain": [
       "Parsing completed. Parsed 100 lines in 12.4284 secs."
      ]
     },
     "metadata": {},
     "output_type": "display_data"
    },
    {
     "name": "stdout",
     "output_type": "stream",
     "text": [
      "------------------------------------------------------\n",
      "Inferred types from first 100 line(s) of file as \n",
      "column_type_hints=[str,int,int,int,int,int,float,int,int,int,int,str,str,int,int,int,int,int,int,int,int,int,int,int]\n",
      "If parsing fails due to incorrect types, you can correct\n",
      "the inferred type list above and pass it to read_csv in\n",
      "the column_type_hints argument\n",
      "------------------------------------------------------\n",
      "------------------------------------------------------"
     ]
    },
    {
     "data": {
      "text/html": [
       "<pre>Read 23569 lines. Lines per second: 2260.04</pre>"
      ],
      "text/plain": [
       "Read 23569 lines. Lines per second: 2260.04"
      ]
     },
     "metadata": {},
     "output_type": "display_data"
    },
    {
     "data": {
      "text/html": [
       "<pre>Read 47134 lines. Lines per second: 2630.59</pre>"
      ],
      "text/plain": [
       "Read 47134 lines. Lines per second: 2630.59"
      ]
     },
     "metadata": {},
     "output_type": "display_data"
    },
    {
     "data": {
      "text/html": [
       "<pre>Finished parsing file /home/ec2-user/Notebooks/ExpediaHotelRecommendations/Data/destinations.csv</pre>"
      ],
      "text/plain": [
       "Finished parsing file /home/ec2-user/Notebooks/ExpediaHotelRecommendations/Data/destinations.csv"
      ]
     },
     "metadata": {},
     "output_type": "display_data"
    },
    {
     "data": {
      "text/html": [
       "<pre>Parsing completed. Parsed 62106 lines in 18.0374 secs.</pre>"
      ],
      "text/plain": [
       "Parsing completed. Parsed 62106 lines in 18.0374 secs."
      ]
     },
     "metadata": {},
     "output_type": "display_data"
    },
    {
     "name": "stdout",
     "output_type": "stream",
     "text": [
      "\n",
      "Inferred types from first 100 line(s) of file as \n",
      "column_type_hints=[int,float,float,float,float,float,float,float,float,float,float,float,float,float,float,float,float,float,float,float,float,float,float,float,float,float,float,float,float,float,float,float,float,float,float,float,float,float,float,float,float,float,float,float,float,float,float,float,float,float,float,float,float,float,float,float,float,float,float,float,float,float,float,float,float,float,float,float,float,float,float,float,float,float,float,float,float,float,float,float,float,float,float,float,float,float,float,float,float,float,float,float,float,float,float,float,float,float,float,float,float,float,float,float,float,float,float,float,float,float,float,float,float,float,float,float,float,float,float,float,float,float,float,float,float,float,float,float,float,float,float,float,float,float,float,float,float,float,float,float,float,float,float,float,float,float,float,float,float,float]\n",
      "If parsing fails due to incorrect types, you can correct\n",
      "the inferred type list above and pass it to read_csv in\n",
      "the column_type_hints argument\n",
      "------------------------------------------------------\n"
     ]
    }
   ],
   "source": [
    "test = gl.SFrame('Data/test.csv')\n",
    "destinations = gl.SFrame('Data/destinations.csv')\n",
    "\n",
    "print \"Train:\", len(train), \"Destinations:\", len(destinations)"
   ]
  },
  {
   "cell_type": "code",
   "execution_count": 6,
   "metadata": {
    "ExecuteTime": {
     "end_time": "2016-05-01T02:14:38.426217",
     "start_time": "2016-05-01T02:14:30.499691"
    },
    "collapsed": true
   },
   "outputs": [],
   "source": [
    "train.save('Data/train_raw')\n",
    "test.save('Data/test_raw')\n",
    "destinations.save('Data/destinations')"
   ]
  },
  {
   "cell_type": "markdown",
   "metadata": {},
   "source": [
    "## Grouping/reduction"
   ]
  },
  {
   "cell_type": "code",
   "execution_count": 5,
   "metadata": {
    "ExecuteTime": {
     "end_time": "2016-05-02T22:52:48.680796",
     "start_time": "2016-05-02T22:52:48.642471"
    },
    "collapsed": true
   },
   "outputs": [],
   "source": [
    "train = gl.SFrame('Data/train_raw')\n",
    "\n",
    "print \"Train:\", len(train)"
   ]
  },
  {
   "cell_type": "code",
   "execution_count": 10,
   "metadata": {
    "ExecuteTime": {
     "end_time": "2016-05-02T05:44:41.114936",
     "start_time": "2016-05-02T05:44:41.109607"
    },
    "collapsed": false
   },
   "outputs": [],
   "source": [
    "others = set(train.column_names()) - set(['user_id', 'srch_destination_id', 'hotel_cluster']) - set(['is_booking', 'cnt'])\n",
    "\n",
    "others = ['hotel_continent', 'hotel_country', 'hotel_market', 'hotel_cluster']\n",
    "aggs = {f:gl.aggregate.SELECT_ONE(f) for f in others}\n",
    "\n",
    "aggs.update({'bookings':gl.aggregate.SUM('is_booking'), 'count':gl.aggregate.COUNT(), 'cnt':gl.aggregate.SUM('cnt')})"
   ]
  },
  {
   "cell_type": "code",
   "execution_count": 11,
   "metadata": {
    "ExecuteTime": {
     "end_time": "2016-05-02T05:44:41.772959",
     "start_time": "2016-05-02T05:44:41.767441"
    },
    "collapsed": false
   },
   "outputs": [
    {
     "data": {
      "text/plain": [
       "{'bookings': ('__builtin__sum__', ['is_booking']),\n",
       " 'cnt': ('__builtin__sum__', ['cnt']),\n",
       " 'count': ('__builtin__count__', ['']),\n",
       " 'hotel_cluster': ('__builtin__select_one__', ['hotel_cluster']),\n",
       " 'hotel_continent': ('__builtin__select_one__', ['hotel_continent']),\n",
       " 'hotel_country': ('__builtin__select_one__', ['hotel_country']),\n",
       " 'hotel_market': ('__builtin__select_one__', ['hotel_market'])}"
      ]
     },
     "execution_count": 11,
     "metadata": {},
     "output_type": "execute_result"
    }
   ],
   "source": [
    "aggs"
   ]
  },
  {
   "cell_type": "code",
   "execution_count": 12,
   "metadata": {
    "ExecuteTime": {
     "end_time": "2016-05-02T05:44:50.202727",
     "start_time": "2016-05-02T05:44:49.797514"
    },
    "collapsed": false
   },
   "outputs": [
    {
     "ename": "RuntimeError",
     "evalue": "Runtime Exception. Output columns names are not unique",
     "output_type": "error",
     "traceback": [
      "\u001b[1;31m---------------------------------------------------------------------------\u001b[0m",
      "\u001b[1;31mRuntimeError\u001b[0m                              Traceback (most recent call last)",
      "\u001b[1;32m<ipython-input-12-95adffcdb888>\u001b[0m in \u001b[0;36m<module>\u001b[1;34m()\u001b[0m\n\u001b[1;32m----> 1\u001b[1;33m \u001b[0msummary\u001b[0m \u001b[1;33m=\u001b[0m \u001b[0mtrain\u001b[0m\u001b[1;33m.\u001b[0m\u001b[0mgroupby\u001b[0m\u001b[1;33m(\u001b[0m\u001b[1;33m[\u001b[0m\u001b[1;34m'user_id'\u001b[0m\u001b[1;33m,\u001b[0m \u001b[1;34m'srch_destination_id'\u001b[0m\u001b[1;33m,\u001b[0m \u001b[1;34m'hotel_cluster'\u001b[0m\u001b[1;33m]\u001b[0m\u001b[1;33m,\u001b[0m\u001b[0maggs\u001b[0m \u001b[1;33m)\u001b[0m\u001b[1;33m\u001b[0m\u001b[0m\n\u001b[0m\u001b[0;32m      2\u001b[0m \u001b[0msummary\u001b[0m\u001b[1;33m\u001b[0m\u001b[0m\n",
      "\u001b[1;32m/home/ec2-user/anaconda2/envs/dato-env/lib/python2.7/site-packages/graphlab/data_structures/sframe.pyc\u001b[0m in \u001b[0;36mgroupby\u001b[1;34m(self, key_columns, operations, *args)\u001b[0m\n\u001b[0;32m   4639\u001b[0m                                                                   \u001b[0mgroup_columns\u001b[0m\u001b[1;33m,\u001b[0m\u001b[1;33m\u001b[0m\u001b[0m\n\u001b[0;32m   4640\u001b[0m                                                                   \u001b[0mgroup_output_columns\u001b[0m\u001b[1;33m,\u001b[0m\u001b[1;33m\u001b[0m\u001b[0m\n\u001b[1;32m-> 4641\u001b[1;33m                                                                   group_ops))\n\u001b[0m\u001b[0;32m   4642\u001b[0m \u001b[1;33m\u001b[0m\u001b[0m\n\u001b[0;32m   4643\u001b[0m     \u001b[1;32mdef\u001b[0m \u001b[0mjoin\u001b[0m\u001b[1;33m(\u001b[0m\u001b[0mself\u001b[0m\u001b[1;33m,\u001b[0m \u001b[0mright\u001b[0m\u001b[1;33m,\u001b[0m \u001b[0mon\u001b[0m\u001b[1;33m=\u001b[0m\u001b[0mNone\u001b[0m\u001b[1;33m,\u001b[0m \u001b[0mhow\u001b[0m\u001b[1;33m=\u001b[0m\u001b[1;34m'inner'\u001b[0m\u001b[1;33m)\u001b[0m\u001b[1;33m:\u001b[0m\u001b[1;33m\u001b[0m\u001b[0m\n",
      "\u001b[1;32m/home/ec2-user/anaconda2/envs/dato-env/lib/python2.7/site-packages/graphlab/cython/context.pyc\u001b[0m in \u001b[0;36m__exit__\u001b[1;34m(self, exc_type, exc_value, traceback)\u001b[0m\n\u001b[0;32m     47\u001b[0m             \u001b[1;32mif\u001b[0m \u001b[1;32mnot\u001b[0m \u001b[0mself\u001b[0m\u001b[1;33m.\u001b[0m\u001b[0mshow_cython_trace\u001b[0m\u001b[1;33m:\u001b[0m\u001b[1;33m\u001b[0m\u001b[0m\n\u001b[0;32m     48\u001b[0m                 \u001b[1;31m# To hide cython trace, we re-raise from here\u001b[0m\u001b[1;33m\u001b[0m\u001b[1;33m\u001b[0m\u001b[0m\n\u001b[1;32m---> 49\u001b[1;33m                 \u001b[1;32mraise\u001b[0m \u001b[0mexc_type\u001b[0m\u001b[1;33m(\u001b[0m\u001b[0mexc_value\u001b[0m\u001b[1;33m)\u001b[0m\u001b[1;33m\u001b[0m\u001b[0m\n\u001b[0m\u001b[0;32m     50\u001b[0m             \u001b[1;32melse\u001b[0m\u001b[1;33m:\u001b[0m\u001b[1;33m\u001b[0m\u001b[0m\n\u001b[0;32m     51\u001b[0m                 \u001b[1;31m# To show the full trace, we do nothing and let exception propagate\u001b[0m\u001b[1;33m\u001b[0m\u001b[1;33m\u001b[0m\u001b[0m\n",
      "\u001b[1;31mRuntimeError\u001b[0m: Runtime Exception. Output columns names are not unique"
     ]
    }
   ],
   "source": [
    "summary = train.groupby(['user_id', 'srch_destination_id', 'hotel_cluster'],aggs )\n",
    "summary"
   ]
  },
  {
   "cell_type": "code",
   "execution_count": 22,
   "metadata": {
    "ExecuteTime": {
     "end_time": "2016-05-02T04:45:45.177481",
     "start_time": "2016-05-02T04:45:45.076176"
    },
    "collapsed": false
   },
   "outputs": [
    {
     "data": {
      "text/html": [
       "<div style=\"max-height:1000px;max-width:1500px;overflow:auto;\"><table frame=\"box\" rules=\"cols\">\n",
       "    <tr>\n",
       "        <th style=\"padding-left: 1em; padding-right: 1em; text-align: center\">hotel_cluster</th>\n",
       "        <th style=\"padding-left: 1em; padding-right: 1em; text-align: center\">srch_destination_id</th>\n",
       "        <th style=\"padding-left: 1em; padding-right: 1em; text-align: center\">user_id</th>\n",
       "        <th style=\"padding-left: 1em; padding-right: 1em; text-align: center\">bookings</th>\n",
       "        <th style=\"padding-left: 1em; padding-right: 1em; text-align: center\">count</th>\n",
       "        <th style=\"padding-left: 1em; padding-right: 1em; text-align: center\">cnt</th>\n",
       "        <th style=\"padding-left: 1em; padding-right: 1em; text-align: center\">score</th>\n",
       "    </tr>\n",
       "    <tr>\n",
       "        <td style=\"padding-left: 1em; padding-right: 1em; text-align: center; vertical-align: top\">8</td>\n",
       "        <td style=\"padding-left: 1em; padding-right: 1em; text-align: center; vertical-align: top\">24890</td>\n",
       "        <td style=\"padding-left: 1em; padding-right: 1em; text-align: center; vertical-align: top\">28693</td>\n",
       "        <td style=\"padding-left: 1em; padding-right: 1em; text-align: center; vertical-align: top\">0</td>\n",
       "        <td style=\"padding-left: 1em; padding-right: 1em; text-align: center; vertical-align: top\">1</td>\n",
       "        <td style=\"padding-left: 1em; padding-right: 1em; text-align: center; vertical-align: top\">1</td>\n",
       "        <td style=\"padding-left: 1em; padding-right: 1em; text-align: center; vertical-align: top\">0.2</td>\n",
       "    </tr>\n",
       "    <tr>\n",
       "        <td style=\"padding-left: 1em; padding-right: 1em; text-align: center; vertical-align: top\">12</td>\n",
       "        <td style=\"padding-left: 1em; padding-right: 1em; text-align: center; vertical-align: top\">26663</td>\n",
       "        <td style=\"padding-left: 1em; padding-right: 1em; text-align: center; vertical-align: top\">1003225</td>\n",
       "        <td style=\"padding-left: 1em; padding-right: 1em; text-align: center; vertical-align: top\">0</td>\n",
       "        <td style=\"padding-left: 1em; padding-right: 1em; text-align: center; vertical-align: top\">3</td>\n",
       "        <td style=\"padding-left: 1em; padding-right: 1em; text-align: center; vertical-align: top\">3</td>\n",
       "        <td style=\"padding-left: 1em; padding-right: 1em; text-align: center; vertical-align: top\">0.6</td>\n",
       "    </tr>\n",
       "    <tr>\n",
       "        <td style=\"padding-left: 1em; padding-right: 1em; text-align: center; vertical-align: top\">86</td>\n",
       "        <td style=\"padding-left: 1em; padding-right: 1em; text-align: center; vertical-align: top\">181</td>\n",
       "        <td style=\"padding-left: 1em; padding-right: 1em; text-align: center; vertical-align: top\">1174805</td>\n",
       "        <td style=\"padding-left: 1em; padding-right: 1em; text-align: center; vertical-align: top\">0</td>\n",
       "        <td style=\"padding-left: 1em; padding-right: 1em; text-align: center; vertical-align: top\">1</td>\n",
       "        <td style=\"padding-left: 1em; padding-right: 1em; text-align: center; vertical-align: top\">3</td>\n",
       "        <td style=\"padding-left: 1em; padding-right: 1em; text-align: center; vertical-align: top\">0.4</td>\n",
       "    </tr>\n",
       "    <tr>\n",
       "        <td style=\"padding-left: 1em; padding-right: 1em; text-align: center; vertical-align: top\">96</td>\n",
       "        <td style=\"padding-left: 1em; padding-right: 1em; text-align: center; vertical-align: top\">25331</td>\n",
       "        <td style=\"padding-left: 1em; padding-right: 1em; text-align: center; vertical-align: top\">286482</td>\n",
       "        <td style=\"padding-left: 1em; padding-right: 1em; text-align: center; vertical-align: top\">0</td>\n",
       "        <td style=\"padding-left: 1em; padding-right: 1em; text-align: center; vertical-align: top\">1</td>\n",
       "        <td style=\"padding-left: 1em; padding-right: 1em; text-align: center; vertical-align: top\">1</td>\n",
       "        <td style=\"padding-left: 1em; padding-right: 1em; text-align: center; vertical-align: top\">0.2</td>\n",
       "    </tr>\n",
       "    <tr>\n",
       "        <td style=\"padding-left: 1em; padding-right: 1em; text-align: center; vertical-align: top\">61</td>\n",
       "        <td style=\"padding-left: 1em; padding-right: 1em; text-align: center; vertical-align: top\">21804</td>\n",
       "        <td style=\"padding-left: 1em; padding-right: 1em; text-align: center; vertical-align: top\">989877</td>\n",
       "        <td style=\"padding-left: 1em; padding-right: 1em; text-align: center; vertical-align: top\">0</td>\n",
       "        <td style=\"padding-left: 1em; padding-right: 1em; text-align: center; vertical-align: top\">1</td>\n",
       "        <td style=\"padding-left: 1em; padding-right: 1em; text-align: center; vertical-align: top\">1</td>\n",
       "        <td style=\"padding-left: 1em; padding-right: 1em; text-align: center; vertical-align: top\">0.2</td>\n",
       "    </tr>\n",
       "    <tr>\n",
       "        <td style=\"padding-left: 1em; padding-right: 1em; text-align: center; vertical-align: top\">64</td>\n",
       "        <td style=\"padding-left: 1em; padding-right: 1em; text-align: center; vertical-align: top\">17930</td>\n",
       "        <td style=\"padding-left: 1em; padding-right: 1em; text-align: center; vertical-align: top\">800177</td>\n",
       "        <td style=\"padding-left: 1em; padding-right: 1em; text-align: center; vertical-align: top\">0</td>\n",
       "        <td style=\"padding-left: 1em; padding-right: 1em; text-align: center; vertical-align: top\">1</td>\n",
       "        <td style=\"padding-left: 1em; padding-right: 1em; text-align: center; vertical-align: top\">1</td>\n",
       "        <td style=\"padding-left: 1em; padding-right: 1em; text-align: center; vertical-align: top\">0.2</td>\n",
       "    </tr>\n",
       "    <tr>\n",
       "        <td style=\"padding-left: 1em; padding-right: 1em; text-align: center; vertical-align: top\">70</td>\n",
       "        <td style=\"padding-left: 1em; padding-right: 1em; text-align: center; vertical-align: top\">8267</td>\n",
       "        <td style=\"padding-left: 1em; padding-right: 1em; text-align: center; vertical-align: top\">852256</td>\n",
       "        <td style=\"padding-left: 1em; padding-right: 1em; text-align: center; vertical-align: top\">0</td>\n",
       "        <td style=\"padding-left: 1em; padding-right: 1em; text-align: center; vertical-align: top\">1</td>\n",
       "        <td style=\"padding-left: 1em; padding-right: 1em; text-align: center; vertical-align: top\">1</td>\n",
       "        <td style=\"padding-left: 1em; padding-right: 1em; text-align: center; vertical-align: top\">0.2</td>\n",
       "    </tr>\n",
       "    <tr>\n",
       "        <td style=\"padding-left: 1em; padding-right: 1em; text-align: center; vertical-align: top\">5</td>\n",
       "        <td style=\"padding-left: 1em; padding-right: 1em; text-align: center; vertical-align: top\">8808</td>\n",
       "        <td style=\"padding-left: 1em; padding-right: 1em; text-align: center; vertical-align: top\">990746</td>\n",
       "        <td style=\"padding-left: 1em; padding-right: 1em; text-align: center; vertical-align: top\">1</td>\n",
       "        <td style=\"padding-left: 1em; padding-right: 1em; text-align: center; vertical-align: top\">2</td>\n",
       "        <td style=\"padding-left: 1em; padding-right: 1em; text-align: center; vertical-align: top\">5</td>\n",
       "        <td style=\"padding-left: 1em; padding-right: 1em; text-align: center; vertical-align: top\">1.7</td>\n",
       "    </tr>\n",
       "    <tr>\n",
       "        <td style=\"padding-left: 1em; padding-right: 1em; text-align: center; vertical-align: top\">73</td>\n",
       "        <td style=\"padding-left: 1em; padding-right: 1em; text-align: center; vertical-align: top\">11923</td>\n",
       "        <td style=\"padding-left: 1em; padding-right: 1em; text-align: center; vertical-align: top\">580733</td>\n",
       "        <td style=\"padding-left: 1em; padding-right: 1em; text-align: center; vertical-align: top\">0</td>\n",
       "        <td style=\"padding-left: 1em; padding-right: 1em; text-align: center; vertical-align: top\">1</td>\n",
       "        <td style=\"padding-left: 1em; padding-right: 1em; text-align: center; vertical-align: top\">3</td>\n",
       "        <td style=\"padding-left: 1em; padding-right: 1em; text-align: center; vertical-align: top\">0.4</td>\n",
       "    </tr>\n",
       "    <tr>\n",
       "        <td style=\"padding-left: 1em; padding-right: 1em; text-align: center; vertical-align: top\">34</td>\n",
       "        <td style=\"padding-left: 1em; padding-right: 1em; text-align: center; vertical-align: top\">8250</td>\n",
       "        <td style=\"padding-left: 1em; padding-right: 1em; text-align: center; vertical-align: top\">633737</td>\n",
       "        <td style=\"padding-left: 1em; padding-right: 1em; text-align: center; vertical-align: top\">0</td>\n",
       "        <td style=\"padding-left: 1em; padding-right: 1em; text-align: center; vertical-align: top\">4</td>\n",
       "        <td style=\"padding-left: 1em; padding-right: 1em; text-align: center; vertical-align: top\">8</td>\n",
       "        <td style=\"padding-left: 1em; padding-right: 1em; text-align: center; vertical-align: top\">1.2</td>\n",
       "    </tr>\n",
       "</table>\n",
       "[21195410 rows x 7 columns]<br/>Note: Only the head of the SFrame is printed.<br/>You can use print_rows(num_rows=m, num_columns=n) to print more rows and columns.\n",
       "</div>"
      ],
      "text/plain": [
       "Columns:\n",
       "\thotel_cluster\tint\n",
       "\tsrch_destination_id\tint\n",
       "\tuser_id\tint\n",
       "\tbookings\tint\n",
       "\tcount\tint\n",
       "\tcnt\tint\n",
       "\tscore\tfloat\n",
       "\n",
       "Rows: 21195410\n",
       "\n",
       "Data:\n",
       "+---------------+---------------------+---------+----------+-------+-----+-------+\n",
       "| hotel_cluster | srch_destination_id | user_id | bookings | count | cnt | score |\n",
       "+---------------+---------------------+---------+----------+-------+-----+-------+\n",
       "|       8       |        24890        |  28693  |    0     |   1   |  1  |  0.2  |\n",
       "|       12      |        26663        | 1003225 |    0     |   3   |  3  |  0.6  |\n",
       "|       86      |         181         | 1174805 |    0     |   1   |  3  |  0.4  |\n",
       "|       96      |        25331        |  286482 |    0     |   1   |  1  |  0.2  |\n",
       "|       61      |        21804        |  989877 |    0     |   1   |  1  |  0.2  |\n",
       "|       64      |        17930        |  800177 |    0     |   1   |  1  |  0.2  |\n",
       "|       70      |         8267        |  852256 |    0     |   1   |  1  |  0.2  |\n",
       "|       5       |         8808        |  990746 |    1     |   2   |  5  |  1.7  |\n",
       "|       73      |        11923        |  580733 |    0     |   1   |  3  |  0.4  |\n",
       "|       34      |         8250        |  633737 |    0     |   4   |  8  |  1.2  |\n",
       "+---------------+---------------------+---------+----------+-------+-----+-------+\n",
       "[21195410 rows x 7 columns]\n",
       "Note: Only the head of the SFrame is printed.\n",
       "You can use print_rows(num_rows=m, num_columns=n) to print more rows and columns."
      ]
     },
     "execution_count": 22,
     "metadata": {},
     "output_type": "execute_result"
    }
   ],
   "source": [
    "summary['score'] = summary['bookings'] + summary['count']*0.1 + summary['cnt'] *0.1\n",
    "summary"
   ]
  },
  {
   "cell_type": "code",
   "execution_count": 26,
   "metadata": {
    "ExecuteTime": {
     "end_time": "2016-05-02T04:49:10.287089",
     "start_time": "2016-05-02T04:49:07.552352"
    },
    "collapsed": true
   },
   "outputs": [],
   "source": [
    "summary.save('Data/summary')"
   ]
  },
  {
   "cell_type": "code",
   "execution_count": 27,
   "metadata": {
    "ExecuteTime": {
     "end_time": "2016-05-02T04:49:13.464752",
     "start_time": "2016-05-02T04:49:13.461038"
    },
    "collapsed": false
   },
   "outputs": [
    {
     "name": "stdout",
     "output_type": "stream",
     "text": [
      "['count', 'srch_destination_id', 'user_id', 'cnt', 'bookings', 'score']\n"
     ]
    }
   ],
   "source": [
    "features = set(summary.column_names())\n",
    "features = features - set(['hotel_cluster', 'date_time', 'srch_co', 'srch_ci'])\n",
    "print list(features)"
   ]
  },
  {
   "cell_type": "code",
   "execution_count": 28,
   "metadata": {
    "ExecuteTime": {
     "end_time": "2016-05-02T04:49:18.954580",
     "start_time": "2016-05-02T04:49:18.003693"
    },
    "collapsed": true
   },
   "outputs": [],
   "source": [
    "train_small, rest = summary.random_split(fraction=0.01, seed=1983)\n",
    "valdate_small, rest = summary.random_split(fraction=0.0001, seed=1983)"
   ]
  },
  {
   "cell_type": "code",
   "execution_count": 29,
   "metadata": {
    "ExecuteTime": {
     "end_time": "2016-05-02T04:49:25.444253",
     "start_time": "2016-05-02T04:49:22.578556"
    },
    "collapsed": false
   },
   "outputs": [
    {
     "name": "stdout",
     "output_type": "stream",
     "text": [
      "211206 2075\n"
     ]
    }
   ],
   "source": [
    "print len(train_small), len(valdate_small)"
   ]
  },
  {
   "cell_type": "code",
   "execution_count": 30,
   "metadata": {
    "ExecuteTime": {
     "end_time": "2016-05-02T04:52:46.508219",
     "start_time": "2016-05-02T04:49:32.656481"
    },
    "collapsed": true
   },
   "outputs": [
    {
     "data": {
      "text/html": [
       "<pre>Boosted trees classifier:</pre>"
      ],
      "text/plain": [
       "Boosted trees classifier:"
      ]
     },
     "metadata": {},
     "output_type": "display_data"
    },
    {
     "data": {
      "text/html": [
       "<pre>--------------------------------------------------------</pre>"
      ],
      "text/plain": [
       "--------------------------------------------------------"
      ]
     },
     "metadata": {},
     "output_type": "display_data"
    },
    {
     "data": {
      "text/html": [
       "<pre>Number of examples          : 200757</pre>"
      ],
      "text/plain": [
       "Number of examples          : 200757"
      ]
     },
     "metadata": {},
     "output_type": "display_data"
    },
    {
     "data": {
      "text/html": [
       "<pre>Number of classes           : 100</pre>"
      ],
      "text/plain": [
       "Number of classes           : 100"
      ]
     },
     "metadata": {},
     "output_type": "display_data"
    },
    {
     "data": {
      "text/html": [
       "<pre>Number of feature columns   : 6</pre>"
      ],
      "text/plain": [
       "Number of feature columns   : 6"
      ]
     },
     "metadata": {},
     "output_type": "display_data"
    },
    {
     "data": {
      "text/html": [
       "<pre>Number of unpacked features : 6</pre>"
      ],
      "text/plain": [
       "Number of unpacked features : 6"
      ]
     },
     "metadata": {},
     "output_type": "display_data"
    },
    {
     "data": {
      "text/html": [
       "<pre>+-----------+--------------+-------------------+-------------------+---------------------+---------------------+</pre>"
      ],
      "text/plain": [
       "+-----------+--------------+-------------------+-------------------+---------------------+---------------------+"
      ]
     },
     "metadata": {},
     "output_type": "display_data"
    },
    {
     "data": {
      "text/html": [
       "<pre>| Iteration | Elapsed Time | Training-accuracy | Training-log_loss | Validation-accuracy | Validation-log_loss |</pre>"
      ],
      "text/plain": [
       "| Iteration | Elapsed Time | Training-accuracy | Training-log_loss | Validation-accuracy | Validation-log_loss |"
      ]
     },
     "metadata": {},
     "output_type": "display_data"
    },
    {
     "data": {
      "text/html": [
       "<pre>+-----------+--------------+-------------------+-------------------+---------------------+---------------------+</pre>"
      ],
      "text/plain": [
       "+-----------+--------------+-------------------+-------------------+---------------------+---------------------+"
      ]
     },
     "metadata": {},
     "output_type": "display_data"
    },
    {
     "data": {
      "text/html": [
       "<pre>| 1         | 9.075147     | 0.088286          | 4.331967          | 0.070055            | 4.360343            |</pre>"
      ],
      "text/plain": [
       "| 1         | 9.075147     | 0.088286          | 4.331967          | 0.070055            | 4.360343            |"
      ]
     },
     "metadata": {},
     "output_type": "display_data"
    },
    {
     "data": {
      "text/html": [
       "<pre>| 2         | 18.648661    | 0.100021          | 4.205445          | 0.079338            | 4.253966            |</pre>"
      ],
      "text/plain": [
       "| 2         | 18.648661    | 0.100021          | 4.205445          | 0.079338            | 4.253966            |"
      ]
     },
     "metadata": {},
     "output_type": "display_data"
    },
    {
     "data": {
      "text/html": [
       "<pre>| 3         | 27.929777    | 0.105725          | 4.116873          | 0.081730            | 4.182459            |</pre>"
      ],
      "text/plain": [
       "| 3         | 27.929777    | 0.105725          | 4.116873          | 0.081730            | 4.182459            |"
      ]
     },
     "metadata": {},
     "output_type": "display_data"
    },
    {
     "data": {
      "text/html": [
       "<pre>| 4         | 37.075165    | 0.109471          | 4.048438          | 0.080582            | 4.129523            |</pre>"
      ],
      "text/plain": [
       "| 4         | 37.075165    | 0.109471          | 4.048438          | 0.080582            | 4.129523            |"
      ]
     },
     "metadata": {},
     "output_type": "display_data"
    },
    {
     "data": {
      "text/html": [
       "<pre>| 5         | 46.204033    | 0.113421          | 3.993161          | 0.083932            | 4.087972            |</pre>"
      ],
      "text/plain": [
       "| 5         | 46.204033    | 0.113421          | 3.993161          | 0.083932            | 4.087972            |"
      ]
     },
     "metadata": {},
     "output_type": "display_data"
    },
    {
     "data": {
      "text/html": [
       "<pre>| 6         | 55.379998    | 0.116898          | 3.946846          | 0.083453            | 4.054802            |</pre>"
      ],
      "text/plain": [
       "| 6         | 55.379998    | 0.116898          | 3.946846          | 0.083453            | 4.054802            |"
      ]
     },
     "metadata": {},
     "output_type": "display_data"
    },
    {
     "data": {
      "text/html": [
       "<pre>| 7         | 64.575047    | 0.120479          | 3.909517          | 0.082783            | 4.029295            |</pre>"
      ],
      "text/plain": [
       "| 7         | 64.575047    | 0.120479          | 3.909517          | 0.082783            | 4.029295            |"
      ]
     },
     "metadata": {},
     "output_type": "display_data"
    },
    {
     "data": {
      "text/html": [
       "<pre>| 8         | 73.759547    | 0.123866          | 3.876187          | 0.083740            | 4.006429            |</pre>"
      ],
      "text/plain": [
       "| 8         | 73.759547    | 0.123866          | 3.876187          | 0.083740            | 4.006429            |"
      ]
     },
     "metadata": {},
     "output_type": "display_data"
    },
    {
     "data": {
      "text/html": [
       "<pre>| 9         | 82.882564    | 0.127199          | 3.846174          | 0.084889            | 3.986042            |</pre>"
      ],
      "text/plain": [
       "| 9         | 82.882564    | 0.127199          | 3.846174          | 0.084889            | 3.986042            |"
      ]
     },
     "metadata": {},
     "output_type": "display_data"
    },
    {
     "data": {
      "text/html": [
       "<pre>| 10        | 91.931771    | 0.129759          | 3.819981          | 0.085846            | 3.969959            |</pre>"
      ],
      "text/plain": [
       "| 10        | 91.931771    | 0.129759          | 3.819981          | 0.085846            | 3.969959            |"
      ]
     },
     "metadata": {},
     "output_type": "display_data"
    },
    {
     "data": {
      "text/html": [
       "<pre>+-----------+--------------+-------------------+-------------------+---------------------+---------------------+</pre>"
      ],
      "text/plain": [
       "+-----------+--------------+-------------------+-------------------+---------------------+---------------------+"
      ]
     },
     "metadata": {},
     "output_type": "display_data"
    },
    {
     "data": {
      "text/html": [
       "<pre>Random forest classifier:</pre>"
      ],
      "text/plain": [
       "Random forest classifier:"
      ]
     },
     "metadata": {},
     "output_type": "display_data"
    },
    {
     "data": {
      "text/html": [
       "<pre>--------------------------------------------------------</pre>"
      ],
      "text/plain": [
       "--------------------------------------------------------"
      ]
     },
     "metadata": {},
     "output_type": "display_data"
    },
    {
     "data": {
      "text/html": [
       "<pre>Number of examples          : 200757</pre>"
      ],
      "text/plain": [
       "Number of examples          : 200757"
      ]
     },
     "metadata": {},
     "output_type": "display_data"
    },
    {
     "data": {
      "text/html": [
       "<pre>Number of classes           : 100</pre>"
      ],
      "text/plain": [
       "Number of classes           : 100"
      ]
     },
     "metadata": {},
     "output_type": "display_data"
    },
    {
     "data": {
      "text/html": [
       "<pre>Number of feature columns   : 6</pre>"
      ],
      "text/plain": [
       "Number of feature columns   : 6"
      ]
     },
     "metadata": {},
     "output_type": "display_data"
    },
    {
     "data": {
      "text/html": [
       "<pre>Number of unpacked features : 6</pre>"
      ],
      "text/plain": [
       "Number of unpacked features : 6"
      ]
     },
     "metadata": {},
     "output_type": "display_data"
    },
    {
     "data": {
      "text/html": [
       "<pre>+-----------+--------------+-------------------+-------------------+---------------------+---------------------+</pre>"
      ],
      "text/plain": [
       "+-----------+--------------+-------------------+-------------------+---------------------+---------------------+"
      ]
     },
     "metadata": {},
     "output_type": "display_data"
    },
    {
     "data": {
      "text/html": [
       "<pre>| Iteration | Elapsed Time | Training-accuracy | Training-log_loss | Validation-accuracy | Validation-log_loss |</pre>"
      ],
      "text/plain": [
       "| Iteration | Elapsed Time | Training-accuracy | Training-log_loss | Validation-accuracy | Validation-log_loss |"
      ]
     },
     "metadata": {},
     "output_type": "display_data"
    },
    {
     "data": {
      "text/html": [
       "<pre>+-----------+--------------+-------------------+-------------------+---------------------+---------------------+</pre>"
      ],
      "text/plain": [
       "+-----------+--------------+-------------------+-------------------+---------------------+---------------------+"
      ]
     },
     "metadata": {},
     "output_type": "display_data"
    },
    {
     "data": {
      "text/html": [
       "<pre>| 1         | 8.427433     | 0.077885          | 4.497309          | 0.066226            | 4.587430            |</pre>"
      ],
      "text/plain": [
       "| 1         | 8.427433     | 0.077885          | 4.497309          | 0.066226            | 4.587430            |"
      ]
     },
     "metadata": {},
     "output_type": "display_data"
    },
    {
     "data": {
      "text/html": [
       "<pre>| 2         | 16.064494    | 0.085930          | 4.348574          | 0.074361            | 4.434496            |</pre>"
      ],
      "text/plain": [
       "| 2         | 16.064494    | 0.085930          | 4.348574          | 0.074361            | 4.434496            |"
      ]
     },
     "metadata": {},
     "output_type": "display_data"
    },
    {
     "data": {
      "text/html": [
       "<pre>| 3         | 23.526581    | 0.086796          | 4.324303          | 0.071203            | 4.412399            |</pre>"
      ],
      "text/plain": [
       "| 3         | 23.526581    | 0.086796          | 4.324303          | 0.071203            | 4.412399            |"
      ]
     },
     "metadata": {},
     "output_type": "display_data"
    },
    {
     "data": {
      "text/html": [
       "<pre>| 4         | 31.187627    | 0.087927          | 4.238978          | 0.071490            | 4.313282            |</pre>"
      ],
      "text/plain": [
       "| 4         | 31.187627    | 0.087927          | 4.238978          | 0.071490            | 4.313282            |"
      ]
     },
     "metadata": {},
     "output_type": "display_data"
    },
    {
     "data": {
      "text/html": [
       "<pre>| 5         | 38.981224    | 0.088321          | 4.245575          | 0.070724            | 4.320334            |</pre>"
      ],
      "text/plain": [
       "| 5         | 38.981224    | 0.088321          | 4.245575          | 0.070724            | 4.320334            |"
      ]
     },
     "metadata": {},
     "output_type": "display_data"
    },
    {
     "data": {
      "text/html": [
       "<pre>| 6         | 46.633498    | 0.090557          | 4.224422          | 0.073500            | 4.298678            |</pre>"
      ],
      "text/plain": [
       "| 6         | 46.633498    | 0.090557          | 4.224422          | 0.073500            | 4.298678            |"
      ]
     },
     "metadata": {},
     "output_type": "display_data"
    },
    {
     "data": {
      "text/html": [
       "<pre>| 7         | 54.292314    | 0.091877          | 4.202019          | 0.075414            | 4.274519            |</pre>"
      ],
      "text/plain": [
       "| 7         | 54.292314    | 0.091877          | 4.202019          | 0.075414            | 4.274519            |"
      ]
     },
     "metadata": {},
     "output_type": "display_data"
    },
    {
     "data": {
      "text/html": [
       "<pre>| 8         | 61.978045    | 0.092480          | 4.204691          | 0.075414            | 4.275554            |</pre>"
      ],
      "text/plain": [
       "| 8         | 61.978045    | 0.092480          | 4.204691          | 0.075414            | 4.275554            |"
      ]
     },
     "metadata": {},
     "output_type": "display_data"
    },
    {
     "data": {
      "text/html": [
       "<pre>| 9         | 69.706456    | 0.092779          | 4.210861          | 0.074553            | 4.284135            |</pre>"
      ],
      "text/plain": [
       "| 9         | 69.706456    | 0.092779          | 4.210861          | 0.074553            | 4.284135            |"
      ]
     },
     "metadata": {},
     "output_type": "display_data"
    },
    {
     "data": {
      "text/html": [
       "<pre>| 10        | 77.410890    | 0.092326          | 4.196553          | 0.075701            | 4.267951            |</pre>"
      ],
      "text/plain": [
       "| 10        | 77.410890    | 0.092326          | 4.196553          | 0.075701            | 4.267951            |"
      ]
     },
     "metadata": {},
     "output_type": "display_data"
    },
    {
     "data": {
      "text/html": [
       "<pre>+-----------+--------------+-------------------+-------------------+---------------------+---------------------+</pre>"
      ],
      "text/plain": [
       "+-----------+--------------+-------------------+-------------------+---------------------+---------------------+"
      ]
     },
     "metadata": {},
     "output_type": "display_data"
    },
    {
     "data": {
      "text/html": [
       "<pre>Decision tree classifier:</pre>"
      ],
      "text/plain": [
       "Decision tree classifier:"
      ]
     },
     "metadata": {},
     "output_type": "display_data"
    },
    {
     "data": {
      "text/html": [
       "<pre>--------------------------------------------------------</pre>"
      ],
      "text/plain": [
       "--------------------------------------------------------"
      ]
     },
     "metadata": {},
     "output_type": "display_data"
    },
    {
     "data": {
      "text/html": [
       "<pre>Number of examples          : 200757</pre>"
      ],
      "text/plain": [
       "Number of examples          : 200757"
      ]
     },
     "metadata": {},
     "output_type": "display_data"
    },
    {
     "data": {
      "text/html": [
       "<pre>Number of classes           : 100</pre>"
      ],
      "text/plain": [
       "Number of classes           : 100"
      ]
     },
     "metadata": {},
     "output_type": "display_data"
    },
    {
     "data": {
      "text/html": [
       "<pre>Number of feature columns   : 6</pre>"
      ],
      "text/plain": [
       "Number of feature columns   : 6"
      ]
     },
     "metadata": {},
     "output_type": "display_data"
    },
    {
     "data": {
      "text/html": [
       "<pre>Number of unpacked features : 6</pre>"
      ],
      "text/plain": [
       "Number of unpacked features : 6"
      ]
     },
     "metadata": {},
     "output_type": "display_data"
    },
    {
     "data": {
      "text/html": [
       "<pre>+-----------+--------------+-------------------+-------------------+---------------------+---------------------+</pre>"
      ],
      "text/plain": [
       "+-----------+--------------+-------------------+-------------------+---------------------+---------------------+"
      ]
     },
     "metadata": {},
     "output_type": "display_data"
    },
    {
     "data": {
      "text/html": [
       "<pre>| Iteration | Elapsed Time | Training-accuracy | Training-log_loss | Validation-accuracy | Validation-log_loss |</pre>"
      ],
      "text/plain": [
       "| Iteration | Elapsed Time | Training-accuracy | Training-log_loss | Validation-accuracy | Validation-log_loss |"
      ]
     },
     "metadata": {},
     "output_type": "display_data"
    },
    {
     "data": {
      "text/html": [
       "<pre>+-----------+--------------+-------------------+-------------------+---------------------+---------------------+</pre>"
      ],
      "text/plain": [
       "+-----------+--------------+-------------------+-------------------+---------------------+---------------------+"
      ]
     },
     "metadata": {},
     "output_type": "display_data"
    },
    {
     "data": {
      "text/html": [
       "<pre>| 1         | 9.163828     | 0.088286          | 4.331967          | 0.070055            | 4.360343            |</pre>"
      ],
      "text/plain": [
       "| 1         | 9.163828     | 0.088286          | 4.331967          | 0.070055            | 4.360343            |"
      ]
     },
     "metadata": {},
     "output_type": "display_data"
    },
    {
     "data": {
      "text/html": [
       "<pre>+-----------+--------------+-------------------+-------------------+---------------------+---------------------+</pre>"
      ],
      "text/plain": [
       "+-----------+--------------+-------------------+-------------------+---------------------+---------------------+"
      ]
     },
     "metadata": {},
     "output_type": "display_data"
    },
    {
     "data": {
      "text/html": [
       "<pre>Logistic regression:</pre>"
      ],
      "text/plain": [
       "Logistic regression:"
      ]
     },
     "metadata": {},
     "output_type": "display_data"
    },
    {
     "data": {
      "text/html": [
       "<pre>--------------------------------------------------------</pre>"
      ],
      "text/plain": [
       "--------------------------------------------------------"
      ]
     },
     "metadata": {},
     "output_type": "display_data"
    },
    {
     "data": {
      "text/html": [
       "<pre>Number of examples          : 200757</pre>"
      ],
      "text/plain": [
       "Number of examples          : 200757"
      ]
     },
     "metadata": {},
     "output_type": "display_data"
    },
    {
     "data": {
      "text/html": [
       "<pre>Number of classes           : 100</pre>"
      ],
      "text/plain": [
       "Number of classes           : 100"
      ]
     },
     "metadata": {},
     "output_type": "display_data"
    },
    {
     "data": {
      "text/html": [
       "<pre>Number of feature columns   : 6</pre>"
      ],
      "text/plain": [
       "Number of feature columns   : 6"
      ]
     },
     "metadata": {},
     "output_type": "display_data"
    },
    {
     "data": {
      "text/html": [
       "<pre>Number of unpacked features : 6</pre>"
      ],
      "text/plain": [
       "Number of unpacked features : 6"
      ]
     },
     "metadata": {},
     "output_type": "display_data"
    },
    {
     "data": {
      "text/html": [
       "<pre>Number of coefficients    : 693</pre>"
      ],
      "text/plain": [
       "Number of coefficients    : 693"
      ]
     },
     "metadata": {},
     "output_type": "display_data"
    },
    {
     "data": {
      "text/html": [
       "<pre>Starting L-BFGS</pre>"
      ],
      "text/plain": [
       "Starting L-BFGS"
      ]
     },
     "metadata": {},
     "output_type": "display_data"
    },
    {
     "data": {
      "text/html": [
       "<pre>--------------------------------------------------------</pre>"
      ],
      "text/plain": [
       "--------------------------------------------------------"
      ]
     },
     "metadata": {},
     "output_type": "display_data"
    },
    {
     "data": {
      "text/html": [
       "<pre>+-----------+----------+-----------+--------------+-------------------+---------------------+</pre>"
      ],
      "text/plain": [
       "+-----------+----------+-----------+--------------+-------------------+---------------------+"
      ]
     },
     "metadata": {},
     "output_type": "display_data"
    },
    {
     "data": {
      "text/html": [
       "<pre>| Iteration | Passes   | Step size | Elapsed Time | Training-accuracy | Validation-accuracy |</pre>"
      ],
      "text/plain": [
       "| Iteration | Passes   | Step size | Elapsed Time | Training-accuracy | Validation-accuracy |"
      ]
     },
     "metadata": {},
     "output_type": "display_data"
    },
    {
     "data": {
      "text/html": [
       "<pre>+-----------+----------+-----------+--------------+-------------------+---------------------+</pre>"
      ],
      "text/plain": [
       "+-----------+----------+-----------+--------------+-------------------+---------------------+"
      ]
     },
     "metadata": {},
     "output_type": "display_data"
    },
    {
     "data": {
      "text/html": [
       "<pre>| 1         | 5        | 0.000105  | 2.371564     | 0.026026          | 0.025840            |</pre>"
      ],
      "text/plain": [
       "| 1         | 5        | 0.000105  | 2.371564     | 0.026026          | 0.025840            |"
      ]
     },
     "metadata": {},
     "output_type": "display_data"
    },
    {
     "data": {
      "text/html": [
       "<pre>| 2         | 7        | 1.000000  | 3.815239     | 0.021240          | 0.020672            |</pre>"
      ],
      "text/plain": [
       "| 2         | 7        | 1.000000  | 3.815239     | 0.021240          | 0.020672            |"
      ]
     },
     "metadata": {},
     "output_type": "display_data"
    },
    {
     "data": {
      "text/html": [
       "<pre>| 3         | 8        | 1.000000  | 4.718794     | 0.024472          | 0.023543            |</pre>"
      ],
      "text/plain": [
       "| 3         | 8        | 1.000000  | 4.718794     | 0.024472          | 0.023543            |"
      ]
     },
     "metadata": {},
     "output_type": "display_data"
    },
    {
     "data": {
      "text/html": [
       "<pre>| 4         | 9        | 1.000000  | 5.632630     | 0.026440          | 0.026223            |</pre>"
      ],
      "text/plain": [
       "| 4         | 9        | 1.000000  | 5.632630     | 0.026440          | 0.026223            |"
      ]
     },
     "metadata": {},
     "output_type": "display_data"
    },
    {
     "data": {
      "text/html": [
       "<pre>| 5         | 10       | 1.000000  | 6.547442     | 0.026460          | 0.026318            |</pre>"
      ],
      "text/plain": [
       "| 5         | 10       | 1.000000  | 6.547442     | 0.026460          | 0.026318            |"
      ]
     },
     "metadata": {},
     "output_type": "display_data"
    },
    {
     "data": {
      "text/html": [
       "<pre>| 6         | 11       | 1.000000  | 7.481992     | 0.022500          | 0.020959            |</pre>"
      ],
      "text/plain": [
       "| 6         | 11       | 1.000000  | 7.481992     | 0.022500          | 0.020959            |"
      ]
     },
     "metadata": {},
     "output_type": "display_data"
    },
    {
     "data": {
      "text/html": [
       "<pre>| 7         | 12       | 1.000000  | 8.387908     | 0.024761          | 0.025840            |</pre>"
      ],
      "text/plain": [
       "| 7         | 12       | 1.000000  | 8.387908     | 0.024761          | 0.025840            |"
      ]
     },
     "metadata": {},
     "output_type": "display_data"
    },
    {
     "data": {
      "text/html": [
       "<pre>| 8         | 13       | 1.000000  | 9.293640     | 0.026161          | 0.025457            |</pre>"
      ],
      "text/plain": [
       "| 8         | 13       | 1.000000  | 9.293640     | 0.026161          | 0.025457            |"
      ]
     },
     "metadata": {},
     "output_type": "display_data"
    },
    {
     "data": {
      "text/html": [
       "<pre>| 9         | 14       | 1.000000  | 10.198574    | 0.026545          | 0.026318            |</pre>"
      ],
      "text/plain": [
       "| 9         | 14       | 1.000000  | 10.198574    | 0.026545          | 0.026318            |"
      ]
     },
     "metadata": {},
     "output_type": "display_data"
    },
    {
     "data": {
      "text/html": [
       "<pre>| 10        | 15       | 1.000000  | 11.106201    | 0.026719          | 0.026988            |</pre>"
      ],
      "text/plain": [
       "| 10        | 15       | 1.000000  | 11.106201    | 0.026719          | 0.026988            |"
      ]
     },
     "metadata": {},
     "output_type": "display_data"
    },
    {
     "data": {
      "text/html": [
       "<pre>+-----------+----------+-----------+--------------+-------------------+---------------------+</pre>"
      ],
      "text/plain": [
       "+-----------+----------+-----------+--------------+-------------------+---------------------+"
      ]
     },
     "metadata": {},
     "output_type": "display_data"
    },
    {
     "data": {
      "text/html": [
       "<pre>TERMINATED: Iteration limit reached.</pre>"
      ],
      "text/plain": [
       "TERMINATED: Iteration limit reached."
      ]
     },
     "metadata": {},
     "output_type": "display_data"
    },
    {
     "data": {
      "text/html": [
       "<pre>This model may not be optimal. To improve it, consider increasing `max_iterations`.</pre>"
      ],
      "text/plain": [
       "This model may not be optimal. To improve it, consider increasing `max_iterations`."
      ]
     },
     "metadata": {},
     "output_type": "display_data"
    },
    {
     "name": "stdout",
     "output_type": "stream",
     "text": [
      "PROGRESS: Creating a validation set from 5 percent of training data. This may take a while.\n",
      "          You can set ``validation_set=None`` to disable validation tracking.\n",
      "\n",
      "PROGRESS: The following methods are available for this type of problem.\n",
      "PROGRESS: BoostedTreesClassifier, RandomForestClassifier, DecisionTreeClassifier, LogisticClassifier\n",
      "PROGRESS: The returned model will be chosen according to validation accuracy.\n",
      "PROGRESS: Model selection based on validation accuracy:\n",
      "PROGRESS: ---------------------------------------------\n",
      "PROGRESS: BoostedTreesClassifier          : 0.0858455300331\n",
      "PROGRESS: RandomForestClassifier          : 0.0757009983063\n",
      "PROGRESS: DecisionTreeClassifier          : 0.0700545310974\n",
      "PROGRESS: LogisticClassifier              : 0.026988\n",
      "PROGRESS: ---------------------------------------------\n",
      "PROGRESS: Selecting BoostedTreesClassifier based on validation set performance.\n"
     ]
    }
   ],
   "source": [
    "model = gl.classifier.create(train_small, target='hotel_cluster', features=features)"
   ]
  },
  {
   "cell_type": "markdown",
   "metadata": {},
   "source": [
    "# Feature Engineering"
   ]
  },
  {
   "cell_type": "code",
   "execution_count": 3,
   "metadata": {
    "ExecuteTime": {
     "end_time": "2016-05-01T03:52:46.928809",
     "start_time": "2016-05-01T03:52:46.917251"
    },
    "collapsed": false
   },
   "outputs": [],
   "source": [
    "train = gl.SFrame('Data/train_raw')\n",
    "print \"Train:\", len(train)"
   ]
  },
  {
   "cell_type": "code",
   "execution_count": 6,
   "metadata": {
    "ExecuteTime": {
     "end_time": "2016-05-01T04:23:25.886181",
     "start_time": "2016-05-01T04:23:22.863391"
    },
    "collapsed": false
   },
   "outputs": [],
   "source": [
    "# drop rows with blank check in or out dates\n",
    "train['srch_co'] = train['srch_co'].apply(lambda d: None if d == '' else d)\n",
    "train['srch_ci'] = train['srch_ci'].apply(lambda d: None if d == '' else d)\n",
    "train = train.dropna(columns=['srch_ci', 'srch_co'], how='any')\n",
    "\n",
    "#conver dates to datetime format to simplify feature engineering\n",
    "train['date_time'] = train['date_time'].str_to_datetime(str_format='%Y-%m-%d %H:%M:%S')\n",
    "train['srch_co'] = train['srch_ci'].str_to_datetime(str_format='%Y-%m-%d')\n",
    "train['srch_ci'] = train['srch_ci'].str_to_datetime(str_format='%Y-%m-%d')\n",
    "\n",
    "#split dates  into components\n",
    "train.add_columns(train['date_time'].split_datetime(column_name_prefix='date_time',limit=['year', 'month', 'day', 'hour', 'weekday']));\n",
    "train.add_columns(train['srch_co'].split_datetime(column_name_prefix='srch_co',limit=['year', 'month', 'day', 'weekday']))\n",
    "train.add_columns(train['srch_ci'].split_datetime(column_name_prefix='srch_ci',limit=['year', 'month', 'day', 'weekday']));\n",
    "\n",
    "#calculate days till check in and duration of stay\n",
    "train['days_till_ci'] = train.apply(lambda row: (row['srch_ci'] - row['date_time']).days)\n",
    "train['days_stay'] = train.apply(lambda row: (row['srch_co'] - row['srch_ci']).days)\n",
    "\n",
    "train.save('Data/train_fe')"
   ]
  },
  {
   "cell_type": "code",
   "execution_count": 24,
   "metadata": {
    "ExecuteTime": {
     "end_time": "2016-05-01T02:44:26.932027",
     "start_time": "2016-05-01T02:43:32.656864"
    },
    "collapsed": false
   },
   "outputs": [],
   "source": [
    "#joining the data with destinations  massively increases the size of the data set, making it hard to work with \n",
    "#train = train.join(destinations, on='srch_destination_id', how='left')"
   ]
  },
  {
   "cell_type": "markdown",
   "metadata": {},
   "source": [
    "# Modeling "
   ]
  },
  {
   "cell_type": "code",
   "execution_count": 31,
   "metadata": {
    "ExecuteTime": {
     "end_time": "2016-05-02T05:17:18.624048",
     "start_time": "2016-05-02T05:17:18.617239"
    },
    "collapsed": false
   },
   "outputs": [],
   "source": [
    "train = gl.SFrame('Data/train_fe')"
   ]
  },
  {
   "cell_type": "code",
   "execution_count": 6,
   "metadata": {
    "ExecuteTime": {
     "end_time": "2016-05-01T06:10:29.987027",
     "start_time": "2016-05-01T06:10:29.983590"
    },
    "collapsed": false
   },
   "outputs": [
    {
     "name": "stdout",
     "output_type": "stream",
     "text": [
      "['site_name', 'user_location_country', 'srch_co.day', 'srch_adults_cnt', 'posa_continent', 'srch_ci.day', 'hotel_country', 'user_location_region', 'hotel_continent', 'srch_destination_id', 'date_time.month', 'user_id', 'date_time.year', 'srch_co.weekday', 'srch_destination_type_id', 'is_mobile', 'srch_ci.year', 'channel', 'srch_rm_cnt', 'days_till_ci', 'srch_children_cnt', 'days_stay', 'date_time.weekday', 'cnt', 'date_time.day', 'srch_ci.month', 'orig_destination_distance', 'srch_co.month', 'srch_ci.weekday', 'is_booking', 'date_time.hour', 'srch_co.year', 'is_package', 'hotel_market', 'user_location_city']\n"
     ]
    }
   ],
   "source": [
    "features = set(train.column_names())\n",
    "features = features - set(['hotel_cluster', 'date_time', 'srch_co', 'srch_ci'])\n",
    "print list(features)"
   ]
  },
  {
   "cell_type": "code",
   "execution_count": null,
   "metadata": {
    "collapsed": true
   },
   "outputs": [],
   "source": [
    "train_small, rest = train.random_split(fraction=0.01, seed=1983)\n",
    "valdate_small, rest = rest.random_split(fraction=0.0001, seed=1983)"
   ]
  },
  {
   "cell_type": "code",
   "execution_count": 22,
   "metadata": {
    "ExecuteTime": {
     "end_time": "2016-05-01T06:27:34.700835",
     "start_time": "2016-05-01T06:27:31.170984"
    },
    "collapsed": false
   },
   "outputs": [
    {
     "name": "stdout",
     "output_type": "stream",
     "text": [
      "375638 3773\n"
     ]
    }
   ],
   "source": [
    "print len(train_small), len(valdate_small)"
   ]
  },
  {
   "cell_type": "markdown",
   "metadata": {},
   "source": [
    "### Spot check\n",
    "Boosted tree wins"
   ]
  },
  {
   "cell_type": "code",
   "execution_count": 13,
   "metadata": {
    "ExecuteTime": {
     "end_time": "2016-05-01T06:18:53.605905",
     "start_time": "2016-05-01T06:13:28.868947"
    },
    "collapsed": true
   },
   "outputs": [
    {
     "data": {
      "text/html": [
       "<pre>Boosted trees classifier:</pre>"
      ],
      "text/plain": [
       "Boosted trees classifier:"
      ]
     },
     "metadata": {},
     "output_type": "display_data"
    },
    {
     "data": {
      "text/html": [
       "<pre>--------------------------------------------------------</pre>"
      ],
      "text/plain": [
       "--------------------------------------------------------"
      ]
     },
     "metadata": {},
     "output_type": "display_data"
    },
    {
     "data": {
      "text/html": [
       "<pre>Number of examples          : 356920</pre>"
      ],
      "text/plain": [
       "Number of examples          : 356920"
      ]
     },
     "metadata": {},
     "output_type": "display_data"
    },
    {
     "data": {
      "text/html": [
       "<pre>Number of classes           : 100</pre>"
      ],
      "text/plain": [
       "Number of classes           : 100"
      ]
     },
     "metadata": {},
     "output_type": "display_data"
    },
    {
     "data": {
      "text/html": [
       "<pre>Number of feature columns   : 35</pre>"
      ],
      "text/plain": [
       "Number of feature columns   : 35"
      ]
     },
     "metadata": {},
     "output_type": "display_data"
    },
    {
     "data": {
      "text/html": [
       "<pre>Number of unpacked features : 35</pre>"
      ],
      "text/plain": [
       "Number of unpacked features : 35"
      ]
     },
     "metadata": {},
     "output_type": "display_data"
    },
    {
     "data": {
      "text/html": [
       "<pre>+-----------+--------------+-------------------+-------------------+---------------------+---------------------+</pre>"
      ],
      "text/plain": [
       "+-----------+--------------+-------------------+-------------------+---------------------+---------------------+"
      ]
     },
     "metadata": {},
     "output_type": "display_data"
    },
    {
     "data": {
      "text/html": [
       "<pre>| Iteration | Elapsed Time | Training-accuracy | Training-log_loss | Validation-accuracy | Validation-log_loss |</pre>"
      ],
      "text/plain": [
       "| Iteration | Elapsed Time | Training-accuracy | Training-log_loss | Validation-accuracy | Validation-log_loss |"
      ]
     },
     "metadata": {},
     "output_type": "display_data"
    },
    {
     "data": {
      "text/html": [
       "<pre>+-----------+--------------+-------------------+-------------------+---------------------+---------------------+</pre>"
      ],
      "text/plain": [
       "+-----------+--------------+-------------------+-------------------+---------------------+---------------------+"
      ]
     },
     "metadata": {},
     "output_type": "display_data"
    },
    {
     "data": {
      "text/html": [
       "<pre>| 1         | 15.883206    | 0.135958          | 4.063796          | 0.123731            | 4.099455            |</pre>"
      ],
      "text/plain": [
       "| 1         | 15.883206    | 0.135958          | 4.063796          | 0.123731            | 4.099455            |"
      ]
     },
     "metadata": {},
     "output_type": "display_data"
    },
    {
     "data": {
      "text/html": [
       "<pre>| 2         | 31.733075    | 0.142858          | 3.916573          | 0.126830            | 3.981869            |</pre>"
      ],
      "text/plain": [
       "| 2         | 31.733075    | 0.142858          | 3.916573          | 0.126830            | 3.981869            |"
      ]
     },
     "metadata": {},
     "output_type": "display_data"
    },
    {
     "data": {
      "text/html": [
       "<pre>| 3         | 47.515896    | 0.148501          | 3.776811          | 0.129448            | 3.835658            |</pre>"
      ],
      "text/plain": [
       "| 3         | 47.515896    | 0.148501          | 3.776811          | 0.129448            | 3.835658            |"
      ]
     },
     "metadata": {},
     "output_type": "display_data"
    },
    {
     "data": {
      "text/html": [
       "<pre>| 4         | 63.458794    | 0.153569          | 3.687493          | 0.132279            | 3.759567            |</pre>"
      ],
      "text/plain": [
       "| 4         | 63.458794    | 0.153569          | 3.687493          | 0.132279            | 3.759567            |"
      ]
     },
     "metadata": {},
     "output_type": "display_data"
    },
    {
     "data": {
      "text/html": [
       "<pre>| 5         | 79.421672    | 0.156730          | 3.616715          | 0.132706            | 3.701488            |</pre>"
      ],
      "text/plain": [
       "| 5         | 79.421672    | 0.156730          | 3.616715          | 0.132706            | 3.701488            |"
      ]
     },
     "metadata": {},
     "output_type": "display_data"
    },
    {
     "data": {
      "text/html": [
       "<pre>| 6         | 95.263271    | 0.159176          | 3.563257          | 0.132867            | 3.660847            |</pre>"
      ],
      "text/plain": [
       "| 6         | 95.263271    | 0.159176          | 3.563257          | 0.132867            | 3.660847            |"
      ]
     },
     "metadata": {},
     "output_type": "display_data"
    },
    {
     "data": {
      "text/html": [
       "<pre>| 7         | 111.089473   | 0.161496          | 3.514572          | 0.132760            | 3.631948            |</pre>"
      ],
      "text/plain": [
       "| 7         | 111.089473   | 0.161496          | 3.514572          | 0.132760            | 3.631948            |"
      ]
     },
     "metadata": {},
     "output_type": "display_data"
    },
    {
     "data": {
      "text/html": [
       "<pre>| 8         | 127.050433   | 0.164917          | 3.470268          | 0.134950            | 3.588419            |</pre>"
      ],
      "text/plain": [
       "| 8         | 127.050433   | 0.164917          | 3.470268          | 0.134950            | 3.588419            |"
      ]
     },
     "metadata": {},
     "output_type": "display_data"
    },
    {
     "data": {
      "text/html": [
       "<pre>| 9         | 143.001403   | 0.167007          | 3.443053          | 0.135752            | 3.571815            |</pre>"
      ],
      "text/plain": [
       "| 9         | 143.001403   | 0.167007          | 3.443053          | 0.135752            | 3.571815            |"
      ]
     },
     "metadata": {},
     "output_type": "display_data"
    },
    {
     "data": {
      "text/html": [
       "<pre>| 10        | 158.899252   | 0.170061          | 3.404516          | 0.136820            | 3.541151            |</pre>"
      ],
      "text/plain": [
       "| 10        | 158.899252   | 0.170061          | 3.404516          | 0.136820            | 3.541151            |"
      ]
     },
     "metadata": {},
     "output_type": "display_data"
    },
    {
     "data": {
      "text/html": [
       "<pre>+-----------+--------------+-------------------+-------------------+---------------------+---------------------+</pre>"
      ],
      "text/plain": [
       "+-----------+--------------+-------------------+-------------------+---------------------+---------------------+"
      ]
     },
     "metadata": {},
     "output_type": "display_data"
    },
    {
     "data": {
      "text/html": [
       "<pre>Random forest classifier:</pre>"
      ],
      "text/plain": [
       "Random forest classifier:"
      ]
     },
     "metadata": {},
     "output_type": "display_data"
    },
    {
     "data": {
      "text/html": [
       "<pre>--------------------------------------------------------</pre>"
      ],
      "text/plain": [
       "--------------------------------------------------------"
      ]
     },
     "metadata": {},
     "output_type": "display_data"
    },
    {
     "data": {
      "text/html": [
       "<pre>Number of examples          : 356920</pre>"
      ],
      "text/plain": [
       "Number of examples          : 356920"
      ]
     },
     "metadata": {},
     "output_type": "display_data"
    },
    {
     "data": {
      "text/html": [
       "<pre>Number of classes           : 100</pre>"
      ],
      "text/plain": [
       "Number of classes           : 100"
      ]
     },
     "metadata": {},
     "output_type": "display_data"
    },
    {
     "data": {
      "text/html": [
       "<pre>Number of feature columns   : 35</pre>"
      ],
      "text/plain": [
       "Number of feature columns   : 35"
      ]
     },
     "metadata": {},
     "output_type": "display_data"
    },
    {
     "data": {
      "text/html": [
       "<pre>Number of unpacked features : 35</pre>"
      ],
      "text/plain": [
       "Number of unpacked features : 35"
      ]
     },
     "metadata": {},
     "output_type": "display_data"
    },
    {
     "data": {
      "text/html": [
       "<pre>+-----------+--------------+-------------------+-------------------+---------------------+---------------------+</pre>"
      ],
      "text/plain": [
       "+-----------+--------------+-------------------+-------------------+---------------------+---------------------+"
      ]
     },
     "metadata": {},
     "output_type": "display_data"
    },
    {
     "data": {
      "text/html": [
       "<pre>| Iteration | Elapsed Time | Training-accuracy | Training-log_loss | Validation-accuracy | Validation-log_loss |</pre>"
      ],
      "text/plain": [
       "| Iteration | Elapsed Time | Training-accuracy | Training-log_loss | Validation-accuracy | Validation-log_loss |"
      ]
     },
     "metadata": {},
     "output_type": "display_data"
    },
    {
     "data": {
      "text/html": [
       "<pre>+-----------+--------------+-------------------+-------------------+---------------------+---------------------+</pre>"
      ],
      "text/plain": [
       "+-----------+--------------+-------------------+-------------------+---------------------+---------------------+"
      ]
     },
     "metadata": {},
     "output_type": "display_data"
    },
    {
     "data": {
      "text/html": [
       "<pre>| 1         | 14.276642    | 0.130903          | 4.690002          | 0.119671            | 4.830637            |</pre>"
      ],
      "text/plain": [
       "| 1         | 14.276642    | 0.130903          | 4.690002          | 0.119671            | 4.830637            |"
      ]
     },
     "metadata": {},
     "output_type": "display_data"
    },
    {
     "data": {
      "text/html": [
       "<pre>| 2         | 28.304883    | 0.137274          | 4.498689          | 0.125548            | 4.623641            |</pre>"
      ],
      "text/plain": [
       "| 2         | 28.304883    | 0.137274          | 4.498689          | 0.125548            | 4.623641            |"
      ]
     },
     "metadata": {},
     "output_type": "display_data"
    },
    {
     "data": {
      "text/html": [
       "<pre>| 3         | 42.404577    | 0.138930          | 4.469845          | 0.127417            | 4.592273            |</pre>"
      ],
      "text/plain": [
       "| 3         | 42.404577    | 0.138930          | 4.469845          | 0.127417            | 4.592273            |"
      ]
     },
     "metadata": {},
     "output_type": "display_data"
    },
    {
     "data": {
      "text/html": [
       "<pre>| 4         | 56.597774    | 0.140197          | 4.419584          | 0.128539            | 4.544301            |</pre>"
      ],
      "text/plain": [
       "| 4         | 56.597774    | 0.140197          | 4.419584          | 0.128539            | 4.544301            |"
      ]
     },
     "metadata": {},
     "output_type": "display_data"
    },
    {
     "data": {
      "text/html": [
       "<pre>| 5         | 70.746409    | 0.140721          | 4.415287          | 0.129501            | 4.539935            |</pre>"
      ],
      "text/plain": [
       "| 5         | 70.746409    | 0.140721          | 4.415287          | 0.129501            | 4.539935            |"
      ]
     },
     "metadata": {},
     "output_type": "display_data"
    },
    {
     "data": {
      "text/html": [
       "<pre>| 6         | 84.909623    | 0.141794          | 4.405701          | 0.129287            | 4.532022            |</pre>"
      ],
      "text/plain": [
       "| 6         | 84.909623    | 0.141794          | 4.405701          | 0.129287            | 4.532022            |"
      ]
     },
     "metadata": {},
     "output_type": "display_data"
    },
    {
     "data": {
      "text/html": [
       "<pre>| 7         | 99.036240    | 0.142379          | 4.398941          | 0.130890            | 4.524396            |</pre>"
      ],
      "text/plain": [
       "| 7         | 99.036240    | 0.142379          | 4.398941          | 0.130890            | 4.524396            |"
      ]
     },
     "metadata": {},
     "output_type": "display_data"
    },
    {
     "data": {
      "text/html": [
       "<pre>| 8         | 112.997920   | 0.142295          | 4.388215          | 0.130890            | 4.513422            |</pre>"
      ],
      "text/plain": [
       "| 8         | 112.997920   | 0.142295          | 4.388215          | 0.130890            | 4.513422            |"
      ]
     },
     "metadata": {},
     "output_type": "display_data"
    },
    {
     "data": {
      "text/html": [
       "<pre>| 9         | 126.988029   | 0.142912          | 4.384412          | 0.130516            | 4.510365            |</pre>"
      ],
      "text/plain": [
       "| 9         | 126.988029   | 0.142912          | 4.384412          | 0.130516            | 4.510365            |"
      ]
     },
     "metadata": {},
     "output_type": "display_data"
    },
    {
     "data": {
      "text/html": [
       "<pre>| 10        | 141.163374   | 0.143438          | 4.382017          | 0.131104            | 4.508211            |</pre>"
      ],
      "text/plain": [
       "| 10        | 141.163374   | 0.143438          | 4.382017          | 0.131104            | 4.508211            |"
      ]
     },
     "metadata": {},
     "output_type": "display_data"
    },
    {
     "data": {
      "text/html": [
       "<pre>+-----------+--------------+-------------------+-------------------+---------------------+---------------------+</pre>"
      ],
      "text/plain": [
       "+-----------+--------------+-------------------+-------------------+---------------------+---------------------+"
      ]
     },
     "metadata": {},
     "output_type": "display_data"
    },
    {
     "data": {
      "text/html": [
       "<pre>Decision tree classifier:</pre>"
      ],
      "text/plain": [
       "Decision tree classifier:"
      ]
     },
     "metadata": {},
     "output_type": "display_data"
    },
    {
     "data": {
      "text/html": [
       "<pre>--------------------------------------------------------</pre>"
      ],
      "text/plain": [
       "--------------------------------------------------------"
      ]
     },
     "metadata": {},
     "output_type": "display_data"
    },
    {
     "data": {
      "text/html": [
       "<pre>Number of examples          : 356920</pre>"
      ],
      "text/plain": [
       "Number of examples          : 356920"
      ]
     },
     "metadata": {},
     "output_type": "display_data"
    },
    {
     "data": {
      "text/html": [
       "<pre>Number of classes           : 100</pre>"
      ],
      "text/plain": [
       "Number of classes           : 100"
      ]
     },
     "metadata": {},
     "output_type": "display_data"
    },
    {
     "data": {
      "text/html": [
       "<pre>Number of feature columns   : 35</pre>"
      ],
      "text/plain": [
       "Number of feature columns   : 35"
      ]
     },
     "metadata": {},
     "output_type": "display_data"
    },
    {
     "data": {
      "text/html": [
       "<pre>Number of unpacked features : 35</pre>"
      ],
      "text/plain": [
       "Number of unpacked features : 35"
      ]
     },
     "metadata": {},
     "output_type": "display_data"
    },
    {
     "data": {
      "text/html": [
       "<pre>+-----------+--------------+-------------------+-------------------+---------------------+---------------------+</pre>"
      ],
      "text/plain": [
       "+-----------+--------------+-------------------+-------------------+---------------------+---------------------+"
      ]
     },
     "metadata": {},
     "output_type": "display_data"
    },
    {
     "data": {
      "text/html": [
       "<pre>| Iteration | Elapsed Time | Training-accuracy | Training-log_loss | Validation-accuracy | Validation-log_loss |</pre>"
      ],
      "text/plain": [
       "| Iteration | Elapsed Time | Training-accuracy | Training-log_loss | Validation-accuracy | Validation-log_loss |"
      ]
     },
     "metadata": {},
     "output_type": "display_data"
    },
    {
     "data": {
      "text/html": [
       "<pre>+-----------+--------------+-------------------+-------------------+---------------------+---------------------+</pre>"
      ],
      "text/plain": [
       "+-----------+--------------+-------------------+-------------------+---------------------+---------------------+"
      ]
     },
     "metadata": {},
     "output_type": "display_data"
    },
    {
     "data": {
      "text/html": [
       "<pre>| 1         | 15.450956    | 0.135958          | 4.063796          | 0.123731            | 4.099455            |</pre>"
      ],
      "text/plain": [
       "| 1         | 15.450956    | 0.135958          | 4.063796          | 0.123731            | 4.099455            |"
      ]
     },
     "metadata": {},
     "output_type": "display_data"
    },
    {
     "data": {
      "text/html": [
       "<pre>+-----------+--------------+-------------------+-------------------+---------------------+---------------------+</pre>"
      ],
      "text/plain": [
       "+-----------+--------------+-------------------+-------------------+---------------------+---------------------+"
      ]
     },
     "metadata": {},
     "output_type": "display_data"
    },
    {
     "name": "stderr",
     "output_type": "stream",
     "text": [
      "2016-05-01 06:18:53,560 [ERROR] graphlab.toolkits._main, 66: Toolkit error: Missing value (None) encountered in column 'orig_destination_distance'. Use the SFrame's dropna function to drop rows with 'None' values in them.\n"
     ]
    },
    {
     "name": "stdout",
     "output_type": "stream",
     "text": [
      "PROGRESS: Creating a validation set from 5 percent of training data. This may take a while.\n",
      "          You can set ``validation_set=None`` to disable validation tracking.\n",
      "\n",
      "PROGRESS: The following methods are available for this type of problem.\n",
      "PROGRESS: BoostedTreesClassifier, RandomForestClassifier, DecisionTreeClassifier, LogisticClassifier\n",
      "PROGRESS: The returned model will be chosen according to validation accuracy.\n"
     ]
    },
    {
     "ename": "ToolkitError",
     "evalue": "Missing value (None) encountered in column 'orig_destination_distance'. Use the SFrame's dropna function to drop rows with 'None' values in them.",
     "output_type": "error",
     "traceback": [
      "\u001b[1;31m---------------------------------------------------------------------------\u001b[0m",
      "\u001b[1;31mToolkitError\u001b[0m                              Traceback (most recent call last)",
      "\u001b[1;32m<ipython-input-13-2b7cfabad703>\u001b[0m in \u001b[0;36m<module>\u001b[1;34m()\u001b[0m\n\u001b[1;32m----> 1\u001b[1;33m \u001b[0mmodel\u001b[0m \u001b[1;33m=\u001b[0m \u001b[0mgl\u001b[0m\u001b[1;33m.\u001b[0m\u001b[0mclassifier\u001b[0m\u001b[1;33m.\u001b[0m\u001b[0mcreate\u001b[0m\u001b[1;33m(\u001b[0m\u001b[0mtrain_small\u001b[0m\u001b[1;33m,\u001b[0m \u001b[0mtarget\u001b[0m\u001b[1;33m=\u001b[0m\u001b[1;34m'hotel_cluster'\u001b[0m\u001b[1;33m,\u001b[0m \u001b[0mfeatures\u001b[0m\u001b[1;33m=\u001b[0m\u001b[0mfeatures\u001b[0m\u001b[1;33m)\u001b[0m\u001b[1;33m\u001b[0m\u001b[0m\n\u001b[0m",
      "\u001b[1;32m/home/ec2-user/anaconda2/envs/dato-env/lib/python2.7/site-packages/graphlab/toolkits/classifier/_classifier.pyc\u001b[0m in \u001b[0;36mcreate\u001b[1;34m(dataset, target, features, validation_set, verbose)\u001b[0m\n\u001b[0;32m     96\u001b[0m             \u001b[0mmodel_selector\u001b[0m \u001b[1;33m=\u001b[0m \u001b[0m_graphlab\u001b[0m\u001b[1;33m.\u001b[0m\u001b[0mextensions\u001b[0m\u001b[1;33m.\u001b[0m\u001b[0m_classifier_available_models\u001b[0m\u001b[1;33m,\u001b[0m\u001b[1;33m\u001b[0m\u001b[0m\n\u001b[0;32m     97\u001b[0m             \u001b[0mfeatures\u001b[0m \u001b[1;33m=\u001b[0m \u001b[0mfeatures\u001b[0m\u001b[1;33m,\u001b[0m \u001b[0mvalidation_set\u001b[0m \u001b[1;33m=\u001b[0m \u001b[0mvalidation_set\u001b[0m\u001b[1;33m,\u001b[0m \u001b[0mverbose\u001b[0m \u001b[1;33m=\u001b[0m\u001b[1;33m\u001b[0m\u001b[0m\n\u001b[1;32m---> 98\u001b[1;33m             verbose)\n\u001b[0m",
      "\u001b[1;32m/home/ec2-user/anaconda2/envs/dato-env/lib/python2.7/site-packages/graphlab/toolkits/_supervised_learning.pyc\u001b[0m in \u001b[0;36mcreate_classification_with_model_selector\u001b[1;34m(dataset, target, model_selector, features, validation_set, verbose)\u001b[0m\n\u001b[0;32m    599\u001b[0m \u001b[1;33m\u001b[0m\u001b[0m\n\u001b[0;32m    600\u001b[0m         \u001b[1;31m# Fit each of the available models\u001b[0m\u001b[1;33m\u001b[0m\u001b[1;33m\u001b[0m\u001b[0m\n\u001b[1;32m--> 601\u001b[1;33m         \u001b[0mm\u001b[0m \u001b[1;33m=\u001b[0m \u001b[0mcreate_selected\u001b[0m\u001b[1;33m(\u001b[0m\u001b[0mmodel_name\u001b[0m\u001b[1;33m,\u001b[0m \u001b[0mdataset\u001b[0m\u001b[1;33m,\u001b[0m \u001b[0mtarget\u001b[0m\u001b[1;33m,\u001b[0m \u001b[0mfeatures\u001b[0m\u001b[1;33m,\u001b[0m \u001b[0mvalidation_set\u001b[0m\u001b[1;33m,\u001b[0m \u001b[0mverbose\u001b[0m\u001b[1;33m)\u001b[0m\u001b[1;33m\u001b[0m\u001b[0m\n\u001b[0m\u001b[0;32m    602\u001b[0m         \u001b[0mmodels\u001b[0m\u001b[1;33m[\u001b[0m\u001b[0mmodel_name\u001b[0m\u001b[1;33m]\u001b[0m \u001b[1;33m=\u001b[0m \u001b[0mm\u001b[0m\u001b[1;33m\u001b[0m\u001b[0m\n\u001b[0;32m    603\u001b[0m \u001b[1;33m\u001b[0m\u001b[0m\n",
      "\u001b[1;32m/home/ec2-user/anaconda2/envs/dato-env/lib/python2.7/site-packages/graphlab/toolkits/_supervised_learning.pyc\u001b[0m in \u001b[0;36mcreate_selected\u001b[1;34m(selected_model_name, dataset, target, features, validation_set, verbose)\u001b[0m\n\u001b[0;32m    664\u001b[0m             \u001b[0mfeatures\u001b[0m\u001b[1;33m=\u001b[0m\u001b[0mfeatures\u001b[0m\u001b[1;33m,\u001b[0m\u001b[1;33m\u001b[0m\u001b[0m\n\u001b[0;32m    665\u001b[0m             \u001b[0mvalidation_set\u001b[0m\u001b[1;33m=\u001b[0m\u001b[0mvalidation_set\u001b[0m\u001b[1;33m,\u001b[0m\u001b[1;33m\u001b[0m\u001b[0m\n\u001b[1;32m--> 666\u001b[1;33m             verbose=verbose)\n\u001b[0m\u001b[0;32m    667\u001b[0m \u001b[1;33m\u001b[0m\u001b[0m\n\u001b[0;32m    668\u001b[0m         \u001b[1;31m# Return the model\u001b[0m\u001b[1;33m\u001b[0m\u001b[1;33m\u001b[0m\u001b[0m\n",
      "\u001b[1;32m/home/ec2-user/anaconda2/envs/dato-env/lib/python2.7/site-packages/graphlab/toolkits/_supervised_learning.pyc\u001b[0m in \u001b[0;36mcreate\u001b[1;34m(dataset, target, model_name, features, validation_set, verbose, distributed, **kwargs)\u001b[0m\n\u001b[0;32m    451\u001b[0m     \u001b[1;32melse\u001b[0m\u001b[1;33m:\u001b[0m\u001b[1;33m\u001b[0m\u001b[0m\n\u001b[0;32m    452\u001b[0m         ret = _graphlab.toolkits._main.run(\"supervised_learning_train\",\n\u001b[1;32m--> 453\u001b[1;33m                                            options, verbose)\n\u001b[0m\u001b[0;32m    454\u001b[0m         \u001b[0mmodel\u001b[0m \u001b[1;33m=\u001b[0m \u001b[0mSupervisedLearningModel\u001b[0m\u001b[1;33m(\u001b[0m\u001b[0mret\u001b[0m\u001b[1;33m[\u001b[0m\u001b[1;34m'model'\u001b[0m\u001b[1;33m]\u001b[0m\u001b[1;33m,\u001b[0m \u001b[0mmodel_name\u001b[0m\u001b[1;33m)\u001b[0m\u001b[1;33m\u001b[0m\u001b[0m\n\u001b[0;32m    455\u001b[0m \u001b[1;33m\u001b[0m\u001b[0m\n",
      "\u001b[1;32m/home/ec2-user/anaconda2/envs/dato-env/lib/python2.7/site-packages/graphlab/toolkits/_main.pyc\u001b[0m in \u001b[0;36mrun\u001b[1;34m(toolkit_name, options, verbose, show_progress)\u001b[0m\n\u001b[0;32m     87\u001b[0m         \u001b[0m_get_metric_tracker\u001b[0m\u001b[1;33m(\u001b[0m\u001b[1;33m)\u001b[0m\u001b[1;33m.\u001b[0m\u001b[0mtrack\u001b[0m\u001b[1;33m(\u001b[0m\u001b[0mmetric_name\u001b[0m\u001b[1;33m,\u001b[0m \u001b[0mvalue\u001b[0m\u001b[1;33m=\u001b[0m\u001b[1;36m1\u001b[0m\u001b[1;33m,\u001b[0m \u001b[0mproperties\u001b[0m\u001b[1;33m=\u001b[0m\u001b[0mtrack_props\u001b[0m\u001b[1;33m,\u001b[0m \u001b[0msend_sys_info\u001b[0m\u001b[1;33m=\u001b[0m\u001b[0mFalse\u001b[0m\u001b[1;33m)\u001b[0m\u001b[1;33m\u001b[0m\u001b[0m\n\u001b[0;32m     88\u001b[0m \u001b[1;33m\u001b[0m\u001b[0m\n\u001b[1;32m---> 89\u001b[1;33m         \u001b[1;32mraise\u001b[0m \u001b[0mToolkitError\u001b[0m\u001b[1;33m(\u001b[0m\u001b[0mstr\u001b[0m\u001b[1;33m(\u001b[0m\u001b[0mmessage\u001b[0m\u001b[1;33m)\u001b[0m\u001b[1;33m)\u001b[0m\u001b[1;33m\u001b[0m\u001b[0m\n\u001b[0m",
      "\u001b[1;31mToolkitError\u001b[0m: Missing value (None) encountered in column 'orig_destination_distance'. Use the SFrame's dropna function to drop rows with 'None' values in them."
     ]
    }
   ],
   "source": [
    "model = gl.classifier.create(train_small, target='hotel_cluster', features=features)"
   ]
  },
  {
   "cell_type": "markdown",
   "metadata": {
    "ExecuteTime": {
     "end_time": "2016-05-01T07:09:51.191974",
     "start_time": "2016-05-01T07:09:51.189990"
    }
   },
   "source": [
    "## Boosted Tree"
   ]
  },
  {
   "cell_type": "code",
   "execution_count": 16,
   "metadata": {
    "ExecuteTime": {
     "end_time": "2016-05-01T06:24:18.876700",
     "start_time": "2016-05-01T06:21:40.716616"
    },
    "collapsed": false
   },
   "outputs": [
    {
     "data": {
      "text/html": [
       "<pre>Boosted trees classifier:</pre>"
      ],
      "text/plain": [
       "Boosted trees classifier:"
      ]
     },
     "metadata": {},
     "output_type": "display_data"
    },
    {
     "data": {
      "text/html": [
       "<pre>--------------------------------------------------------</pre>"
      ],
      "text/plain": [
       "--------------------------------------------------------"
      ]
     },
     "metadata": {},
     "output_type": "display_data"
    },
    {
     "data": {
      "text/html": [
       "<pre>Number of examples          : 356826</pre>"
      ],
      "text/plain": [
       "Number of examples          : 356826"
      ]
     },
     "metadata": {},
     "output_type": "display_data"
    },
    {
     "data": {
      "text/html": [
       "<pre>Number of classes           : 100</pre>"
      ],
      "text/plain": [
       "Number of classes           : 100"
      ]
     },
     "metadata": {},
     "output_type": "display_data"
    },
    {
     "data": {
      "text/html": [
       "<pre>Number of feature columns   : 35</pre>"
      ],
      "text/plain": [
       "Number of feature columns   : 35"
      ]
     },
     "metadata": {},
     "output_type": "display_data"
    },
    {
     "data": {
      "text/html": [
       "<pre>Number of unpacked features : 35</pre>"
      ],
      "text/plain": [
       "Number of unpacked features : 35"
      ]
     },
     "metadata": {},
     "output_type": "display_data"
    },
    {
     "data": {
      "text/html": [
       "<pre>+-----------+--------------+-------------------+-------------------+---------------------+---------------------+</pre>"
      ],
      "text/plain": [
       "+-----------+--------------+-------------------+-------------------+---------------------+---------------------+"
      ]
     },
     "metadata": {},
     "output_type": "display_data"
    },
    {
     "data": {
      "text/html": [
       "<pre>| Iteration | Elapsed Time | Training-accuracy | Training-log_loss | Validation-accuracy | Validation-log_loss |</pre>"
      ],
      "text/plain": [
       "| Iteration | Elapsed Time | Training-accuracy | Training-log_loss | Validation-accuracy | Validation-log_loss |"
      ]
     },
     "metadata": {},
     "output_type": "display_data"
    },
    {
     "data": {
      "text/html": [
       "<pre>+-----------+--------------+-------------------+-------------------+---------------------+---------------------+</pre>"
      ],
      "text/plain": [
       "+-----------+--------------+-------------------+-------------------+---------------------+---------------------+"
      ]
     },
     "metadata": {},
     "output_type": "display_data"
    },
    {
     "data": {
      "text/html": [
       "<pre>| 1         | 15.814581    | 0.135663          | 4.065541          | 0.128535            | 4.092953            |</pre>"
      ],
      "text/plain": [
       "| 1         | 15.814581    | 0.135663          | 4.065541          | 0.128535            | 4.092953            |"
      ]
     },
     "metadata": {},
     "output_type": "display_data"
    },
    {
     "data": {
      "text/html": [
       "<pre>| 2         | 31.413184    | 0.141181          | 3.920436          | 0.130236            | 3.973631            |</pre>"
      ],
      "text/plain": [
       "| 2         | 31.413184    | 0.141181          | 3.920436          | 0.130236            | 3.973631            |"
      ]
     },
     "metadata": {},
     "output_type": "display_data"
    },
    {
     "data": {
      "text/html": [
       "<pre>| 3         | 46.907316    | 0.148355          | 3.777675          | 0.136349            | 3.837952            |</pre>"
      ],
      "text/plain": [
       "| 3         | 46.907316    | 0.148355          | 3.777675          | 0.136349            | 3.837952            |"
      ]
     },
     "metadata": {},
     "output_type": "display_data"
    },
    {
     "data": {
      "text/html": [
       "<pre>| 4         | 62.407468    | 0.153021          | 3.685279          | 0.136668            | 3.762078            |</pre>"
      ],
      "text/plain": [
       "| 4         | 62.407468    | 0.153021          | 3.685279          | 0.136668            | 3.762078            |"
      ]
     },
     "metadata": {},
     "output_type": "display_data"
    },
    {
     "data": {
      "text/html": [
       "<pre>| 5         | 78.021386    | 0.156715          | 3.611607          | 0.141505            | 3.699117            |</pre>"
      ],
      "text/plain": [
       "| 5         | 78.021386    | 0.156715          | 3.611607          | 0.141505            | 3.699117            |"
      ]
     },
     "metadata": {},
     "output_type": "display_data"
    },
    {
     "data": {
      "text/html": [
       "<pre>| 6         | 93.576398    | 0.158528          | 3.575169          | 0.139698            | 3.683334            |</pre>"
      ],
      "text/plain": [
       "| 6         | 93.576398    | 0.158528          | 3.575169          | 0.139698            | 3.683334            |"
      ]
     },
     "metadata": {},
     "output_type": "display_data"
    },
    {
     "data": {
      "text/html": [
       "<pre>| 7         | 109.182742   | 0.162547          | 3.511318          | 0.141399            | 3.616912            |</pre>"
      ],
      "text/plain": [
       "| 7         | 109.182742   | 0.162547          | 3.511318          | 0.141399            | 3.616912            |"
      ]
     },
     "metadata": {},
     "output_type": "display_data"
    },
    {
     "data": {
      "text/html": [
       "<pre>| 8         | 124.815967   | 0.165170          | 3.463477          | 0.142196            | 3.577396            |</pre>"
      ],
      "text/plain": [
       "| 8         | 124.815967   | 0.165170          | 3.463477          | 0.142196            | 3.577396            |"
      ]
     },
     "metadata": {},
     "output_type": "display_data"
    },
    {
     "data": {
      "text/html": [
       "<pre>| 9         | 140.327488   | 0.166448          | 3.450088          | 0.142143            | 3.579726            |</pre>"
      ],
      "text/plain": [
       "| 9         | 140.327488   | 0.166448          | 3.450088          | 0.142143            | 3.579726            |"
      ]
     },
     "metadata": {},
     "output_type": "display_data"
    },
    {
     "data": {
      "text/html": [
       "<pre>| 10        | 155.716307   | 0.169466          | 3.398598          | 0.143153            | 3.538574            |</pre>"
      ],
      "text/plain": [
       "| 10        | 155.716307   | 0.169466          | 3.398598          | 0.143153            | 3.538574            |"
      ]
     },
     "metadata": {},
     "output_type": "display_data"
    },
    {
     "data": {
      "text/html": [
       "<pre>+-----------+--------------+-------------------+-------------------+---------------------+---------------------+</pre>"
      ],
      "text/plain": [
       "+-----------+--------------+-------------------+-------------------+---------------------+---------------------+"
      ]
     },
     "metadata": {},
     "output_type": "display_data"
    },
    {
     "name": "stdout",
     "output_type": "stream",
     "text": [
      "PROGRESS: Creating a validation set from 5 percent of training data. This may take a while.\n",
      "          You can set ``validation_set=None`` to disable validation tracking.\n",
      "\n"
     ]
    }
   ],
   "source": [
    "model = gl.boosted_trees_classifier.create(train_small, target='hotel_cluster', features=features)"
   ]
  },
  {
   "cell_type": "code",
   "execution_count": 17,
   "metadata": {
    "ExecuteTime": {
     "end_time": "2016-05-01T06:24:18.899715",
     "start_time": "2016-05-01T06:24:18.878511"
    },
    "collapsed": true
   },
   "outputs": [],
   "source": [
    "model.save('Models/model')"
   ]
  },
  {
   "cell_type": "code",
   "execution_count": 74,
   "metadata": {
    "ExecuteTime": {
     "end_time": "2016-05-01T06:53:57.595148",
     "start_time": "2016-05-01T06:53:57.535807"
    },
    "collapsed": false
   },
   "outputs": [
    {
     "data": {
      "text/html": [
       "<div style=\"max-height:1000px;max-width:1500px;overflow:auto;\"><table frame=\"box\" rules=\"cols\">\n",
       "    <tr>\n",
       "        <th style=\"padding-left: 1em; padding-right: 1em; text-align: center\">id</th>\n",
       "        <th style=\"padding-left: 1em; padding-right: 1em; text-align: center\">class</th>\n",
       "        <th style=\"padding-left: 1em; padding-right: 1em; text-align: center\">rank</th>\n",
       "    </tr>\n",
       "    <tr>\n",
       "        <td style=\"padding-left: 1em; padding-right: 1em; text-align: center; vertical-align: top\">0</td>\n",
       "        <td style=\"padding-left: 1em; padding-right: 1em; text-align: center; vertical-align: top\">41</td>\n",
       "        <td style=\"padding-left: 1em; padding-right: 1em; text-align: center; vertical-align: top\">0</td>\n",
       "    </tr>\n",
       "    <tr>\n",
       "        <td style=\"padding-left: 1em; padding-right: 1em; text-align: center; vertical-align: top\">0</td>\n",
       "        <td style=\"padding-left: 1em; padding-right: 1em; text-align: center; vertical-align: top\">73</td>\n",
       "        <td style=\"padding-left: 1em; padding-right: 1em; text-align: center; vertical-align: top\">1</td>\n",
       "    </tr>\n",
       "    <tr>\n",
       "        <td style=\"padding-left: 1em; padding-right: 1em; text-align: center; vertical-align: top\">0</td>\n",
       "        <td style=\"padding-left: 1em; padding-right: 1em; text-align: center; vertical-align: top\">64</td>\n",
       "        <td style=\"padding-left: 1em; padding-right: 1em; text-align: center; vertical-align: top\">2</td>\n",
       "    </tr>\n",
       "    <tr>\n",
       "        <td style=\"padding-left: 1em; padding-right: 1em; text-align: center; vertical-align: top\">0</td>\n",
       "        <td style=\"padding-left: 1em; padding-right: 1em; text-align: center; vertical-align: top\">91</td>\n",
       "        <td style=\"padding-left: 1em; padding-right: 1em; text-align: center; vertical-align: top\">3</td>\n",
       "    </tr>\n",
       "    <tr>\n",
       "        <td style=\"padding-left: 1em; padding-right: 1em; text-align: center; vertical-align: top\">0</td>\n",
       "        <td style=\"padding-left: 1em; padding-right: 1em; text-align: center; vertical-align: top\">1</td>\n",
       "        <td style=\"padding-left: 1em; padding-right: 1em; text-align: center; vertical-align: top\">4</td>\n",
       "    </tr>\n",
       "    <tr>\n",
       "        <td style=\"padding-left: 1em; padding-right: 1em; text-align: center; vertical-align: top\">1</td>\n",
       "        <td style=\"padding-left: 1em; padding-right: 1em; text-align: center; vertical-align: top\">91</td>\n",
       "        <td style=\"padding-left: 1em; padding-right: 1em; text-align: center; vertical-align: top\">0</td>\n",
       "    </tr>\n",
       "    <tr>\n",
       "        <td style=\"padding-left: 1em; padding-right: 1em; text-align: center; vertical-align: top\">1</td>\n",
       "        <td style=\"padding-left: 1em; padding-right: 1em; text-align: center; vertical-align: top\">28</td>\n",
       "        <td style=\"padding-left: 1em; padding-right: 1em; text-align: center; vertical-align: top\">1</td>\n",
       "    </tr>\n",
       "    <tr>\n",
       "        <td style=\"padding-left: 1em; padding-right: 1em; text-align: center; vertical-align: top\">1</td>\n",
       "        <td style=\"padding-left: 1em; padding-right: 1em; text-align: center; vertical-align: top\">48</td>\n",
       "        <td style=\"padding-left: 1em; padding-right: 1em; text-align: center; vertical-align: top\">2</td>\n",
       "    </tr>\n",
       "    <tr>\n",
       "        <td style=\"padding-left: 1em; padding-right: 1em; text-align: center; vertical-align: top\">1</td>\n",
       "        <td style=\"padding-left: 1em; padding-right: 1em; text-align: center; vertical-align: top\">94</td>\n",
       "        <td style=\"padding-left: 1em; padding-right: 1em; text-align: center; vertical-align: top\">3</td>\n",
       "    </tr>\n",
       "    <tr>\n",
       "        <td style=\"padding-left: 1em; padding-right: 1em; text-align: center; vertical-align: top\">1</td>\n",
       "        <td style=\"padding-left: 1em; padding-right: 1em; text-align: center; vertical-align: top\">1</td>\n",
       "        <td style=\"padding-left: 1em; padding-right: 1em; text-align: center; vertical-align: top\">4</td>\n",
       "    </tr>\n",
       "</table>\n",
       "[25 rows x 3 columns]<br/>Note: Only the head of the SFrame is printed.<br/>You can use print_rows(num_rows=m, num_columns=n) to print more rows and columns.\n",
       "</div>"
      ],
      "text/plain": [
       "Columns:\n",
       "\tid\tint\n",
       "\tclass\tint\n",
       "\trank\tint\n",
       "\n",
       "Rows: 25\n",
       "\n",
       "Data:\n",
       "+----+-------+------+\n",
       "| id | class | rank |\n",
       "+----+-------+------+\n",
       "| 0  |   41  |  0   |\n",
       "| 0  |   73  |  1   |\n",
       "| 0  |   64  |  2   |\n",
       "| 0  |   91  |  3   |\n",
       "| 0  |   1   |  4   |\n",
       "| 1  |   91  |  0   |\n",
       "| 1  |   28  |  1   |\n",
       "| 1  |   48  |  2   |\n",
       "| 1  |   94  |  3   |\n",
       "| 1  |   1   |  4   |\n",
       "+----+-------+------+\n",
       "[25 rows x 3 columns]\n",
       "Note: Only the head of the SFrame is printed.\n",
       "You can use print_rows(num_rows=m, num_columns=n) to print more rows and columns."
      ]
     },
     "execution_count": 74,
     "metadata": {},
     "output_type": "execute_result"
    }
   ],
   "source": [
    "pred = model.predict_topk(valdate_small[0:5],output_type = 'rank', k=5)\n",
    "pred"
   ]
  },
  {
   "cell_type": "code",
   "execution_count": 79,
   "metadata": {
    "ExecuteTime": {
     "end_time": "2016-05-01T06:57:35.325040",
     "start_time": "2016-05-01T06:57:35.320225"
    },
    "collapsed": false
   },
   "outputs": [],
   "source": [
    "def create_predictions(test):\n",
    "    k = 5\n",
    "    pred = model.predict_topk(test, output_type = 'rank', k=k)\n",
    "    pred = pred.groupby('id', {'hotel_cluster':gl.aggregate.CONCAT('rank', 'class')})\n",
    "    pred['hotel_cluster'] = pred['hotel_cluster'].apply(lambda d: ' '.join([str(d[r]) for r in range(0,k)]))\n",
    "    return pred"
   ]
  },
  {
   "cell_type": "code",
   "execution_count": 80,
   "metadata": {
    "ExecuteTime": {
     "end_time": "2016-05-01T06:57:36.866923",
     "start_time": "2016-05-01T06:57:36.772914"
    },
    "collapsed": false
   },
   "outputs": [
    {
     "data": {
      "text/html": [
       "<div style=\"max-height:1000px;max-width:1500px;overflow:auto;\"><table frame=\"box\" rules=\"cols\">\n",
       "    <tr>\n",
       "        <th style=\"padding-left: 1em; padding-right: 1em; text-align: center\">id</th>\n",
       "        <th style=\"padding-left: 1em; padding-right: 1em; text-align: center\">hotel_cluster</th>\n",
       "    </tr>\n",
       "    <tr>\n",
       "        <td style=\"padding-left: 1em; padding-right: 1em; text-align: center; vertical-align: top\">0</td>\n",
       "        <td style=\"padding-left: 1em; padding-right: 1em; text-align: center; vertical-align: top\">41 73 64 91 1</td>\n",
       "    </tr>\n",
       "    <tr>\n",
       "        <td style=\"padding-left: 1em; padding-right: 1em; text-align: center; vertical-align: top\">1</td>\n",
       "        <td style=\"padding-left: 1em; padding-right: 1em; text-align: center; vertical-align: top\">91 28 48 94 1</td>\n",
       "    </tr>\n",
       "    <tr>\n",
       "        <td style=\"padding-left: 1em; padding-right: 1em; text-align: center; vertical-align: top\">3</td>\n",
       "        <td style=\"padding-left: 1em; padding-right: 1em; text-align: center; vertical-align: top\">91 48 95 33 1</td>\n",
       "    </tr>\n",
       "    <tr>\n",
       "        <td style=\"padding-left: 1em; padding-right: 1em; text-align: center; vertical-align: top\">2</td>\n",
       "        <td style=\"padding-left: 1em; padding-right: 1em; text-align: center; vertical-align: top\">80 92 26 52 1</td>\n",
       "    </tr>\n",
       "    <tr>\n",
       "        <td style=\"padding-left: 1em; padding-right: 1em; text-align: center; vertical-align: top\">4</td>\n",
       "        <td style=\"padding-left: 1em; padding-right: 1em; text-align: center; vertical-align: top\">62 36 58 46 1</td>\n",
       "    </tr>\n",
       "</table>\n",
       "[5 rows x 2 columns]<br/>\n",
       "</div>"
      ],
      "text/plain": [
       "Columns:\n",
       "\tid\tint\n",
       "\thotel_cluster\tstr\n",
       "\n",
       "Rows: 5\n",
       "\n",
       "Data:\n",
       "+----+---------------+\n",
       "| id | hotel_cluster |\n",
       "+----+---------------+\n",
       "| 0  | 41 73 64 91 1 |\n",
       "| 1  | 91 28 48 94 1 |\n",
       "| 3  | 91 48 95 33 1 |\n",
       "| 2  | 80 92 26 52 1 |\n",
       "| 4  | 62 36 58 46 1 |\n",
       "+----+---------------+\n",
       "[5 rows x 2 columns]"
      ]
     },
     "execution_count": 80,
     "metadata": {},
     "output_type": "execute_result"
    }
   ],
   "source": [
    "create_predictions(valdate_small[0:5])"
   ]
  },
  {
   "cell_type": "code",
   "execution_count": 20,
   "metadata": {
    "ExecuteTime": {
     "end_time": "2016-05-01T06:25:35.262974",
     "start_time": "2016-05-01T06:25:35.240965"
    },
    "collapsed": false
   },
   "outputs": [
    {
     "ename": "ImportError",
     "evalue": "No module named ml_metrics",
     "output_type": "error",
     "traceback": [
      "\u001b[1;31m---------------------------------------------------------------------------\u001b[0m",
      "\u001b[1;31mImportError\u001b[0m                               Traceback (most recent call last)",
      "\u001b[1;32m<ipython-input-20-cf5e17e478c4>\u001b[0m in \u001b[0;36m<module>\u001b[1;34m()\u001b[0m\n\u001b[1;32m----> 1\u001b[1;33m \u001b[1;32mimport\u001b[0m \u001b[0mml_metrics\u001b[0m\u001b[1;33m\u001b[0m\u001b[0m\n\u001b[0m",
      "\u001b[1;31mImportError\u001b[0m: No module named ml_metrics"
     ]
    }
   ],
   "source": [
    "import ml_metrics"
   ]
  },
  {
   "cell_type": "markdown",
   "metadata": {
    "collapsed": true
   },
   "source": [
    "# More features"
   ]
  },
  {
   "cell_type": "code",
   "execution_count": null,
   "metadata": {
    "collapsed": true
   },
   "outputs": [],
   "source": [
    "train['score'] = train['is_booking'] + train['cnt'] *0.1"
   ]
  },
  {
   "cell_type": "code",
   "execution_count": 32,
   "metadata": {
    "ExecuteTime": {
     "end_time": "2016-05-02T05:20:09.424772",
     "start_time": "2016-05-02T05:20:09.419964"
    },
    "collapsed": false
   },
   "outputs": [
    {
     "data": {
      "text/plain": [
       "['id',\n",
       " 'date_time',\n",
       " 'site_name',\n",
       " 'posa_continent',\n",
       " 'user_location_country',\n",
       " 'user_location_region',\n",
       " 'user_location_city',\n",
       " 'orig_destination_distance',\n",
       " 'user_id',\n",
       " 'is_mobile',\n",
       " 'is_package',\n",
       " 'channel',\n",
       " 'srch_ci',\n",
       " 'srch_co',\n",
       " 'srch_adults_cnt',\n",
       " 'srch_children_cnt',\n",
       " 'srch_rm_cnt',\n",
       " 'srch_destination_id',\n",
       " 'srch_destination_type_id',\n",
       " 'hotel_continent',\n",
       " 'hotel_country',\n",
       " 'hotel_market']"
      ]
     },
     "execution_count": 32,
     "metadata": {},
     "output_type": "execute_result"
    }
   ],
   "source": [
    "test.column_names()"
   ]
  },
  {
   "cell_type": "code",
   "execution_count": null,
   "metadata": {
    "collapsed": true
   },
   "outputs": [],
   "source": []
  }
 ],
 "metadata": {
  "kernelspec": {
   "display_name": "Python 2",
   "language": "python",
   "name": "python2"
  },
  "language_info": {
   "codemirror_mode": {
    "name": "ipython",
    "version": 2
   },
   "file_extension": ".py",
   "mimetype": "text/x-python",
   "name": "python",
   "nbconvert_exporter": "python",
   "pygments_lexer": "ipython2",
   "version": "2.7.11"
  },
  "notify_time": "5",
  "toc": {
   "toc_cell": false,
   "toc_number_sections": false,
   "toc_section_display": "none",
   "toc_threshold": "2",
   "toc_window_display": true
  }
 },
 "nbformat": 4,
 "nbformat_minor": 0
}
